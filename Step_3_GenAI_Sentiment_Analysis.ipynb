{
 "cells": [
  {
   "cell_type": "code",
   "execution_count": 1,
   "id": "c7ac76ca-f93c-4dd5-8000-e3905990ccc1",
   "metadata": {},
   "outputs": [],
   "source": [
    "import pandas as pd\n",
    "from openai import OpenAI\n",
    "import os\n",
    "from dotenv import load_dotenv\n",
    "from tqdm import tqdm\n",
    "import time"
   ]
  },
  {
   "cell_type": "code",
   "execution_count": 2,
   "id": "62cd79d2-bf25-4575-9d89-467848221165",
   "metadata": {},
   "outputs": [
    {
     "data": {
      "text/plain": [
       "True"
      ]
     },
     "execution_count": 2,
     "metadata": {},
     "output_type": "execute_result"
    }
   ],
   "source": [
    "# Load environment variables from the .env file\n",
    "load_dotenv(\".env\")"
   ]
  },
  {
   "cell_type": "code",
   "execution_count": 3,
   "id": "f2755b6b-bcff-4ba2-ba42-2ab5c99fefd4",
   "metadata": {},
   "outputs": [],
   "source": [
    "df = pd.read_csv(\"data/nailsnbeyond_reviews.csv\")"
   ]
  },
  {
   "cell_type": "code",
   "execution_count": 4,
   "id": "50a1fb4c-8f57-4b3b-8f06-d7d8b316433a",
   "metadata": {},
   "outputs": [
    {
     "data": {
      "text/plain": [
       "1183"
      ]
     },
     "execution_count": 4,
     "metadata": {},
     "output_type": "execute_result"
    }
   ],
   "source": [
    "len(df)"
   ]
  },
  {
   "cell_type": "code",
   "execution_count": 5,
   "id": "abd63ebb-6f0c-4d53-9c6c-daec2426b7f6",
   "metadata": {},
   "outputs": [
    {
     "data": {
      "text/html": [
       "<div>\n",
       "<style scoped>\n",
       "    .dataframe tbody tr th:only-of-type {\n",
       "        vertical-align: middle;\n",
       "    }\n",
       "\n",
       "    .dataframe tbody tr th {\n",
       "        vertical-align: top;\n",
       "    }\n",
       "\n",
       "    .dataframe thead th {\n",
       "        text-align: right;\n",
       "    }\n",
       "</style>\n",
       "<table border=\"1\" class=\"dataframe\">\n",
       "  <thead>\n",
       "    <tr style=\"text-align: right;\">\n",
       "      <th></th>\n",
       "      <th>id_review</th>\n",
       "      <th>caption</th>\n",
       "      <th>relative_date</th>\n",
       "      <th>review_date</th>\n",
       "      <th>retrieval_date</th>\n",
       "      <th>rating</th>\n",
       "      <th>username</th>\n",
       "      <th>n_review_user</th>\n",
       "      <th>place_id</th>\n",
       "    </tr>\n",
       "  </thead>\n",
       "  <tbody>\n",
       "    <tr>\n",
       "      <th>0</th>\n",
       "      <td>ChdDSUhNMG9nS0VJQ0FnSUNmaHJ2MnBnRRAB</td>\n",
       "      <td>took a friend had a nice experience miss savit...</td>\n",
       "      <td>an hour ago</td>\n",
       "      <td>2024-12-28 20:07:45.553247</td>\n",
       "      <td>2024-12-28 20:07:45.553306</td>\n",
       "      <td>5.0</td>\n",
       "      <td>tarun</td>\n",
       "      <td>0</td>\n",
       "      <td>ChIJu_BEcNhnUjoR1nBoaKnbQU8</td>\n",
       "    </tr>\n",
       "    <tr>\n",
       "      <th>1</th>\n",
       "      <td>ChdDSUhNMG9nS0VJQ0FnSUNmaHBTQi1RRRAB</td>\n",
       "      <td>Zami did an amazing job with my nails. All the...</td>\n",
       "      <td>3 hours ago</td>\n",
       "      <td>2024-12-28 20:07:45.553465</td>\n",
       "      <td>2024-12-28 20:07:45.553504</td>\n",
       "      <td>5.0</td>\n",
       "      <td>Ragavi Prabhu</td>\n",
       "      <td>62</td>\n",
       "      <td>ChIJu_BEcNhnUjoR1nBoaKnbQU8</td>\n",
       "    </tr>\n",
       "    <tr>\n",
       "      <th>2</th>\n",
       "      <td>ChZDSUhNMG9nS0VJQ0FnSUNmaHZDSkx3EAE</td>\n",
       "      <td>Nail art was done so neat and quick by Savitri...</td>\n",
       "      <td>3 hours ago</td>\n",
       "      <td>2024-12-28 20:07:45.553636</td>\n",
       "      <td>2024-12-28 20:07:45.553671</td>\n",
       "      <td>5.0</td>\n",
       "      <td>Nandhini kumanan</td>\n",
       "      <td>17</td>\n",
       "      <td>ChIJu_BEcNhnUjoR1nBoaKnbQU8</td>\n",
       "    </tr>\n",
       "    <tr>\n",
       "      <th>3</th>\n",
       "      <td>ChdDSUhNMG9nS0VJQ0FnSUR2ajdYMnNnRRAB</td>\n",
       "      <td>NaN</td>\n",
       "      <td>3 days ago</td>\n",
       "      <td>2024-12-25 20:07:45.553848</td>\n",
       "      <td>2024-12-28 20:07:45.553949</td>\n",
       "      <td>5.0</td>\n",
       "      <td>Shreeja Katama</td>\n",
       "      <td>0</td>\n",
       "      <td>ChIJu_BEcNhnUjoR1nBoaKnbQU8</td>\n",
       "    </tr>\n",
       "    <tr>\n",
       "      <th>4</th>\n",
       "      <td>ChdDSUhNMG9nS0VJQ0FnSUR2ajlXanFnRRAB</td>\n",
       "      <td>So so happy with my experience. Savithri and S...</td>\n",
       "      <td>3 days ago</td>\n",
       "      <td>2024-12-25 20:07:45.554079</td>\n",
       "      <td>2024-12-28 20:07:45.554116</td>\n",
       "      <td>5.0</td>\n",
       "      <td>khushi lodha</td>\n",
       "      <td>0</td>\n",
       "      <td>ChIJu_BEcNhnUjoR1nBoaKnbQU8</td>\n",
       "    </tr>\n",
       "  </tbody>\n",
       "</table>\n",
       "</div>"
      ],
      "text/plain": [
       "                              id_review  \\\n",
       "0  ChdDSUhNMG9nS0VJQ0FnSUNmaHJ2MnBnRRAB   \n",
       "1  ChdDSUhNMG9nS0VJQ0FnSUNmaHBTQi1RRRAB   \n",
       "2   ChZDSUhNMG9nS0VJQ0FnSUNmaHZDSkx3EAE   \n",
       "3  ChdDSUhNMG9nS0VJQ0FnSUR2ajdYMnNnRRAB   \n",
       "4  ChdDSUhNMG9nS0VJQ0FnSUR2ajlXanFnRRAB   \n",
       "\n",
       "                                             caption relative_date  \\\n",
       "0  took a friend had a nice experience miss savit...   an hour ago   \n",
       "1  Zami did an amazing job with my nails. All the...   3 hours ago   \n",
       "2  Nail art was done so neat and quick by Savitri...   3 hours ago   \n",
       "3                                                NaN    3 days ago   \n",
       "4  So so happy with my experience. Savithri and S...    3 days ago   \n",
       "\n",
       "                  review_date              retrieval_date  rating  \\\n",
       "0  2024-12-28 20:07:45.553247  2024-12-28 20:07:45.553306     5.0   \n",
       "1  2024-12-28 20:07:45.553465  2024-12-28 20:07:45.553504     5.0   \n",
       "2  2024-12-28 20:07:45.553636  2024-12-28 20:07:45.553671     5.0   \n",
       "3  2024-12-25 20:07:45.553848  2024-12-28 20:07:45.553949     5.0   \n",
       "4  2024-12-25 20:07:45.554079  2024-12-28 20:07:45.554116     5.0   \n",
       "\n",
       "           username  n_review_user                     place_id  \n",
       "0             tarun              0  ChIJu_BEcNhnUjoR1nBoaKnbQU8  \n",
       "1     Ragavi Prabhu             62  ChIJu_BEcNhnUjoR1nBoaKnbQU8  \n",
       "2  Nandhini kumanan             17  ChIJu_BEcNhnUjoR1nBoaKnbQU8  \n",
       "3    Shreeja Katama              0  ChIJu_BEcNhnUjoR1nBoaKnbQU8  \n",
       "4      khushi lodha              0  ChIJu_BEcNhnUjoR1nBoaKnbQU8  "
      ]
     },
     "execution_count": 5,
     "metadata": {},
     "output_type": "execute_result"
    }
   ],
   "source": [
    "df.head()"
   ]
  },
  {
   "cell_type": "code",
   "execution_count": 6,
   "id": "3e7b1b2c-4376-4afc-b6f0-ee096ceec439",
   "metadata": {},
   "outputs": [
    {
     "data": {
      "text/plain": [
       "place_id\n",
       "ChIJCbZckZlnUjoRBp3RFB6IV-E    269\n",
       "ChIJWXplDnFlUjoR89bQNddfMSU    257\n",
       "ChIJu_BEcNhnUjoR1nBoaKnbQU8    180\n",
       "ChIJY90jRy5ZqDsRT9N4d87W9to    162\n",
       "ChIJVafVAUFbUjoRl9Y7PEjQN1U    157\n",
       "ChIJKWj4tF5XqDsRit2Pu1lj4qc    133\n",
       "ChIJw5RiJz1ZqDsRJ8iX10Y9LTs     22\n",
       "ChIJGQF0CEJmUjoRdH35zqWvIeM      2\n",
       "ChIJmzVJsNpnUjoRO-VbI3aMgn0      1\n",
       "Name: count, dtype: int64"
      ]
     },
     "execution_count": 6,
     "metadata": {},
     "output_type": "execute_result"
    }
   ],
   "source": [
    "df[\"place_id\"].value_counts()"
   ]
  },
  {
   "cell_type": "code",
   "execution_count": 7,
   "id": "9aa1dc2d-3bfd-401a-a424-367057ceacff",
   "metadata": {},
   "outputs": [
    {
     "data": {
      "text/plain": [
       "9"
      ]
     },
     "execution_count": 7,
     "metadata": {},
     "output_type": "execute_result"
    }
   ],
   "source": [
    "len(df[\"place_id\"].value_counts())"
   ]
  },
  {
   "cell_type": "code",
   "execution_count": 8,
   "id": "d6860bfc-0ad7-463f-88db-6ec3375658eb",
   "metadata": {},
   "outputs": [
    {
     "data": {
      "text/plain": [
       "relative_date\n",
       "8 months ago     198\n",
       "3 months ago     160\n",
       "7 months ago     155\n",
       "2 months ago     114\n",
       "6 months ago      86\n",
       "5 months ago      86\n",
       "4 months ago      76\n",
       "3 weeks ago       69\n",
       "10 months ago     63\n",
       "2 weeks ago       42\n",
       "9 months ago      35\n",
       "11 months ago     29\n",
       "5 days ago        13\n",
       "3 days ago        11\n",
       "6 days ago        11\n",
       "2 days ago         9\n",
       "4 weeks ago        7\n",
       "4 days ago         6\n",
       "an hour ago        4\n",
       "3 hours ago        4\n",
       "2 hours ago        3\n",
       "4 hours ago        1\n",
       "7 hours ago        1\n",
       "Name: count, dtype: int64"
      ]
     },
     "execution_count": 8,
     "metadata": {},
     "output_type": "execute_result"
    }
   ],
   "source": [
    "df[\"relative_date\"].value_counts()"
   ]
  },
  {
   "cell_type": "code",
   "execution_count": 9,
   "id": "87576587-0da6-4d50-86d3-0c55cf14591a",
   "metadata": {},
   "outputs": [
    {
     "data": {
      "text/plain": [
       "review_date\n",
       "2024-12-28 20:07:45.553247    1\n",
       "2024-09-28 20:18:27.656940    1\n",
       "2024-07-28 20:18:31.933922    1\n",
       "2024-07-28 20:18:31.933748    1\n",
       "2024-07-28 20:18:31.933578    1\n",
       "                             ..\n",
       "2024-05-28 20:13:02.302919    1\n",
       "2024-05-28 20:13:02.302747    1\n",
       "2024-05-28 20:13:02.302569    1\n",
       "2024-05-28 20:13:02.302377    1\n",
       "2024-02-28 20:22:42.797377    1\n",
       "Name: count, Length: 1183, dtype: int64"
      ]
     },
     "execution_count": 9,
     "metadata": {},
     "output_type": "execute_result"
    }
   ],
   "source": [
    "df[\"review_date\"].value_counts()"
   ]
  },
  {
   "cell_type": "code",
   "execution_count": 10,
   "id": "1afd1ea9-6844-4caf-9686-5711720828d5",
   "metadata": {},
   "outputs": [
    {
     "data": {
      "text/plain": [
       "131"
      ]
     },
     "execution_count": 10,
     "metadata": {},
     "output_type": "execute_result"
    }
   ],
   "source": [
    "df['caption'].isna().sum()"
   ]
  },
  {
   "cell_type": "code",
   "execution_count": 11,
   "id": "31d0a23d-36d1-4810-858b-bf0c1491703e",
   "metadata": {},
   "outputs": [],
   "source": [
    "df = df[df['caption'].notna()]"
   ]
  },
  {
   "cell_type": "code",
   "execution_count": 12,
   "id": "034443d1-e19f-476f-864b-70aa9e793ce9",
   "metadata": {},
   "outputs": [
    {
     "data": {
      "text/plain": [
       "1052"
      ]
     },
     "execution_count": 12,
     "metadata": {},
     "output_type": "execute_result"
    }
   ],
   "source": [
    "len(df)"
   ]
  },
  {
   "cell_type": "code",
   "execution_count": 13,
   "id": "3455f1be-61a3-4cfe-8eef-6118b3f2ecc9",
   "metadata": {},
   "outputs": [
    {
     "data": {
      "text/html": [
       "<div>\n",
       "<style scoped>\n",
       "    .dataframe tbody tr th:only-of-type {\n",
       "        vertical-align: middle;\n",
       "    }\n",
       "\n",
       "    .dataframe tbody tr th {\n",
       "        vertical-align: top;\n",
       "    }\n",
       "\n",
       "    .dataframe thead th {\n",
       "        text-align: right;\n",
       "    }\n",
       "</style>\n",
       "<table border=\"1\" class=\"dataframe\">\n",
       "  <thead>\n",
       "    <tr style=\"text-align: right;\">\n",
       "      <th></th>\n",
       "      <th>id_review</th>\n",
       "      <th>caption</th>\n",
       "      <th>relative_date</th>\n",
       "      <th>review_date</th>\n",
       "      <th>retrieval_date</th>\n",
       "      <th>rating</th>\n",
       "      <th>username</th>\n",
       "      <th>n_review_user</th>\n",
       "      <th>place_id</th>\n",
       "    </tr>\n",
       "  </thead>\n",
       "  <tbody>\n",
       "    <tr>\n",
       "      <th>0</th>\n",
       "      <td>ChdDSUhNMG9nS0VJQ0FnSUNmaHJ2MnBnRRAB</td>\n",
       "      <td>took a friend had a nice experience miss savit...</td>\n",
       "      <td>an hour ago</td>\n",
       "      <td>2024-12-28 20:07:45.553247</td>\n",
       "      <td>2024-12-28 20:07:45.553306</td>\n",
       "      <td>5.0</td>\n",
       "      <td>tarun</td>\n",
       "      <td>0</td>\n",
       "      <td>ChIJu_BEcNhnUjoR1nBoaKnbQU8</td>\n",
       "    </tr>\n",
       "    <tr>\n",
       "      <th>1</th>\n",
       "      <td>ChdDSUhNMG9nS0VJQ0FnSUNmaHBTQi1RRRAB</td>\n",
       "      <td>Zami did an amazing job with my nails. All the...</td>\n",
       "      <td>3 hours ago</td>\n",
       "      <td>2024-12-28 20:07:45.553465</td>\n",
       "      <td>2024-12-28 20:07:45.553504</td>\n",
       "      <td>5.0</td>\n",
       "      <td>Ragavi Prabhu</td>\n",
       "      <td>62</td>\n",
       "      <td>ChIJu_BEcNhnUjoR1nBoaKnbQU8</td>\n",
       "    </tr>\n",
       "    <tr>\n",
       "      <th>2</th>\n",
       "      <td>ChZDSUhNMG9nS0VJQ0FnSUNmaHZDSkx3EAE</td>\n",
       "      <td>Nail art was done so neat and quick by Savitri...</td>\n",
       "      <td>3 hours ago</td>\n",
       "      <td>2024-12-28 20:07:45.553636</td>\n",
       "      <td>2024-12-28 20:07:45.553671</td>\n",
       "      <td>5.0</td>\n",
       "      <td>Nandhini kumanan</td>\n",
       "      <td>17</td>\n",
       "      <td>ChIJu_BEcNhnUjoR1nBoaKnbQU8</td>\n",
       "    </tr>\n",
       "    <tr>\n",
       "      <th>4</th>\n",
       "      <td>ChdDSUhNMG9nS0VJQ0FnSUR2ajlXanFnRRAB</td>\n",
       "      <td>So so happy with my experience. Savithri and S...</td>\n",
       "      <td>3 days ago</td>\n",
       "      <td>2024-12-25 20:07:45.554079</td>\n",
       "      <td>2024-12-28 20:07:45.554116</td>\n",
       "      <td>5.0</td>\n",
       "      <td>khushi lodha</td>\n",
       "      <td>0</td>\n",
       "      <td>ChIJu_BEcNhnUjoR1nBoaKnbQU8</td>\n",
       "    </tr>\n",
       "    <tr>\n",
       "      <th>5</th>\n",
       "      <td>ChdDSUhNMG9nS0VJQ0FnSUR2dzk2WnN3RRAB</td>\n",
       "      <td>Amazing job.  Service of Savithri was excellen...</td>\n",
       "      <td>5 days ago</td>\n",
       "      <td>2024-12-23 20:07:45.554246</td>\n",
       "      <td>2024-12-28 20:07:45.554283</td>\n",
       "      <td>5.0</td>\n",
       "      <td>Leena A</td>\n",
       "      <td>0</td>\n",
       "      <td>ChIJu_BEcNhnUjoR1nBoaKnbQU8</td>\n",
       "    </tr>\n",
       "  </tbody>\n",
       "</table>\n",
       "</div>"
      ],
      "text/plain": [
       "                              id_review  \\\n",
       "0  ChdDSUhNMG9nS0VJQ0FnSUNmaHJ2MnBnRRAB   \n",
       "1  ChdDSUhNMG9nS0VJQ0FnSUNmaHBTQi1RRRAB   \n",
       "2   ChZDSUhNMG9nS0VJQ0FnSUNmaHZDSkx3EAE   \n",
       "4  ChdDSUhNMG9nS0VJQ0FnSUR2ajlXanFnRRAB   \n",
       "5  ChdDSUhNMG9nS0VJQ0FnSUR2dzk2WnN3RRAB   \n",
       "\n",
       "                                             caption relative_date  \\\n",
       "0  took a friend had a nice experience miss savit...   an hour ago   \n",
       "1  Zami did an amazing job with my nails. All the...   3 hours ago   \n",
       "2  Nail art was done so neat and quick by Savitri...   3 hours ago   \n",
       "4  So so happy with my experience. Savithri and S...    3 days ago   \n",
       "5  Amazing job.  Service of Savithri was excellen...    5 days ago   \n",
       "\n",
       "                  review_date              retrieval_date  rating  \\\n",
       "0  2024-12-28 20:07:45.553247  2024-12-28 20:07:45.553306     5.0   \n",
       "1  2024-12-28 20:07:45.553465  2024-12-28 20:07:45.553504     5.0   \n",
       "2  2024-12-28 20:07:45.553636  2024-12-28 20:07:45.553671     5.0   \n",
       "4  2024-12-25 20:07:45.554079  2024-12-28 20:07:45.554116     5.0   \n",
       "5  2024-12-23 20:07:45.554246  2024-12-28 20:07:45.554283     5.0   \n",
       "\n",
       "           username  n_review_user                     place_id  \n",
       "0             tarun              0  ChIJu_BEcNhnUjoR1nBoaKnbQU8  \n",
       "1     Ragavi Prabhu             62  ChIJu_BEcNhnUjoR1nBoaKnbQU8  \n",
       "2  Nandhini kumanan             17  ChIJu_BEcNhnUjoR1nBoaKnbQU8  \n",
       "4      khushi lodha              0  ChIJu_BEcNhnUjoR1nBoaKnbQU8  \n",
       "5           Leena A              0  ChIJu_BEcNhnUjoR1nBoaKnbQU8  "
      ]
     },
     "execution_count": 13,
     "metadata": {},
     "output_type": "execute_result"
    }
   ],
   "source": [
    "df.head()"
   ]
  },
  {
   "cell_type": "code",
   "execution_count": 14,
   "id": "be5044c9-fea1-42d6-be95-c5e5fd44e766",
   "metadata": {},
   "outputs": [],
   "source": [
    "reviews = df[\"caption\"]"
   ]
  },
  {
   "cell_type": "code",
   "execution_count": 15,
   "id": "5f5110ec-f6fd-4b48-b6e2-b25ebc6eb4e9",
   "metadata": {},
   "outputs": [
    {
     "data": {
      "text/plain": [
       "1052"
      ]
     },
     "execution_count": 15,
     "metadata": {},
     "output_type": "execute_result"
    }
   ],
   "source": [
    "len(reviews)"
   ]
  },
  {
   "cell_type": "code",
   "execution_count": 16,
   "id": "2e433887-6e27-470d-8a81-97624250aa29",
   "metadata": {},
   "outputs": [
    {
     "data": {
      "text/plain": [
       "0       took a friend had a nice experience miss savit...\n",
       "1       Zami did an amazing job with my nails. All the...\n",
       "2       Nail art was done so neat and quick by Savitri...\n",
       "4       So so happy with my experience. Savithri and S...\n",
       "5       Amazing job.  Service of Savithri was excellen...\n",
       "                              ...                        \n",
       "1177                  Lovely service, thankyou so much ❤️\n",
       "1178                                           Good work.\n",
       "1179    Amazing service by Suraj. Obsessed with my nails.\n",
       "1180    Very friendly staff. Neat and posh environment...\n",
       "1182    I have done a  gel polish recently  here it wa...\n",
       "Name: caption, Length: 1052, dtype: object"
      ]
     },
     "execution_count": 16,
     "metadata": {},
     "output_type": "execute_result"
    }
   ],
   "source": [
    "reviews"
   ]
  },
  {
   "cell_type": "code",
   "execution_count": 17,
   "id": "12021eaa-a9bd-4fe9-9533-81aac2e22849",
   "metadata": {},
   "outputs": [],
   "source": [
    "# Function to analyze sentiment\n",
    "def analyze_sentiment(text):\n",
    "    \"\"\"\n",
    "    Analyze the sentiment of a given text using OpenAI's GPT models.\n",
    "\n",
    "    Args:\n",
    "        text (str): The text to analyze.\n",
    "\n",
    "    Returns:\n",
    "        str: The sentiment analysis result (e.g., \"Positive\", \"Negative\", \"Neutral\").\n",
    "    \"\"\"\n",
    "    client = OpenAI(api_key=os.environ.get(\"OPENAI_API_KEY\"))\n",
    "    \n",
    "    try:\n",
    "        response = client.chat.completions.create(\n",
    "            model=\"gpt-4\",  # Replace with the model you prefer\n",
    "            messages=[\n",
    "                {\"role\": \"system\", \"content\": \"You are a sentiment analysis assistant.\"},\n",
    "                {\"role\": \"user\", \"content\": f\"Please classify the sentiment of the following text as Positive, Negative, or Neutral:\\n\\n{text}\"}\n",
    "            ],\n",
    "            temperature=0.0\n",
    "        )\n",
    "\n",
    "        sentiment = response.choices[0].message.content\n",
    "        return sentiment\n",
    "        \n",
    "    except Exception as e:\n",
    "        print(f\"Error during sentiment analysis: {e}\")\n",
    "        return None"
   ]
  },
  {
   "cell_type": "code",
   "execution_count": 19,
   "id": "f9f865bf-c9b1-4b87-8e6d-4e39b8b71745",
   "metadata": {},
   "outputs": [],
   "source": [
    "response = analyze_sentiment(reviews[1])"
   ]
  },
  {
   "cell_type": "code",
   "execution_count": 20,
   "id": "098c9ad0-2816-43a9-ba6a-622d348a2757",
   "metadata": {},
   "outputs": [
    {
     "data": {
      "text/plain": [
       "'Positive'"
      ]
     },
     "execution_count": 20,
     "metadata": {},
     "output_type": "execute_result"
    }
   ],
   "source": [
    "response"
   ]
  },
  {
   "cell_type": "code",
   "execution_count": 21,
   "id": "92cca112-8559-4001-9b4f-429e462432a2",
   "metadata": {},
   "outputs": [
    {
     "data": {
      "text/plain": [
       "'Zami did an amazing job with my nails. All the staff were extremely courteous and polite. Loved the service.'"
      ]
     },
     "execution_count": 21,
     "metadata": {},
     "output_type": "execute_result"
    }
   ],
   "source": [
    "reviews[1]"
   ]
  },
  {
   "cell_type": "code",
   "execution_count": 22,
   "id": "b8600970-c4d5-478f-a0b6-64c35e1e6b45",
   "metadata": {},
   "outputs": [],
   "source": [
    "tqdm.pandas()"
   ]
  },
  {
   "cell_type": "code",
   "execution_count": 23,
   "id": "0dd98aa6-b643-49f2-ba1b-990ba7d1b769",
   "metadata": {},
   "outputs": [],
   "source": [
    "def analyze_sentiment_batch(texts):\n",
    "    \"\"\"\n",
    "    Analyze sentiment for a batch of texts using OpenAI API.\n",
    "\n",
    "    Args:\n",
    "        texts (list of str): List of texts to analyze.\n",
    "\n",
    "    Returns:\n",
    "        list of str: List of sentiment analysis results.\n",
    "    \"\"\"\n",
    "    client = OpenAI(api_key=os.environ.get(\"OPENAI_API_KEY\"))\n",
    "    \n",
    "    try:\n",
    "        # Batch prompt with numbered texts for clarity\n",
    "        batch_prompt = \"\\n\".join(\n",
    "            [f\"Text {i+1}: {text}\" for i, text in enumerate(texts)]\n",
    "        )\n",
    "        messages = [\n",
    "            {\"role\": \"system\", \"content\": \"You are a sentiment analysis assistant.\"},\n",
    "            {\"role\": \"user\", \"content\": f\"Classify the sentiment of the following texts only as either Positive, Negative, Mixed, or Neutral:\\n\\n{batch_prompt}.\" \n",
    "                    f\"If you find text in Tamil, translate first and then classify.\"\n",
    "                    f\"If you find spelling or grammatical errors, correct the spelling and/or grammar and then classify.\" }\n",
    "        ]\n",
    "        \n",
    "        response = client.chat.completions.create(\n",
    "            model=\"gpt-4\",  # Use \"gpt-3.5-turbo\" for faster response if accuracy is acceptable\n",
    "            messages=messages,\n",
    "            temperature=0.0\n",
    "        )\n",
    "        \n",
    "        # Parse response into individual results\n",
    "        results = response.choices[0].message.content.split(\"\\n\")\n",
    "        return [result.split(\":\")[1].strip() for result in results]\n",
    "    \n",
    "    except Exception as e:\n",
    "        print(f\"Error during sentiment analysis: {e}\")\n",
    "        return [None] * len(texts)"
   ]
  },
  {
   "cell_type": "code",
   "execution_count": 24,
   "id": "c22ca60d-5fa5-46ba-a5f0-12fffd1a2829",
   "metadata": {},
   "outputs": [
    {
     "data": {
      "text/plain": [
       "1052"
      ]
     },
     "execution_count": 24,
     "metadata": {},
     "output_type": "execute_result"
    }
   ],
   "source": [
    "len(df)"
   ]
  },
  {
   "cell_type": "code",
   "execution_count": 25,
   "id": "d7ed06bf-1003-4a64-9ff2-736c285dffee",
   "metadata": {},
   "outputs": [],
   "source": [
    "df = df.dropna(subset=\"caption\")"
   ]
  },
  {
   "cell_type": "code",
   "execution_count": 26,
   "id": "67b443fa-1a77-45f2-b5b7-e10ec62793c2",
   "metadata": {},
   "outputs": [
    {
     "data": {
      "text/plain": [
       "1052"
      ]
     },
     "execution_count": 26,
     "metadata": {},
     "output_type": "execute_result"
    }
   ],
   "source": [
    "len(df)"
   ]
  },
  {
   "cell_type": "code",
   "execution_count": 27,
   "id": "5504d434-ede3-4792-baa8-913a615b33be",
   "metadata": {},
   "outputs": [],
   "source": [
    "sample_df = df"
   ]
  },
  {
   "cell_type": "code",
   "execution_count": 28,
   "id": "dcddd163-8b00-4b5a-8db9-a58cb4a48ced",
   "metadata": {},
   "outputs": [
    {
     "name": "stderr",
     "output_type": "stream",
     "text": [
      "Processing Batches: 100%|█████████████████████| 106/106 [05:55<00:00,  3.35s/it]\n"
     ]
    }
   ],
   "source": [
    "tqdm.pandas()\n",
    "\n",
    "batch_size = 10\n",
    "\n",
    "sample_df['sentiment'] = None\n",
    "\n",
    "for i in tqdm(range(0, len(sample_df), batch_size), desc=\"Processing Batches\"):\n",
    "    batch = sample_df['caption'].iloc[i:i+batch_size]\n",
    "    sentiments = analyze_sentiment_batch(batch.tolist())\n",
    "    sample_df.loc[batch.index, 'sentiment'] = sentiments"
   ]
  },
  {
   "cell_type": "code",
   "execution_count": 29,
   "id": "a2938a6e-149c-4391-b388-68f08a7d1340",
   "metadata": {},
   "outputs": [
    {
     "data": {
      "text/html": [
       "<div>\n",
       "<style scoped>\n",
       "    .dataframe tbody tr th:only-of-type {\n",
       "        vertical-align: middle;\n",
       "    }\n",
       "\n",
       "    .dataframe tbody tr th {\n",
       "        vertical-align: top;\n",
       "    }\n",
       "\n",
       "    .dataframe thead th {\n",
       "        text-align: right;\n",
       "    }\n",
       "</style>\n",
       "<table border=\"1\" class=\"dataframe\">\n",
       "  <thead>\n",
       "    <tr style=\"text-align: right;\">\n",
       "      <th></th>\n",
       "      <th>id_review</th>\n",
       "      <th>caption</th>\n",
       "      <th>relative_date</th>\n",
       "      <th>review_date</th>\n",
       "      <th>retrieval_date</th>\n",
       "      <th>rating</th>\n",
       "      <th>username</th>\n",
       "      <th>n_review_user</th>\n",
       "      <th>place_id</th>\n",
       "      <th>sentiment</th>\n",
       "    </tr>\n",
       "  </thead>\n",
       "  <tbody>\n",
       "    <tr>\n",
       "      <th>0</th>\n",
       "      <td>ChdDSUhNMG9nS0VJQ0FnSUNmaHJ2MnBnRRAB</td>\n",
       "      <td>took a friend had a nice experience miss savit...</td>\n",
       "      <td>an hour ago</td>\n",
       "      <td>2024-12-28 20:07:45.553247</td>\n",
       "      <td>2024-12-28 20:07:45.553306</td>\n",
       "      <td>5.0</td>\n",
       "      <td>tarun</td>\n",
       "      <td>0</td>\n",
       "      <td>ChIJu_BEcNhnUjoR1nBoaKnbQU8</td>\n",
       "      <td>Positive</td>\n",
       "    </tr>\n",
       "    <tr>\n",
       "      <th>1</th>\n",
       "      <td>ChdDSUhNMG9nS0VJQ0FnSUNmaHBTQi1RRRAB</td>\n",
       "      <td>Zami did an amazing job with my nails. All the...</td>\n",
       "      <td>3 hours ago</td>\n",
       "      <td>2024-12-28 20:07:45.553465</td>\n",
       "      <td>2024-12-28 20:07:45.553504</td>\n",
       "      <td>5.0</td>\n",
       "      <td>Ragavi Prabhu</td>\n",
       "      <td>62</td>\n",
       "      <td>ChIJu_BEcNhnUjoR1nBoaKnbQU8</td>\n",
       "      <td>Positive</td>\n",
       "    </tr>\n",
       "    <tr>\n",
       "      <th>2</th>\n",
       "      <td>ChZDSUhNMG9nS0VJQ0FnSUNmaHZDSkx3EAE</td>\n",
       "      <td>Nail art was done so neat and quick by Savitri...</td>\n",
       "      <td>3 hours ago</td>\n",
       "      <td>2024-12-28 20:07:45.553636</td>\n",
       "      <td>2024-12-28 20:07:45.553671</td>\n",
       "      <td>5.0</td>\n",
       "      <td>Nandhini kumanan</td>\n",
       "      <td>17</td>\n",
       "      <td>ChIJu_BEcNhnUjoR1nBoaKnbQU8</td>\n",
       "      <td>Positive</td>\n",
       "    </tr>\n",
       "    <tr>\n",
       "      <th>4</th>\n",
       "      <td>ChdDSUhNMG9nS0VJQ0FnSUR2ajlXanFnRRAB</td>\n",
       "      <td>So so happy with my experience. Savithri and S...</td>\n",
       "      <td>3 days ago</td>\n",
       "      <td>2024-12-25 20:07:45.554079</td>\n",
       "      <td>2024-12-28 20:07:45.554116</td>\n",
       "      <td>5.0</td>\n",
       "      <td>khushi lodha</td>\n",
       "      <td>0</td>\n",
       "      <td>ChIJu_BEcNhnUjoR1nBoaKnbQU8</td>\n",
       "      <td>Positive</td>\n",
       "    </tr>\n",
       "    <tr>\n",
       "      <th>5</th>\n",
       "      <td>ChdDSUhNMG9nS0VJQ0FnSUR2dzk2WnN3RRAB</td>\n",
       "      <td>Amazing job.  Service of Savithri was excellen...</td>\n",
       "      <td>5 days ago</td>\n",
       "      <td>2024-12-23 20:07:45.554246</td>\n",
       "      <td>2024-12-28 20:07:45.554283</td>\n",
       "      <td>5.0</td>\n",
       "      <td>Leena A</td>\n",
       "      <td>0</td>\n",
       "      <td>ChIJu_BEcNhnUjoR1nBoaKnbQU8</td>\n",
       "      <td>Positive</td>\n",
       "    </tr>\n",
       "  </tbody>\n",
       "</table>\n",
       "</div>"
      ],
      "text/plain": [
       "                              id_review  \\\n",
       "0  ChdDSUhNMG9nS0VJQ0FnSUNmaHJ2MnBnRRAB   \n",
       "1  ChdDSUhNMG9nS0VJQ0FnSUNmaHBTQi1RRRAB   \n",
       "2   ChZDSUhNMG9nS0VJQ0FnSUNmaHZDSkx3EAE   \n",
       "4  ChdDSUhNMG9nS0VJQ0FnSUR2ajlXanFnRRAB   \n",
       "5  ChdDSUhNMG9nS0VJQ0FnSUR2dzk2WnN3RRAB   \n",
       "\n",
       "                                             caption relative_date  \\\n",
       "0  took a friend had a nice experience miss savit...   an hour ago   \n",
       "1  Zami did an amazing job with my nails. All the...   3 hours ago   \n",
       "2  Nail art was done so neat and quick by Savitri...   3 hours ago   \n",
       "4  So so happy with my experience. Savithri and S...    3 days ago   \n",
       "5  Amazing job.  Service of Savithri was excellen...    5 days ago   \n",
       "\n",
       "                  review_date              retrieval_date  rating  \\\n",
       "0  2024-12-28 20:07:45.553247  2024-12-28 20:07:45.553306     5.0   \n",
       "1  2024-12-28 20:07:45.553465  2024-12-28 20:07:45.553504     5.0   \n",
       "2  2024-12-28 20:07:45.553636  2024-12-28 20:07:45.553671     5.0   \n",
       "4  2024-12-25 20:07:45.554079  2024-12-28 20:07:45.554116     5.0   \n",
       "5  2024-12-23 20:07:45.554246  2024-12-28 20:07:45.554283     5.0   \n",
       "\n",
       "           username  n_review_user                     place_id sentiment  \n",
       "0             tarun              0  ChIJu_BEcNhnUjoR1nBoaKnbQU8  Positive  \n",
       "1     Ragavi Prabhu             62  ChIJu_BEcNhnUjoR1nBoaKnbQU8  Positive  \n",
       "2  Nandhini kumanan             17  ChIJu_BEcNhnUjoR1nBoaKnbQU8  Positive  \n",
       "4      khushi lodha              0  ChIJu_BEcNhnUjoR1nBoaKnbQU8  Positive  \n",
       "5           Leena A              0  ChIJu_BEcNhnUjoR1nBoaKnbQU8  Positive  "
      ]
     },
     "execution_count": 29,
     "metadata": {},
     "output_type": "execute_result"
    }
   ],
   "source": [
    "sample_df.head()"
   ]
  },
  {
   "cell_type": "code",
   "execution_count": 31,
   "id": "1f9f51d7-8c4f-4d78-bcbc-da2b09391926",
   "metadata": {},
   "outputs": [],
   "source": [
    "sample_df.to_csv(\"data/nailsnbeyond_sentiments.csv\")"
   ]
  },
  {
   "cell_type": "markdown",
   "id": "df21876c-fb0c-4cdf-8ee8-d2b7ffa58733",
   "metadata": {},
   "source": [
    "### Read Data"
   ]
  },
  {
   "cell_type": "code",
   "execution_count": 33,
   "id": "a02fd87a-72b9-4723-9ea5-db7100a22072",
   "metadata": {},
   "outputs": [],
   "source": [
    "sentiments_df = pd.read_csv(\"data/nailsnbeyond_sentiments.csv\")"
   ]
  },
  {
   "cell_type": "code",
   "execution_count": 34,
   "id": "35e710b1-ccf9-415d-8ada-64997e8775e5",
   "metadata": {},
   "outputs": [
    {
     "data": {
      "text/html": [
       "<div>\n",
       "<style scoped>\n",
       "    .dataframe tbody tr th:only-of-type {\n",
       "        vertical-align: middle;\n",
       "    }\n",
       "\n",
       "    .dataframe tbody tr th {\n",
       "        vertical-align: top;\n",
       "    }\n",
       "\n",
       "    .dataframe thead th {\n",
       "        text-align: right;\n",
       "    }\n",
       "</style>\n",
       "<table border=\"1\" class=\"dataframe\">\n",
       "  <thead>\n",
       "    <tr style=\"text-align: right;\">\n",
       "      <th></th>\n",
       "      <th>Unnamed: 0</th>\n",
       "      <th>id_review</th>\n",
       "      <th>caption</th>\n",
       "      <th>relative_date</th>\n",
       "      <th>review_date</th>\n",
       "      <th>retrieval_date</th>\n",
       "      <th>rating</th>\n",
       "      <th>username</th>\n",
       "      <th>n_review_user</th>\n",
       "      <th>place_id</th>\n",
       "      <th>sentiment</th>\n",
       "    </tr>\n",
       "  </thead>\n",
       "  <tbody>\n",
       "    <tr>\n",
       "      <th>0</th>\n",
       "      <td>0</td>\n",
       "      <td>ChdDSUhNMG9nS0VJQ0FnSUNmaHJ2MnBnRRAB</td>\n",
       "      <td>took a friend had a nice experience miss savit...</td>\n",
       "      <td>an hour ago</td>\n",
       "      <td>2024-12-28 20:07:45.553247</td>\n",
       "      <td>2024-12-28 20:07:45.553306</td>\n",
       "      <td>5.0</td>\n",
       "      <td>tarun</td>\n",
       "      <td>0</td>\n",
       "      <td>ChIJu_BEcNhnUjoR1nBoaKnbQU8</td>\n",
       "      <td>Positive</td>\n",
       "    </tr>\n",
       "    <tr>\n",
       "      <th>1</th>\n",
       "      <td>1</td>\n",
       "      <td>ChdDSUhNMG9nS0VJQ0FnSUNmaHBTQi1RRRAB</td>\n",
       "      <td>Zami did an amazing job with my nails. All the...</td>\n",
       "      <td>3 hours ago</td>\n",
       "      <td>2024-12-28 20:07:45.553465</td>\n",
       "      <td>2024-12-28 20:07:45.553504</td>\n",
       "      <td>5.0</td>\n",
       "      <td>Ragavi Prabhu</td>\n",
       "      <td>62</td>\n",
       "      <td>ChIJu_BEcNhnUjoR1nBoaKnbQU8</td>\n",
       "      <td>Positive</td>\n",
       "    </tr>\n",
       "    <tr>\n",
       "      <th>2</th>\n",
       "      <td>2</td>\n",
       "      <td>ChZDSUhNMG9nS0VJQ0FnSUNmaHZDSkx3EAE</td>\n",
       "      <td>Nail art was done so neat and quick by Savitri...</td>\n",
       "      <td>3 hours ago</td>\n",
       "      <td>2024-12-28 20:07:45.553636</td>\n",
       "      <td>2024-12-28 20:07:45.553671</td>\n",
       "      <td>5.0</td>\n",
       "      <td>Nandhini kumanan</td>\n",
       "      <td>17</td>\n",
       "      <td>ChIJu_BEcNhnUjoR1nBoaKnbQU8</td>\n",
       "      <td>Positive</td>\n",
       "    </tr>\n",
       "    <tr>\n",
       "      <th>3</th>\n",
       "      <td>4</td>\n",
       "      <td>ChdDSUhNMG9nS0VJQ0FnSUR2ajlXanFnRRAB</td>\n",
       "      <td>So so happy with my experience. Savithri and S...</td>\n",
       "      <td>3 days ago</td>\n",
       "      <td>2024-12-25 20:07:45.554079</td>\n",
       "      <td>2024-12-28 20:07:45.554116</td>\n",
       "      <td>5.0</td>\n",
       "      <td>khushi lodha</td>\n",
       "      <td>0</td>\n",
       "      <td>ChIJu_BEcNhnUjoR1nBoaKnbQU8</td>\n",
       "      <td>Positive</td>\n",
       "    </tr>\n",
       "    <tr>\n",
       "      <th>4</th>\n",
       "      <td>5</td>\n",
       "      <td>ChdDSUhNMG9nS0VJQ0FnSUR2dzk2WnN3RRAB</td>\n",
       "      <td>Amazing job.  Service of Savithri was excellen...</td>\n",
       "      <td>5 days ago</td>\n",
       "      <td>2024-12-23 20:07:45.554246</td>\n",
       "      <td>2024-12-28 20:07:45.554283</td>\n",
       "      <td>5.0</td>\n",
       "      <td>Leena A</td>\n",
       "      <td>0</td>\n",
       "      <td>ChIJu_BEcNhnUjoR1nBoaKnbQU8</td>\n",
       "      <td>Positive</td>\n",
       "    </tr>\n",
       "  </tbody>\n",
       "</table>\n",
       "</div>"
      ],
      "text/plain": [
       "   Unnamed: 0                             id_review  \\\n",
       "0           0  ChdDSUhNMG9nS0VJQ0FnSUNmaHJ2MnBnRRAB   \n",
       "1           1  ChdDSUhNMG9nS0VJQ0FnSUNmaHBTQi1RRRAB   \n",
       "2           2   ChZDSUhNMG9nS0VJQ0FnSUNmaHZDSkx3EAE   \n",
       "3           4  ChdDSUhNMG9nS0VJQ0FnSUR2ajlXanFnRRAB   \n",
       "4           5  ChdDSUhNMG9nS0VJQ0FnSUR2dzk2WnN3RRAB   \n",
       "\n",
       "                                             caption relative_date  \\\n",
       "0  took a friend had a nice experience miss savit...   an hour ago   \n",
       "1  Zami did an amazing job with my nails. All the...   3 hours ago   \n",
       "2  Nail art was done so neat and quick by Savitri...   3 hours ago   \n",
       "3  So so happy with my experience. Savithri and S...    3 days ago   \n",
       "4  Amazing job.  Service of Savithri was excellen...    5 days ago   \n",
       "\n",
       "                  review_date              retrieval_date  rating  \\\n",
       "0  2024-12-28 20:07:45.553247  2024-12-28 20:07:45.553306     5.0   \n",
       "1  2024-12-28 20:07:45.553465  2024-12-28 20:07:45.553504     5.0   \n",
       "2  2024-12-28 20:07:45.553636  2024-12-28 20:07:45.553671     5.0   \n",
       "3  2024-12-25 20:07:45.554079  2024-12-28 20:07:45.554116     5.0   \n",
       "4  2024-12-23 20:07:45.554246  2024-12-28 20:07:45.554283     5.0   \n",
       "\n",
       "           username  n_review_user                     place_id sentiment  \n",
       "0             tarun              0  ChIJu_BEcNhnUjoR1nBoaKnbQU8  Positive  \n",
       "1     Ragavi Prabhu             62  ChIJu_BEcNhnUjoR1nBoaKnbQU8  Positive  \n",
       "2  Nandhini kumanan             17  ChIJu_BEcNhnUjoR1nBoaKnbQU8  Positive  \n",
       "3      khushi lodha              0  ChIJu_BEcNhnUjoR1nBoaKnbQU8  Positive  \n",
       "4           Leena A              0  ChIJu_BEcNhnUjoR1nBoaKnbQU8  Positive  "
      ]
     },
     "execution_count": 34,
     "metadata": {},
     "output_type": "execute_result"
    }
   ],
   "source": [
    "sentiments_df.head()"
   ]
  },
  {
   "cell_type": "code",
   "execution_count": 35,
   "id": "2a20a324-8a73-4ff6-b13c-a71b551766d4",
   "metadata": {},
   "outputs": [
    {
     "data": {
      "text/plain": [
       "sentiment\n",
       "Positive    998\n",
       "Negative     29\n",
       "Neutral      13\n",
       "Mixed        12\n",
       "Name: count, dtype: int64"
      ]
     },
     "execution_count": 35,
     "metadata": {},
     "output_type": "execute_result"
    }
   ],
   "source": [
    "sentiments_df[\"sentiment\"].value_counts()"
   ]
  },
  {
   "cell_type": "code",
   "execution_count": 41,
   "id": "959e33ab-d793-4f73-8c3f-258e578ca7cd",
   "metadata": {},
   "outputs": [],
   "source": [
    "new_df = sentiments_df[~sentiments_df[\"sentiment\"].isin([\"Positive\", \"Neutral\", \"Negative\", \"Mixed\"])]"
   ]
  },
  {
   "cell_type": "code",
   "execution_count": 42,
   "id": "c9419c33-f9fe-49bf-bcd9-89af9535f423",
   "metadata": {},
   "outputs": [
    {
     "data": {
      "text/plain": [
       "0"
      ]
     },
     "execution_count": 42,
     "metadata": {},
     "output_type": "execute_result"
    }
   ],
   "source": [
    "len(new_df)"
   ]
  },
  {
   "cell_type": "code",
   "execution_count": 43,
   "id": "5106a48e-aa54-4a44-8ced-0a97f537110a",
   "metadata": {},
   "outputs": [
    {
     "data": {
      "text/html": [
       "<div>\n",
       "<style scoped>\n",
       "    .dataframe tbody tr th:only-of-type {\n",
       "        vertical-align: middle;\n",
       "    }\n",
       "\n",
       "    .dataframe tbody tr th {\n",
       "        vertical-align: top;\n",
       "    }\n",
       "\n",
       "    .dataframe thead th {\n",
       "        text-align: right;\n",
       "    }\n",
       "</style>\n",
       "<table border=\"1\" class=\"dataframe\">\n",
       "  <thead>\n",
       "    <tr style=\"text-align: right;\">\n",
       "      <th></th>\n",
       "      <th>Unnamed: 0</th>\n",
       "      <th>id_review</th>\n",
       "      <th>caption</th>\n",
       "      <th>relative_date</th>\n",
       "      <th>review_date</th>\n",
       "      <th>retrieval_date</th>\n",
       "      <th>rating</th>\n",
       "      <th>username</th>\n",
       "      <th>n_review_user</th>\n",
       "      <th>place_id</th>\n",
       "      <th>sentiment</th>\n",
       "    </tr>\n",
       "  </thead>\n",
       "  <tbody>\n",
       "  </tbody>\n",
       "</table>\n",
       "</div>"
      ],
      "text/plain": [
       "Empty DataFrame\n",
       "Columns: [Unnamed: 0, id_review, caption, relative_date, review_date, retrieval_date, rating, username, n_review_user, place_id, sentiment]\n",
       "Index: []"
      ]
     },
     "execution_count": 43,
     "metadata": {},
     "output_type": "execute_result"
    }
   ],
   "source": [
    "new_df"
   ]
  },
  {
   "cell_type": "code",
   "execution_count": 44,
   "id": "3a2a2290-5817-495e-bcd7-54253d815200",
   "metadata": {},
   "outputs": [
    {
     "data": {
      "text/plain": [
       "1052"
      ]
     },
     "execution_count": 44,
     "metadata": {},
     "output_type": "execute_result"
    }
   ],
   "source": [
    "len(df)"
   ]
  },
  {
   "cell_type": "code",
   "execution_count": 45,
   "id": "ff53681f-fa04-4df5-966f-5bcc7e4fb9cd",
   "metadata": {},
   "outputs": [
    {
     "data": {
      "text/plain": [
       "0"
      ]
     },
     "execution_count": 45,
     "metadata": {},
     "output_type": "execute_result"
    }
   ],
   "source": [
    "new_df[\"caption\"].isna().sum()"
   ]
  }
 ],
 "metadata": {
  "kernelspec": {
   "display_name": "Python 3 (ipykernel)",
   "language": "python",
   "name": "python3"
  },
  "language_info": {
   "codemirror_mode": {
    "name": "ipython",
    "version": 3
   },
   "file_extension": ".py",
   "mimetype": "text/x-python",
   "name": "python",
   "nbconvert_exporter": "python",
   "pygments_lexer": "ipython3",
   "version": "3.9.6"
  }
 },
 "nbformat": 4,
 "nbformat_minor": 5
}
