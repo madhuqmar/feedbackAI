{
 "cells": [
  {
   "cell_type": "code",
   "execution_count": 1,
   "id": "11d6bc0e-99c0-4338-ad99-ff658e21c649",
   "metadata": {},
   "outputs": [],
   "source": [
    "import pandas as pd"
   ]
  },
  {
   "cell_type": "code",
   "execution_count": 2,
   "id": "bcfb4a7a-a2e6-4ce7-b240-5f001c31ed0c",
   "metadata": {},
   "outputs": [],
   "source": [
    "df = pd.read_csv(\"googlemaps-scraper/data/newest_gm_reviews.csv\", low_memory=False)"
   ]
  },
  {
   "cell_type": "code",
   "execution_count": 3,
   "id": "b081777b-95a8-474c-9ec2-ebe6d0558915",
   "metadata": {},
   "outputs": [
    {
     "data": {
      "text/html": [
       "<div>\n",
       "<style scoped>\n",
       "    .dataframe tbody tr th:only-of-type {\n",
       "        vertical-align: middle;\n",
       "    }\n",
       "\n",
       "    .dataframe tbody tr th {\n",
       "        vertical-align: top;\n",
       "    }\n",
       "\n",
       "    .dataframe thead th {\n",
       "        text-align: right;\n",
       "    }\n",
       "</style>\n",
       "<table border=\"1\" class=\"dataframe\">\n",
       "  <thead>\n",
       "    <tr style=\"text-align: right;\">\n",
       "      <th></th>\n",
       "      <th>id_review</th>\n",
       "      <th>caption</th>\n",
       "      <th>relative_date</th>\n",
       "      <th>review_date</th>\n",
       "      <th>retrieval_date</th>\n",
       "      <th>rating</th>\n",
       "      <th>username</th>\n",
       "      <th>n_review_user</th>\n",
       "      <th>place_id</th>\n",
       "    </tr>\n",
       "  </thead>\n",
       "  <tbody>\n",
       "    <tr>\n",
       "      <th>0</th>\n",
       "      <td>ChZDSUhNMG9nS0VJQ0FnSUR2dmVPaVR3EAE</td>\n",
       "      <td>NaN</td>\n",
       "      <td>an hour ago</td>\n",
       "      <td>2024-12-23 15:22:09.506774</td>\n",
       "      <td>2024-12-23 15:22:09.506868</td>\n",
       "      <td>5.0</td>\n",
       "      <td>Vasanthu</td>\n",
       "      <td>0</td>\n",
       "      <td>ChIJB0quoslnUjoRf_vm8BiGHsM</td>\n",
       "    </tr>\n",
       "    <tr>\n",
       "      <th>1</th>\n",
       "      <td>ChZDSUhNMG9nS0VJQ0FnSUR2NVptekJnEAE</td>\n",
       "      <td>Rosika did an excellent facial, great neck mas...</td>\n",
       "      <td>22 hours ago</td>\n",
       "      <td>2024-12-23 15:22:09.507031</td>\n",
       "      <td>2024-12-23 15:22:09.507073</td>\n",
       "      <td>5.0</td>\n",
       "      <td>Sujatha Madangopal</td>\n",
       "      <td>0</td>\n",
       "      <td>ChIJB0quoslnUjoRf_vm8BiGHsM</td>\n",
       "    </tr>\n",
       "    <tr>\n",
       "      <th>2</th>\n",
       "      <td>ChdDSUhNMG9nS0VJQ0FnSUR2NGJMZndBRRAB</td>\n",
       "      <td>had a great hair washing and blow dry experien...</td>\n",
       "      <td>2 days ago</td>\n",
       "      <td>2024-12-21 15:22:09.507740</td>\n",
       "      <td>2024-12-23 15:22:09.507785</td>\n",
       "      <td>5.0</td>\n",
       "      <td>080 harshitha sridhar</td>\n",
       "      <td>0</td>\n",
       "      <td>ChIJB0quoslnUjoRf_vm8BiGHsM</td>\n",
       "    </tr>\n",
       "    <tr>\n",
       "      <th>3</th>\n",
       "      <td>ChdDSUhNMG9nS0VJQ0FnSUR2dHN1WG9nRRAB</td>\n",
       "      <td>Excellent face massage by Goweri  Thankyou you...</td>\n",
       "      <td>2 days ago</td>\n",
       "      <td>2024-12-21 15:22:09.507917</td>\n",
       "      <td>2024-12-23 15:22:09.507958</td>\n",
       "      <td>5.0</td>\n",
       "      <td>Varun Bala Vk</td>\n",
       "      <td>0</td>\n",
       "      <td>ChIJB0quoslnUjoRf_vm8BiGHsM</td>\n",
       "    </tr>\n",
       "    <tr>\n",
       "      <th>4</th>\n",
       "      <td>ChZDSUhNMG9nS0VJQ0FnSUNLdUtTR1NREAE</td>\n",
       "      <td>Aakash raj - Did very good haircut and shave s...</td>\n",
       "      <td>3 days ago</td>\n",
       "      <td>2024-12-20 15:22:09.508090</td>\n",
       "      <td>2024-12-23 15:22:09.508131</td>\n",
       "      <td>5.0</td>\n",
       "      <td>Rajesh Gopalsamy</td>\n",
       "      <td>23</td>\n",
       "      <td>ChIJB0quoslnUjoRf_vm8BiGHsM</td>\n",
       "    </tr>\n",
       "  </tbody>\n",
       "</table>\n",
       "</div>"
      ],
      "text/plain": [
       "                              id_review  \\\n",
       "0   ChZDSUhNMG9nS0VJQ0FnSUR2dmVPaVR3EAE   \n",
       "1   ChZDSUhNMG9nS0VJQ0FnSUR2NVptekJnEAE   \n",
       "2  ChdDSUhNMG9nS0VJQ0FnSUR2NGJMZndBRRAB   \n",
       "3  ChdDSUhNMG9nS0VJQ0FnSUR2dHN1WG9nRRAB   \n",
       "4   ChZDSUhNMG9nS0VJQ0FnSUNLdUtTR1NREAE   \n",
       "\n",
       "                                             caption relative_date  \\\n",
       "0                                                NaN   an hour ago   \n",
       "1  Rosika did an excellent facial, great neck mas...  22 hours ago   \n",
       "2  had a great hair washing and blow dry experien...    2 days ago   \n",
       "3  Excellent face massage by Goweri  Thankyou you...    2 days ago   \n",
       "4  Aakash raj - Did very good haircut and shave s...    3 days ago   \n",
       "\n",
       "                  review_date              retrieval_date  rating  \\\n",
       "0  2024-12-23 15:22:09.506774  2024-12-23 15:22:09.506868     5.0   \n",
       "1  2024-12-23 15:22:09.507031  2024-12-23 15:22:09.507073     5.0   \n",
       "2  2024-12-21 15:22:09.507740  2024-12-23 15:22:09.507785     5.0   \n",
       "3  2024-12-21 15:22:09.507917  2024-12-23 15:22:09.507958     5.0   \n",
       "4  2024-12-20 15:22:09.508090  2024-12-23 15:22:09.508131     5.0   \n",
       "\n",
       "                username  n_review_user                     place_id  \n",
       "0               Vasanthu              0  ChIJB0quoslnUjoRf_vm8BiGHsM  \n",
       "1     Sujatha Madangopal              0  ChIJB0quoslnUjoRf_vm8BiGHsM  \n",
       "2  080 harshitha sridhar              0  ChIJB0quoslnUjoRf_vm8BiGHsM  \n",
       "3          Varun Bala Vk              0  ChIJB0quoslnUjoRf_vm8BiGHsM  \n",
       "4       Rajesh Gopalsamy             23  ChIJB0quoslnUjoRf_vm8BiGHsM  "
      ]
     },
     "execution_count": 3,
     "metadata": {},
     "output_type": "execute_result"
    }
   ],
   "source": [
    "df.head()"
   ]
  },
  {
   "cell_type": "code",
   "execution_count": 4,
   "id": "9ae3e8bd-dbef-4819-8eef-e1c79c047819",
   "metadata": {},
   "outputs": [
    {
     "data": {
      "text/plain": [
       "53277"
      ]
     },
     "execution_count": 4,
     "metadata": {},
     "output_type": "execute_result"
    }
   ],
   "source": [
    "len(df)"
   ]
  },
  {
   "cell_type": "code",
   "execution_count": 5,
   "id": "66a90b1f-4c2f-4284-a3df-bef1da342e09",
   "metadata": {},
   "outputs": [
    {
     "data": {
      "text/plain": [
       "0"
      ]
     },
     "execution_count": 5,
     "metadata": {},
     "output_type": "execute_result"
    }
   ],
   "source": [
    "df['place_id'].isna().sum()"
   ]
  },
  {
   "cell_type": "code",
   "execution_count": 6,
   "id": "c0399a36-aa1b-4e08-9b1e-1d86aff2d356",
   "metadata": {},
   "outputs": [
    {
     "data": {
      "text/plain": [
       "6755"
      ]
     },
     "execution_count": 6,
     "metadata": {},
     "output_type": "execute_result"
    }
   ],
   "source": [
    "df['caption'].isna().sum()"
   ]
  },
  {
   "cell_type": "code",
   "execution_count": 7,
   "id": "a02385b5-c224-4d59-a2dc-bf1434746e1b",
   "metadata": {},
   "outputs": [
    {
     "data": {
      "text/plain": [
       "46522"
      ]
     },
     "execution_count": 7,
     "metadata": {},
     "output_type": "execute_result"
    }
   ],
   "source": [
    "df['caption'].notna().sum()"
   ]
  },
  {
   "cell_type": "code",
   "execution_count": 10,
   "id": "4d0d65c9-b0f1-4150-b487-6bbe54acd358",
   "metadata": {},
   "outputs": [
    {
     "data": {
      "text/plain": [
       "146"
      ]
     },
     "execution_count": 10,
     "metadata": {},
     "output_type": "execute_result"
    }
   ],
   "source": [
    "len(df['place_id'].unique())"
   ]
  },
  {
   "cell_type": "code",
   "execution_count": 11,
   "id": "21dd0508-f4a3-424e-bf0a-4bb82e007fe9",
   "metadata": {},
   "outputs": [
    {
     "data": {
      "text/plain": [
       "array(['an hour ago', '22 hours ago', '2 days ago', '3 days ago',\n",
       "       '4 days ago', '6 days ago', '2 weeks ago', '3 weeks ago',\n",
       "       '4 weeks ago', '2 months ago', '3 months ago', '4 months ago',\n",
       "       '5 months ago', '6 months ago', '7 months ago', '8 months ago',\n",
       "       '9 months ago', '10 months ago', '11 months ago', '5 days ago',\n",
       "       '23 hours ago', '20 hours ago', '4 hours ago', '3 hours ago',\n",
       "       '7 hours ago', '21 hours ago', '43 minutes ago', '2 hours ago',\n",
       "       '48 minutes ago', '11 minutes ago', '6 hours ago', 'just now',\n",
       "       '15 minutes ago', '5 hours ago', '11 hours ago', '10 hours ago',\n",
       "       '9 hours ago', '12 hours ago', '20 minutes ago', '8 hours ago',\n",
       "       '13 hours ago', '14 hours ago', '18 hours ago', '15 hours ago',\n",
       "       '17 hours ago', '19 hours ago', '16 hours ago', '26 minutes ago'],\n",
       "      dtype=object)"
      ]
     },
     "execution_count": 11,
     "metadata": {},
     "output_type": "execute_result"
    }
   ],
   "source": [
    "df[\"relative_date\"].unique()"
   ]
  },
  {
   "cell_type": "code",
   "execution_count": null,
   "id": "d3863bc8-04eb-42ea-93e6-8b47dbe681f6",
   "metadata": {},
   "outputs": [],
   "source": []
  }
 ],
 "metadata": {
  "kernelspec": {
   "display_name": "Python 3 (ipykernel)",
   "language": "python",
   "name": "python3"
  },
  "language_info": {
   "codemirror_mode": {
    "name": "ipython",
    "version": 3
   },
   "file_extension": ".py",
   "mimetype": "text/x-python",
   "name": "python",
   "nbconvert_exporter": "python",
   "pygments_lexer": "ipython3",
   "version": "3.9.6"
  }
 },
 "nbformat": 4,
 "nbformat_minor": 5
}
