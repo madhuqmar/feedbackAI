{
 "cells": [
  {
   "cell_type": "code",
   "execution_count": 120,
   "id": "11d6bc0e-99c0-4338-ad99-ff658e21c649",
   "metadata": {},
   "outputs": [],
   "source": [
    "import pandas as pd"
   ]
  },
  {
   "cell_type": "code",
   "execution_count": 126,
   "id": "bcfb4a7a-a2e6-4ce7-b240-5f001c31ed0c",
   "metadata": {},
   "outputs": [],
   "source": [
    "df = pd.read_csv(\"googlemaps-scraper/data/newest_gm_reviews.csv\", low_memory=False)"
   ]
  },
  {
   "cell_type": "code",
   "execution_count": 127,
   "id": "b081777b-95a8-474c-9ec2-ebe6d0558915",
   "metadata": {},
   "outputs": [
    {
     "data": {
      "text/html": [
       "<div>\n",
       "<style scoped>\n",
       "    .dataframe tbody tr th:only-of-type {\n",
       "        vertical-align: middle;\n",
       "    }\n",
       "\n",
       "    .dataframe tbody tr th {\n",
       "        vertical-align: top;\n",
       "    }\n",
       "\n",
       "    .dataframe thead th {\n",
       "        text-align: right;\n",
       "    }\n",
       "</style>\n",
       "<table border=\"1\" class=\"dataframe\">\n",
       "  <thead>\n",
       "    <tr style=\"text-align: right;\">\n",
       "      <th></th>\n",
       "      <th>id_review</th>\n",
       "      <th>caption</th>\n",
       "      <th>relative_date</th>\n",
       "      <th>review_date</th>\n",
       "      <th>retrieval_date</th>\n",
       "      <th>rating</th>\n",
       "      <th>username</th>\n",
       "      <th>n_review_user</th>\n",
       "      <th>place_id</th>\n",
       "    </tr>\n",
       "  </thead>\n",
       "  <tbody>\n",
       "    <tr>\n",
       "      <th>0</th>\n",
       "      <td>ChZDSUhNMG9nS0VJQ0FnSUR2M01DbWR3EAE</td>\n",
       "      <td>Excellent hair spa service by Rosika</td>\n",
       "      <td>20 hours ago</td>\n",
       "      <td>2024-12-19 14:00:41.204607</td>\n",
       "      <td>2024-12-19 14:00:41.204680</td>\n",
       "      <td>5.0</td>\n",
       "      <td>Kaviya</td>\n",
       "      <td>18</td>\n",
       "      <td>ChIJB0quoslnUjoRf_vm8BiGHsM\\n</td>\n",
       "    </tr>\n",
       "    <tr>\n",
       "      <th>1</th>\n",
       "      <td>ChdDSUhNMG9nS0VJQ0FnSUR2cUxIQ3B3RRAB</td>\n",
       "      <td>Top notch haircut service by Mr.Praveen. Would...</td>\n",
       "      <td>2 days ago</td>\n",
       "      <td>2024-12-17 14:00:41.204853</td>\n",
       "      <td>2024-12-19 14:00:41.204907</td>\n",
       "      <td>5.0</td>\n",
       "      <td>Damian Lourdes</td>\n",
       "      <td>0</td>\n",
       "      <td>ChIJB0quoslnUjoRf_vm8BiGHsM\\n</td>\n",
       "    </tr>\n",
       "    <tr>\n",
       "      <th>2</th>\n",
       "      <td>ChdDSUhNMG9nS0VJQ0FnSUN2djVLNWhRRRAB</td>\n",
       "      <td>I was here while traveling from USA. Experienc...</td>\n",
       "      <td>3 days ago</td>\n",
       "      <td>2024-12-16 14:00:41.205060</td>\n",
       "      <td>2024-12-19 14:00:41.205105</td>\n",
       "      <td>5.0</td>\n",
       "      <td>Vijay Narayanasamy</td>\n",
       "      <td>7</td>\n",
       "      <td>ChIJB0quoslnUjoRf_vm8BiGHsM\\n</td>\n",
       "    </tr>\n",
       "    <tr>\n",
       "      <th>3</th>\n",
       "      <td>ChdDSUhNMG9nS0VJQ0FnSUN2eC1tczB3RRAB</td>\n",
       "      <td>Hair cut and hair coloring ... got very good s...</td>\n",
       "      <td>3 days ago</td>\n",
       "      <td>2024-12-16 14:00:41.205265</td>\n",
       "      <td>2024-12-19 14:00:41.205310</td>\n",
       "      <td>5.0</td>\n",
       "      <td>Uv S</td>\n",
       "      <td>0</td>\n",
       "      <td>ChIJB0quoslnUjoRf_vm8BiGHsM\\n</td>\n",
       "    </tr>\n",
       "    <tr>\n",
       "      <th>4</th>\n",
       "      <td>ChdDSUhNMG9nS0VJQ0FnSURnaFlLVXFBRRAB</td>\n",
       "      <td>My go to place for threading and waxing . Pain...</td>\n",
       "      <td>4 days ago</td>\n",
       "      <td>2024-12-15 14:00:41.205463</td>\n",
       "      <td>2024-12-19 14:00:41.205508</td>\n",
       "      <td>5.0</td>\n",
       "      <td>Akhila Balasubramaniam</td>\n",
       "      <td>12</td>\n",
       "      <td>ChIJB0quoslnUjoRf_vm8BiGHsM\\n</td>\n",
       "    </tr>\n",
       "  </tbody>\n",
       "</table>\n",
       "</div>"
      ],
      "text/plain": [
       "                              id_review  \\\n",
       "0   ChZDSUhNMG9nS0VJQ0FnSUR2M01DbWR3EAE   \n",
       "1  ChdDSUhNMG9nS0VJQ0FnSUR2cUxIQ3B3RRAB   \n",
       "2  ChdDSUhNMG9nS0VJQ0FnSUN2djVLNWhRRRAB   \n",
       "3  ChdDSUhNMG9nS0VJQ0FnSUN2eC1tczB3RRAB   \n",
       "4  ChdDSUhNMG9nS0VJQ0FnSURnaFlLVXFBRRAB   \n",
       "\n",
       "                                             caption relative_date  \\\n",
       "0               Excellent hair spa service by Rosika  20 hours ago   \n",
       "1  Top notch haircut service by Mr.Praveen. Would...    2 days ago   \n",
       "2  I was here while traveling from USA. Experienc...    3 days ago   \n",
       "3  Hair cut and hair coloring ... got very good s...    3 days ago   \n",
       "4  My go to place for threading and waxing . Pain...    4 days ago   \n",
       "\n",
       "                  review_date              retrieval_date  rating  \\\n",
       "0  2024-12-19 14:00:41.204607  2024-12-19 14:00:41.204680     5.0   \n",
       "1  2024-12-17 14:00:41.204853  2024-12-19 14:00:41.204907     5.0   \n",
       "2  2024-12-16 14:00:41.205060  2024-12-19 14:00:41.205105     5.0   \n",
       "3  2024-12-16 14:00:41.205265  2024-12-19 14:00:41.205310     5.0   \n",
       "4  2024-12-15 14:00:41.205463  2024-12-19 14:00:41.205508     5.0   \n",
       "\n",
       "                 username  n_review_user                       place_id  \n",
       "0                  Kaviya             18  ChIJB0quoslnUjoRf_vm8BiGHsM\\n  \n",
       "1          Damian Lourdes              0  ChIJB0quoslnUjoRf_vm8BiGHsM\\n  \n",
       "2      Vijay Narayanasamy              7  ChIJB0quoslnUjoRf_vm8BiGHsM\\n  \n",
       "3                    Uv S              0  ChIJB0quoslnUjoRf_vm8BiGHsM\\n  \n",
       "4  Akhila Balasubramaniam             12  ChIJB0quoslnUjoRf_vm8BiGHsM\\n  "
      ]
     },
     "execution_count": 127,
     "metadata": {},
     "output_type": "execute_result"
    }
   ],
   "source": [
    "df.head()"
   ]
  },
  {
   "cell_type": "code",
   "execution_count": 128,
   "id": "9ae3e8bd-dbef-4819-8eef-e1c79c047819",
   "metadata": {},
   "outputs": [
    {
     "data": {
      "text/plain": [
       "20"
      ]
     },
     "execution_count": 128,
     "metadata": {},
     "output_type": "execute_result"
    }
   ],
   "source": [
    "len(df)"
   ]
  },
  {
   "cell_type": "code",
   "execution_count": 129,
   "id": "66a90b1f-4c2f-4284-a3df-bef1da342e09",
   "metadata": {},
   "outputs": [
    {
     "data": {
      "text/plain": [
       "0"
      ]
     },
     "execution_count": 129,
     "metadata": {},
     "output_type": "execute_result"
    }
   ],
   "source": [
    "df['place_id'].isna().sum()"
   ]
  },
  {
   "cell_type": "code",
   "execution_count": null,
   "id": "c0399a36-aa1b-4e08-9b1e-1d86aff2d356",
   "metadata": {},
   "outputs": [],
   "source": []
  }
 ],
 "metadata": {
  "kernelspec": {
   "display_name": "Python 3 (ipykernel)",
   "language": "python",
   "name": "python3"
  },
  "language_info": {
   "codemirror_mode": {
    "name": "ipython",
    "version": 3
   },
   "file_extension": ".py",
   "mimetype": "text/x-python",
   "name": "python",
   "nbconvert_exporter": "python",
   "pygments_lexer": "ipython3",
   "version": "3.9.6"
  }
 },
 "nbformat": 4,
 "nbformat_minor": 5
}
