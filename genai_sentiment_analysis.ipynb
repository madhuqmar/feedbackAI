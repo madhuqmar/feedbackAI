{
 "cells": [
  {
   "cell_type": "code",
   "execution_count": null,
   "id": "c7ac76ca-f93c-4dd5-8000-e3905990ccc1",
   "metadata": {},
   "outputs": [],
   "source": [
    "import pandas as pd\n",
    "from openai import OpenAI\n",
    "import os\n",
    "from dotenv import load_dotenv\n",
    "from tqdm import tqdm\n",
    "import time"
   ]
  },
  {
   "cell_type": "code",
   "execution_count": 61,
   "id": "164cbdc4-fef2-49c1-b62e-d603a98b2488",
   "metadata": {},
   "outputs": [],
   "source": [
    "#!pip3 install python-dotenv\n",
    "#!pip3 install openai\n",
    "#!pip3 install tqdm\n",
    "#!pip3 install plotly"
   ]
  },
  {
   "cell_type": "code",
   "execution_count": 62,
   "id": "62cd79d2-bf25-4575-9d89-467848221165",
   "metadata": {},
   "outputs": [
    {
     "data": {
      "text/plain": [
       "True"
      ]
     },
     "execution_count": 62,
     "metadata": {},
     "output_type": "execute_result"
    }
   ],
   "source": [
    "# Load environment variables from the .env file\n",
    "load_dotenv(\".env\")"
   ]
  },
  {
   "cell_type": "code",
   "execution_count": 63,
   "id": "f2755b6b-bcff-4ba2-ba42-2ab5c99fefd4",
   "metadata": {},
   "outputs": [],
   "source": [
    "df = pd.read_csv(\"data/naturals_reviews.csv\")"
   ]
  },
  {
   "cell_type": "code",
   "execution_count": 64,
   "id": "50a1fb4c-8f57-4b3b-8f06-d7d8b316433a",
   "metadata": {},
   "outputs": [
    {
     "data": {
      "text/plain": [
       "53277"
      ]
     },
     "execution_count": 64,
     "metadata": {},
     "output_type": "execute_result"
    }
   ],
   "source": [
    "len(df)"
   ]
  },
  {
   "cell_type": "code",
   "execution_count": 65,
   "id": "abd63ebb-6f0c-4d53-9c6c-daec2426b7f6",
   "metadata": {},
   "outputs": [
    {
     "data": {
      "text/html": [
       "<div>\n",
       "<style scoped>\n",
       "    .dataframe tbody tr th:only-of-type {\n",
       "        vertical-align: middle;\n",
       "    }\n",
       "\n",
       "    .dataframe tbody tr th {\n",
       "        vertical-align: top;\n",
       "    }\n",
       "\n",
       "    .dataframe thead th {\n",
       "        text-align: right;\n",
       "    }\n",
       "</style>\n",
       "<table border=\"1\" class=\"dataframe\">\n",
       "  <thead>\n",
       "    <tr style=\"text-align: right;\">\n",
       "      <th></th>\n",
       "      <th>id_review</th>\n",
       "      <th>caption</th>\n",
       "      <th>relative_date</th>\n",
       "      <th>review_date</th>\n",
       "      <th>retrieval_date</th>\n",
       "      <th>rating</th>\n",
       "      <th>username</th>\n",
       "      <th>n_review_user</th>\n",
       "      <th>place_id</th>\n",
       "    </tr>\n",
       "  </thead>\n",
       "  <tbody>\n",
       "    <tr>\n",
       "      <th>0</th>\n",
       "      <td>ChZDSUhNMG9nS0VJQ0FnSUR2dmVPaVR3EAE</td>\n",
       "      <td>NaN</td>\n",
       "      <td>an hour ago</td>\n",
       "      <td>2024-12-23 15:22:09.506774</td>\n",
       "      <td>2024-12-23 15:22:09.506868</td>\n",
       "      <td>5.0</td>\n",
       "      <td>Vasanthu</td>\n",
       "      <td>0</td>\n",
       "      <td>ChIJB0quoslnUjoRf_vm8BiGHsM</td>\n",
       "    </tr>\n",
       "    <tr>\n",
       "      <th>1</th>\n",
       "      <td>ChZDSUhNMG9nS0VJQ0FnSUR2NVptekJnEAE</td>\n",
       "      <td>Rosika did an excellent facial, great neck mas...</td>\n",
       "      <td>22 hours ago</td>\n",
       "      <td>2024-12-23 15:22:09.507031</td>\n",
       "      <td>2024-12-23 15:22:09.507073</td>\n",
       "      <td>5.0</td>\n",
       "      <td>Sujatha Madangopal</td>\n",
       "      <td>0</td>\n",
       "      <td>ChIJB0quoslnUjoRf_vm8BiGHsM</td>\n",
       "    </tr>\n",
       "    <tr>\n",
       "      <th>2</th>\n",
       "      <td>ChdDSUhNMG9nS0VJQ0FnSUR2NGJMZndBRRAB</td>\n",
       "      <td>had a great hair washing and blow dry experien...</td>\n",
       "      <td>2 days ago</td>\n",
       "      <td>2024-12-21 15:22:09.507740</td>\n",
       "      <td>2024-12-23 15:22:09.507785</td>\n",
       "      <td>5.0</td>\n",
       "      <td>080 harshitha sridhar</td>\n",
       "      <td>0</td>\n",
       "      <td>ChIJB0quoslnUjoRf_vm8BiGHsM</td>\n",
       "    </tr>\n",
       "    <tr>\n",
       "      <th>3</th>\n",
       "      <td>ChdDSUhNMG9nS0VJQ0FnSUR2dHN1WG9nRRAB</td>\n",
       "      <td>Excellent face massage by Goweri  Thankyou you...</td>\n",
       "      <td>2 days ago</td>\n",
       "      <td>2024-12-21 15:22:09.507917</td>\n",
       "      <td>2024-12-23 15:22:09.507958</td>\n",
       "      <td>5.0</td>\n",
       "      <td>Varun Bala Vk</td>\n",
       "      <td>0</td>\n",
       "      <td>ChIJB0quoslnUjoRf_vm8BiGHsM</td>\n",
       "    </tr>\n",
       "    <tr>\n",
       "      <th>4</th>\n",
       "      <td>ChZDSUhNMG9nS0VJQ0FnSUNLdUtTR1NREAE</td>\n",
       "      <td>Aakash raj - Did very good haircut and shave s...</td>\n",
       "      <td>3 days ago</td>\n",
       "      <td>2024-12-20 15:22:09.508090</td>\n",
       "      <td>2024-12-23 15:22:09.508131</td>\n",
       "      <td>5.0</td>\n",
       "      <td>Rajesh Gopalsamy</td>\n",
       "      <td>23</td>\n",
       "      <td>ChIJB0quoslnUjoRf_vm8BiGHsM</td>\n",
       "    </tr>\n",
       "  </tbody>\n",
       "</table>\n",
       "</div>"
      ],
      "text/plain": [
       "                              id_review  \\\n",
       "0   ChZDSUhNMG9nS0VJQ0FnSUR2dmVPaVR3EAE   \n",
       "1   ChZDSUhNMG9nS0VJQ0FnSUR2NVptekJnEAE   \n",
       "2  ChdDSUhNMG9nS0VJQ0FnSUR2NGJMZndBRRAB   \n",
       "3  ChdDSUhNMG9nS0VJQ0FnSUR2dHN1WG9nRRAB   \n",
       "4   ChZDSUhNMG9nS0VJQ0FnSUNLdUtTR1NREAE   \n",
       "\n",
       "                                             caption relative_date  \\\n",
       "0                                                NaN   an hour ago   \n",
       "1  Rosika did an excellent facial, great neck mas...  22 hours ago   \n",
       "2  had a great hair washing and blow dry experien...    2 days ago   \n",
       "3  Excellent face massage by Goweri  Thankyou you...    2 days ago   \n",
       "4  Aakash raj - Did very good haircut and shave s...    3 days ago   \n",
       "\n",
       "                  review_date              retrieval_date  rating  \\\n",
       "0  2024-12-23 15:22:09.506774  2024-12-23 15:22:09.506868     5.0   \n",
       "1  2024-12-23 15:22:09.507031  2024-12-23 15:22:09.507073     5.0   \n",
       "2  2024-12-21 15:22:09.507740  2024-12-23 15:22:09.507785     5.0   \n",
       "3  2024-12-21 15:22:09.507917  2024-12-23 15:22:09.507958     5.0   \n",
       "4  2024-12-20 15:22:09.508090  2024-12-23 15:22:09.508131     5.0   \n",
       "\n",
       "                username  n_review_user                     place_id  \n",
       "0               Vasanthu              0  ChIJB0quoslnUjoRf_vm8BiGHsM  \n",
       "1     Sujatha Madangopal              0  ChIJB0quoslnUjoRf_vm8BiGHsM  \n",
       "2  080 harshitha sridhar              0  ChIJB0quoslnUjoRf_vm8BiGHsM  \n",
       "3          Varun Bala Vk              0  ChIJB0quoslnUjoRf_vm8BiGHsM  \n",
       "4       Rajesh Gopalsamy             23  ChIJB0quoslnUjoRf_vm8BiGHsM  "
      ]
     },
     "execution_count": 65,
     "metadata": {},
     "output_type": "execute_result"
    }
   ],
   "source": [
    "df.head()"
   ]
  },
  {
   "cell_type": "code",
   "execution_count": 66,
   "id": "3e7b1b2c-4376-4afc-b6f0-ee096ceec439",
   "metadata": {},
   "outputs": [
    {
     "data": {
      "text/plain": [
       "place_id\n",
       "ChIJp4gXqlZaUjoR0qOHmTRnuOg    1393\n",
       "ChIJdZGLpRdmUjoRpfmePJPrL_I    1301\n",
       "ChIJdZIG_wVnUjoRPMLG0KojMZ4    1233\n",
       "ChIJ6aCWRmJnUjoRRmaT-wCYdLE    1207\n",
       "ChIJXS3RwKpfUjoReizoYiuHWeQ    1109\n",
       "                               ... \n",
       "ChIJc2rZU8NZUjoRpHxFHkKBqzw       4\n",
       "ChIJhbOICDdeUjoRTKDdJNSdE-U       4\n",
       "ChIJZfEOCVOIUjoRLDvAs5q9EJ0       2\n",
       "ChIJaQiH1DJhUjoRlxzzTRuXcJU       1\n",
       "ChIJI2180bJfUjoRQ4DFD7PjE8c       1\n",
       "Name: count, Length: 146, dtype: int64"
      ]
     },
     "execution_count": 66,
     "metadata": {},
     "output_type": "execute_result"
    }
   ],
   "source": [
    "df[\"place_id\"].value_counts()"
   ]
  },
  {
   "cell_type": "code",
   "execution_count": 67,
   "id": "9aa1dc2d-3bfd-401a-a424-367057ceacff",
   "metadata": {},
   "outputs": [
    {
     "data": {
      "text/plain": [
       "146"
      ]
     },
     "execution_count": 67,
     "metadata": {},
     "output_type": "execute_result"
    }
   ],
   "source": [
    "len(df[\"place_id\"].value_counts())"
   ]
  },
  {
   "cell_type": "code",
   "execution_count": 68,
   "id": "d6860bfc-0ad7-463f-88db-6ec3375658eb",
   "metadata": {},
   "outputs": [
    {
     "data": {
      "text/plain": [
       "relative_date\n",
       "4 months ago      7052\n",
       "2 months ago      5164\n",
       "3 months ago      5140\n",
       "9 months ago      5071\n",
       "6 months ago      5039\n",
       "5 months ago      4861\n",
       "8 months ago      4820\n",
       "10 months ago     4660\n",
       "7 months ago      4122\n",
       "11 months ago     3787\n",
       "2 weeks ago       1242\n",
       "3 weeks ago        876\n",
       "4 weeks ago        428\n",
       "2 days ago         256\n",
       "3 days ago         171\n",
       "4 days ago         150\n",
       "6 days ago         127\n",
       "5 days ago         117\n",
       "22 hours ago        13\n",
       "23 hours ago        13\n",
       "21 hours ago        12\n",
       "16 hours ago        12\n",
       "13 hours ago        11\n",
       "12 hours ago        11\n",
       "17 hours ago        10\n",
       "11 hours ago        10\n",
       "9 hours ago          9\n",
       "10 hours ago         9\n",
       "18 hours ago         9\n",
       "7 hours ago          9\n",
       "15 hours ago         8\n",
       "6 hours ago          7\n",
       "14 hours ago         7\n",
       "2 hours ago          6\n",
       "3 hours ago          6\n",
       "4 hours ago          6\n",
       "20 hours ago         6\n",
       "8 hours ago          5\n",
       "19 hours ago         3\n",
       "5 hours ago          3\n",
       "an hour ago          2\n",
       "20 minutes ago       1\n",
       "15 minutes ago       1\n",
       "just now             1\n",
       "11 minutes ago       1\n",
       "48 minutes ago       1\n",
       "43 minutes ago       1\n",
       "26 minutes ago       1\n",
       "Name: count, dtype: int64"
      ]
     },
     "execution_count": 68,
     "metadata": {},
     "output_type": "execute_result"
    }
   ],
   "source": [
    "df[\"relative_date\"].value_counts()"
   ]
  },
  {
   "cell_type": "code",
   "execution_count": 69,
   "id": "87576587-0da6-4d50-86d3-0c55cf14591a",
   "metadata": {},
   "outputs": [
    {
     "data": {
      "text/plain": [
       "review_date\n",
       "2024-12-23 15:22:09.506774    1\n",
       "2024-08-24 06:45:58.700052    1\n",
       "2024-02-24 07:00:13.192234    1\n",
       "2024-02-24 07:00:13.192426    1\n",
       "2024-02-24 07:00:13.192615    1\n",
       "                             ..\n",
       "2024-10-23 23:25:40.378043    1\n",
       "2024-10-23 23:25:40.378322    1\n",
       "2024-10-23 23:25:40.378543    1\n",
       "2024-10-23 23:25:40.378744    1\n",
       "2024-01-24 14:20:28.454014    1\n",
       "Name: count, Length: 53277, dtype: int64"
      ]
     },
     "execution_count": 69,
     "metadata": {},
     "output_type": "execute_result"
    }
   ],
   "source": [
    "df[\"review_date\"].value_counts()"
   ]
  },
  {
   "cell_type": "code",
   "execution_count": 70,
   "id": "1afd1ea9-6844-4caf-9686-5711720828d5",
   "metadata": {},
   "outputs": [
    {
     "data": {
      "text/plain": [
       "6755"
      ]
     },
     "execution_count": 70,
     "metadata": {},
     "output_type": "execute_result"
    }
   ],
   "source": [
    "df['caption'].isna().sum()"
   ]
  },
  {
   "cell_type": "code",
   "execution_count": 71,
   "id": "31d0a23d-36d1-4810-858b-bf0c1491703e",
   "metadata": {},
   "outputs": [],
   "source": [
    "df = df[df['caption'].notna()]"
   ]
  },
  {
   "cell_type": "code",
   "execution_count": 72,
   "id": "034443d1-e19f-476f-864b-70aa9e793ce9",
   "metadata": {},
   "outputs": [
    {
     "data": {
      "text/plain": [
       "46522"
      ]
     },
     "execution_count": 72,
     "metadata": {},
     "output_type": "execute_result"
    }
   ],
   "source": [
    "len(df)"
   ]
  },
  {
   "cell_type": "code",
   "execution_count": 73,
   "id": "3455f1be-61a3-4cfe-8eef-6118b3f2ecc9",
   "metadata": {},
   "outputs": [
    {
     "data": {
      "text/html": [
       "<div>\n",
       "<style scoped>\n",
       "    .dataframe tbody tr th:only-of-type {\n",
       "        vertical-align: middle;\n",
       "    }\n",
       "\n",
       "    .dataframe tbody tr th {\n",
       "        vertical-align: top;\n",
       "    }\n",
       "\n",
       "    .dataframe thead th {\n",
       "        text-align: right;\n",
       "    }\n",
       "</style>\n",
       "<table border=\"1\" class=\"dataframe\">\n",
       "  <thead>\n",
       "    <tr style=\"text-align: right;\">\n",
       "      <th></th>\n",
       "      <th>id_review</th>\n",
       "      <th>caption</th>\n",
       "      <th>relative_date</th>\n",
       "      <th>review_date</th>\n",
       "      <th>retrieval_date</th>\n",
       "      <th>rating</th>\n",
       "      <th>username</th>\n",
       "      <th>n_review_user</th>\n",
       "      <th>place_id</th>\n",
       "    </tr>\n",
       "  </thead>\n",
       "  <tbody>\n",
       "    <tr>\n",
       "      <th>1</th>\n",
       "      <td>ChZDSUhNMG9nS0VJQ0FnSUR2NVptekJnEAE</td>\n",
       "      <td>Rosika did an excellent facial, great neck mas...</td>\n",
       "      <td>22 hours ago</td>\n",
       "      <td>2024-12-23 15:22:09.507031</td>\n",
       "      <td>2024-12-23 15:22:09.507073</td>\n",
       "      <td>5.0</td>\n",
       "      <td>Sujatha Madangopal</td>\n",
       "      <td>0</td>\n",
       "      <td>ChIJB0quoslnUjoRf_vm8BiGHsM</td>\n",
       "    </tr>\n",
       "    <tr>\n",
       "      <th>2</th>\n",
       "      <td>ChdDSUhNMG9nS0VJQ0FnSUR2NGJMZndBRRAB</td>\n",
       "      <td>had a great hair washing and blow dry experien...</td>\n",
       "      <td>2 days ago</td>\n",
       "      <td>2024-12-21 15:22:09.507740</td>\n",
       "      <td>2024-12-23 15:22:09.507785</td>\n",
       "      <td>5.0</td>\n",
       "      <td>080 harshitha sridhar</td>\n",
       "      <td>0</td>\n",
       "      <td>ChIJB0quoslnUjoRf_vm8BiGHsM</td>\n",
       "    </tr>\n",
       "    <tr>\n",
       "      <th>3</th>\n",
       "      <td>ChdDSUhNMG9nS0VJQ0FnSUR2dHN1WG9nRRAB</td>\n",
       "      <td>Excellent face massage by Goweri  Thankyou you...</td>\n",
       "      <td>2 days ago</td>\n",
       "      <td>2024-12-21 15:22:09.507917</td>\n",
       "      <td>2024-12-23 15:22:09.507958</td>\n",
       "      <td>5.0</td>\n",
       "      <td>Varun Bala Vk</td>\n",
       "      <td>0</td>\n",
       "      <td>ChIJB0quoslnUjoRf_vm8BiGHsM</td>\n",
       "    </tr>\n",
       "    <tr>\n",
       "      <th>4</th>\n",
       "      <td>ChZDSUhNMG9nS0VJQ0FnSUNLdUtTR1NREAE</td>\n",
       "      <td>Aakash raj - Did very good haircut and shave s...</td>\n",
       "      <td>3 days ago</td>\n",
       "      <td>2024-12-20 15:22:09.508090</td>\n",
       "      <td>2024-12-23 15:22:09.508131</td>\n",
       "      <td>5.0</td>\n",
       "      <td>Rajesh Gopalsamy</td>\n",
       "      <td>23</td>\n",
       "      <td>ChIJB0quoslnUjoRf_vm8BiGHsM</td>\n",
       "    </tr>\n",
       "    <tr>\n",
       "      <th>5</th>\n",
       "      <td>ChZDSUhNMG9nS0VJQ0FnSUR2M01DbWR3EAE</td>\n",
       "      <td>Excellent hair spa service by Rosika</td>\n",
       "      <td>4 days ago</td>\n",
       "      <td>2024-12-19 15:22:09.508263</td>\n",
       "      <td>2024-12-23 15:22:09.508304</td>\n",
       "      <td>5.0</td>\n",
       "      <td>Kaviya</td>\n",
       "      <td>19</td>\n",
       "      <td>ChIJB0quoslnUjoRf_vm8BiGHsM</td>\n",
       "    </tr>\n",
       "  </tbody>\n",
       "</table>\n",
       "</div>"
      ],
      "text/plain": [
       "                              id_review  \\\n",
       "1   ChZDSUhNMG9nS0VJQ0FnSUR2NVptekJnEAE   \n",
       "2  ChdDSUhNMG9nS0VJQ0FnSUR2NGJMZndBRRAB   \n",
       "3  ChdDSUhNMG9nS0VJQ0FnSUR2dHN1WG9nRRAB   \n",
       "4   ChZDSUhNMG9nS0VJQ0FnSUNLdUtTR1NREAE   \n",
       "5   ChZDSUhNMG9nS0VJQ0FnSUR2M01DbWR3EAE   \n",
       "\n",
       "                                             caption relative_date  \\\n",
       "1  Rosika did an excellent facial, great neck mas...  22 hours ago   \n",
       "2  had a great hair washing and blow dry experien...    2 days ago   \n",
       "3  Excellent face massage by Goweri  Thankyou you...    2 days ago   \n",
       "4  Aakash raj - Did very good haircut and shave s...    3 days ago   \n",
       "5               Excellent hair spa service by Rosika    4 days ago   \n",
       "\n",
       "                  review_date              retrieval_date  rating  \\\n",
       "1  2024-12-23 15:22:09.507031  2024-12-23 15:22:09.507073     5.0   \n",
       "2  2024-12-21 15:22:09.507740  2024-12-23 15:22:09.507785     5.0   \n",
       "3  2024-12-21 15:22:09.507917  2024-12-23 15:22:09.507958     5.0   \n",
       "4  2024-12-20 15:22:09.508090  2024-12-23 15:22:09.508131     5.0   \n",
       "5  2024-12-19 15:22:09.508263  2024-12-23 15:22:09.508304     5.0   \n",
       "\n",
       "                username  n_review_user                     place_id  \n",
       "1     Sujatha Madangopal              0  ChIJB0quoslnUjoRf_vm8BiGHsM  \n",
       "2  080 harshitha sridhar              0  ChIJB0quoslnUjoRf_vm8BiGHsM  \n",
       "3          Varun Bala Vk              0  ChIJB0quoslnUjoRf_vm8BiGHsM  \n",
       "4       Rajesh Gopalsamy             23  ChIJB0quoslnUjoRf_vm8BiGHsM  \n",
       "5                 Kaviya             19  ChIJB0quoslnUjoRf_vm8BiGHsM  "
      ]
     },
     "execution_count": 73,
     "metadata": {},
     "output_type": "execute_result"
    }
   ],
   "source": [
    "df.head()"
   ]
  },
  {
   "cell_type": "code",
   "execution_count": 74,
   "id": "be5044c9-fea1-42d6-be95-c5e5fd44e766",
   "metadata": {},
   "outputs": [],
   "source": [
    "reviews = df[\"caption\"]"
   ]
  },
  {
   "cell_type": "code",
   "execution_count": 75,
   "id": "5f5110ec-f6fd-4b48-b6e2-b25ebc6eb4e9",
   "metadata": {},
   "outputs": [
    {
     "data": {
      "text/plain": [
       "46522"
      ]
     },
     "execution_count": 75,
     "metadata": {},
     "output_type": "execute_result"
    }
   ],
   "source": [
    "len(reviews)"
   ]
  },
  {
   "cell_type": "code",
   "execution_count": 76,
   "id": "2e433887-6e27-470d-8a81-97624250aa29",
   "metadata": {},
   "outputs": [
    {
     "data": {
      "text/plain": [
       "1        Rosika did an excellent facial, great neck mas...\n",
       "2        had a great hair washing and blow dry experien...\n",
       "3        Excellent face massage by Goweri  Thankyou you...\n",
       "4        Aakash raj - Did very good haircut and shave s...\n",
       "5                     Excellent hair spa service by Rosika\n",
       "                               ...                        \n",
       "53272    Anju service is very good and neat with patience.\n",
       "53273    Great haircut and service by Mr.Saravanan . Wi...\n",
       "53274    Fantastic service, very happy with the staff. ...\n",
       "53275    Saravanan done will haircut and style for me 🔥🔥 …\n",
       "53276                 Very nice salon with skillful barber\n",
       "Name: caption, Length: 46522, dtype: object"
      ]
     },
     "execution_count": 76,
     "metadata": {},
     "output_type": "execute_result"
    }
   ],
   "source": [
    "reviews"
   ]
  },
  {
   "cell_type": "code",
   "execution_count": 77,
   "id": "12021eaa-a9bd-4fe9-9533-81aac2e22849",
   "metadata": {},
   "outputs": [],
   "source": [
    "# Function to analyze sentiment\n",
    "def analyze_sentiment(text):\n",
    "    \"\"\"\n",
    "    Analyze the sentiment of a given text using OpenAI's GPT models.\n",
    "\n",
    "    Args:\n",
    "        text (str): The text to analyze.\n",
    "\n",
    "    Returns:\n",
    "        str: The sentiment analysis result (e.g., \"Positive\", \"Negative\", \"Neutral\").\n",
    "    \"\"\"\n",
    "    client = OpenAI(api_key=os.environ.get(\"OPENAI_API_KEY\"))\n",
    "    \n",
    "    try:\n",
    "        response = client.chat.completions.create(\n",
    "            model=\"gpt-4\",  # Replace with the model you prefer\n",
    "            messages=[\n",
    "                {\"role\": \"system\", \"content\": \"You are a sentiment analysis assistant.\"},\n",
    "                {\"role\": \"user\", \"content\": f\"Please classify the sentiment of the following text as Positive, Negative, or Neutral:\\n\\n{text}\"}\n",
    "            ],\n",
    "            temperature=0.0\n",
    "        )\n",
    "\n",
    "        sentiment = response.choices[0].message.content\n",
    "        return sentiment\n",
    "        \n",
    "    except Exception as e:\n",
    "        print(f\"Error during sentiment analysis: {e}\")\n",
    "        return None"
   ]
  },
  {
   "cell_type": "code",
   "execution_count": 78,
   "id": "f9f865bf-c9b1-4b87-8e6d-4e39b8b71745",
   "metadata": {},
   "outputs": [
    {
     "ename": "FileNotFoundError",
     "evalue": "[Errno 2] No such file or directory",
     "output_type": "error",
     "traceback": [
      "\u001b[0;31m---------------------------------------------------------------------------\u001b[0m",
      "\u001b[0;31mFileNotFoundError\u001b[0m                         Traceback (most recent call last)",
      "Cell \u001b[0;32mIn[78], line 1\u001b[0m\n\u001b[0;32m----> 1\u001b[0m response \u001b[38;5;241m=\u001b[39m \u001b[43manalyze_sentiment\u001b[49m\u001b[43m(\u001b[49m\u001b[43mreviews\u001b[49m\u001b[43m[\u001b[49m\u001b[38;5;241;43m1\u001b[39;49m\u001b[43m]\u001b[49m\u001b[43m)\u001b[49m\n",
      "Cell \u001b[0;32mIn[77], line 12\u001b[0m, in \u001b[0;36manalyze_sentiment\u001b[0;34m(text)\u001b[0m\n\u001b[1;32m      2\u001b[0m \u001b[38;5;28;01mdef\u001b[39;00m \u001b[38;5;21manalyze_sentiment\u001b[39m(text):\n\u001b[1;32m      3\u001b[0m \u001b[38;5;250m    \u001b[39m\u001b[38;5;124;03m\"\"\"\u001b[39;00m\n\u001b[1;32m      4\u001b[0m \u001b[38;5;124;03m    Analyze the sentiment of a given text using OpenAI's GPT models.\u001b[39;00m\n\u001b[1;32m      5\u001b[0m \n\u001b[0;32m   (...)\u001b[0m\n\u001b[1;32m     10\u001b[0m \u001b[38;5;124;03m        str: The sentiment analysis result (e.g., \"Positive\", \"Negative\", \"Neutral\").\u001b[39;00m\n\u001b[1;32m     11\u001b[0m \u001b[38;5;124;03m    \"\"\"\u001b[39;00m\n\u001b[0;32m---> 12\u001b[0m     client \u001b[38;5;241m=\u001b[39m \u001b[43mOpenAI\u001b[49m\u001b[43m(\u001b[49m\u001b[43mapi_key\u001b[49m\u001b[38;5;241;43m=\u001b[39;49m\u001b[43mos\u001b[49m\u001b[38;5;241;43m.\u001b[39;49m\u001b[43menviron\u001b[49m\u001b[38;5;241;43m.\u001b[39;49m\u001b[43mget\u001b[49m\u001b[43m(\u001b[49m\u001b[38;5;124;43m\"\u001b[39;49m\u001b[38;5;124;43mOPENAI_API_KEY\u001b[39;49m\u001b[38;5;124;43m\"\u001b[39;49m\u001b[43m)\u001b[49m\u001b[43m)\u001b[49m\n\u001b[1;32m     14\u001b[0m     \u001b[38;5;28;01mtry\u001b[39;00m:\n\u001b[1;32m     15\u001b[0m         response \u001b[38;5;241m=\u001b[39m client\u001b[38;5;241m.\u001b[39mchat\u001b[38;5;241m.\u001b[39mcompletions\u001b[38;5;241m.\u001b[39mcreate(\n\u001b[1;32m     16\u001b[0m             model\u001b[38;5;241m=\u001b[39m\u001b[38;5;124m\"\u001b[39m\u001b[38;5;124mgpt-4\u001b[39m\u001b[38;5;124m\"\u001b[39m,  \u001b[38;5;66;03m# Replace with the model you prefer\u001b[39;00m\n\u001b[1;32m     17\u001b[0m             messages\u001b[38;5;241m=\u001b[39m[\n\u001b[0;32m   (...)\u001b[0m\n\u001b[1;32m     21\u001b[0m             temperature\u001b[38;5;241m=\u001b[39m\u001b[38;5;241m0.0\u001b[39m\n\u001b[1;32m     22\u001b[0m         )\n",
      "File \u001b[0;32m~/Documents/bgorgeous_agentic_ai/proj_env/lib/python3.9/site-packages/openai/_client.py:119\u001b[0m, in \u001b[0;36m__init__\u001b[0;34m(self, api_key, organization, project, base_url, timeout, max_retries, default_headers, default_query, http_client, _strict_response_validation)\u001b[0m\n",
      "File \u001b[0;32m~/Documents/bgorgeous_agentic_ai/proj_env/lib/python3.9/site-packages/openai/_base_client.py:860\u001b[0m, in \u001b[0;36mSyncAPIClient.__init__\u001b[0;34m(self, version, base_url, max_retries, timeout, transport, proxies, limits, http_client, custom_headers, custom_query, _strict_response_validation)\u001b[0m\n\u001b[1;32m    843\u001b[0m     \u001b[38;5;28;01mraise\u001b[39;00m \u001b[38;5;167;01mTypeError\u001b[39;00m(\n\u001b[1;32m    844\u001b[0m         \u001b[38;5;124mf\u001b[39m\u001b[38;5;124m\"\u001b[39m\u001b[38;5;124mInvalid `http_client` argument; Expected an instance of `httpx.Client` but got \u001b[39m\u001b[38;5;132;01m{\u001b[39;00m\u001b[38;5;28mtype\u001b[39m(http_client)\u001b[38;5;132;01m}\u001b[39;00m\u001b[38;5;124m\"\u001b[39m\n\u001b[1;32m    845\u001b[0m     )\n\u001b[1;32m    847\u001b[0m \u001b[38;5;28msuper\u001b[39m()\u001b[38;5;241m.\u001b[39m\u001b[38;5;21m__init__\u001b[39m(\n\u001b[1;32m    848\u001b[0m     version\u001b[38;5;241m=\u001b[39mversion,\n\u001b[1;32m    849\u001b[0m     limits\u001b[38;5;241m=\u001b[39mlimits,\n\u001b[0;32m   (...)\u001b[0m\n\u001b[1;32m    858\u001b[0m     _strict_response_validation\u001b[38;5;241m=\u001b[39m_strict_response_validation,\n\u001b[1;32m    859\u001b[0m )\n\u001b[0;32m--> 860\u001b[0m \u001b[38;5;28mself\u001b[39m\u001b[38;5;241m.\u001b[39m_client \u001b[38;5;241m=\u001b[39m http_client \u001b[38;5;129;01mor\u001b[39;00m \u001b[43mSyncHttpxClientWrapper\u001b[49m\u001b[43m(\u001b[49m\n\u001b[1;32m    861\u001b[0m \u001b[43m    \u001b[49m\u001b[43mbase_url\u001b[49m\u001b[38;5;241;43m=\u001b[39;49m\u001b[43mbase_url\u001b[49m\u001b[43m,\u001b[49m\n\u001b[1;32m    862\u001b[0m \u001b[43m    \u001b[49m\u001b[38;5;66;43;03m# cast to a valid type because mypy doesn't understand our type narrowing\u001b[39;49;00m\n\u001b[1;32m    863\u001b[0m \u001b[43m    \u001b[49m\u001b[43mtimeout\u001b[49m\u001b[38;5;241;43m=\u001b[39;49m\u001b[43mcast\u001b[49m\u001b[43m(\u001b[49m\u001b[43mTimeout\u001b[49m\u001b[43m,\u001b[49m\u001b[43m \u001b[49m\u001b[43mtimeout\u001b[49m\u001b[43m)\u001b[49m\u001b[43m,\u001b[49m\n\u001b[1;32m    864\u001b[0m \u001b[43m    \u001b[49m\u001b[43mlimits\u001b[49m\u001b[38;5;241;43m=\u001b[39;49m\u001b[43mlimits\u001b[49m\u001b[43m,\u001b[49m\n\u001b[1;32m    865\u001b[0m \u001b[43m    \u001b[49m\u001b[43mfollow_redirects\u001b[49m\u001b[38;5;241;43m=\u001b[39;49m\u001b[38;5;28;43;01mTrue\u001b[39;49;00m\u001b[43m,\u001b[49m\n\u001b[1;32m    866\u001b[0m \u001b[43m    \u001b[49m\u001b[38;5;241;43m*\u001b[39;49m\u001b[38;5;241;43m*\u001b[39;49m\u001b[43mkwargs\u001b[49m\u001b[43m,\u001b[49m\u001b[43m  \u001b[49m\u001b[38;5;66;43;03m# type: ignore\u001b[39;49;00m\n\u001b[1;32m    867\u001b[0m \u001b[43m\u001b[49m\u001b[43m)\u001b[49m\n",
      "File \u001b[0;32m~/Documents/bgorgeous_agentic_ai/proj_env/lib/python3.9/site-packages/openai/_base_client.py:755\u001b[0m, in \u001b[0;36m_DefaultHttpxClient.__init__\u001b[0;34m(self, **kwargs)\u001b[0m\n\u001b[1;32m    753\u001b[0m kwargs\u001b[38;5;241m.\u001b[39msetdefault(\u001b[38;5;124m\"\u001b[39m\u001b[38;5;124mlimits\u001b[39m\u001b[38;5;124m\"\u001b[39m, DEFAULT_CONNECTION_LIMITS)\n\u001b[1;32m    754\u001b[0m kwargs\u001b[38;5;241m.\u001b[39msetdefault(\u001b[38;5;124m\"\u001b[39m\u001b[38;5;124mfollow_redirects\u001b[39m\u001b[38;5;124m\"\u001b[39m, \u001b[38;5;28;01mTrue\u001b[39;00m)\n\u001b[0;32m--> 755\u001b[0m \u001b[38;5;28;43msuper\u001b[39;49m\u001b[43m(\u001b[49m\u001b[43m)\u001b[49m\u001b[38;5;241;43m.\u001b[39;49m\u001b[38;5;21;43m__init__\u001b[39;49m\u001b[43m(\u001b[49m\u001b[38;5;241;43m*\u001b[39;49m\u001b[38;5;241;43m*\u001b[39;49m\u001b[43mkwargs\u001b[49m\u001b[43m)\u001b[49m\n",
      "File \u001b[0;32m~/Documents/bgorgeous_agentic_ai/proj_env/lib/python3.9/site-packages/httpx/_client.py:688\u001b[0m, in \u001b[0;36mClient.__init__\u001b[0;34m(self, auth, params, headers, cookies, verify, cert, trust_env, http1, http2, proxy, mounts, timeout, follow_redirects, limits, max_redirects, event_hooks, base_url, transport, default_encoding)\u001b[0m\n\u001b[1;32m    685\u001b[0m allow_env_proxies \u001b[38;5;241m=\u001b[39m trust_env \u001b[38;5;129;01mand\u001b[39;00m transport \u001b[38;5;129;01mis\u001b[39;00m \u001b[38;5;28;01mNone\u001b[39;00m\n\u001b[1;32m    686\u001b[0m proxy_map \u001b[38;5;241m=\u001b[39m \u001b[38;5;28mself\u001b[39m\u001b[38;5;241m.\u001b[39m_get_proxy_map(proxy, allow_env_proxies)\n\u001b[0;32m--> 688\u001b[0m \u001b[38;5;28mself\u001b[39m\u001b[38;5;241m.\u001b[39m_transport \u001b[38;5;241m=\u001b[39m \u001b[38;5;28;43mself\u001b[39;49m\u001b[38;5;241;43m.\u001b[39;49m\u001b[43m_init_transport\u001b[49m\u001b[43m(\u001b[49m\n\u001b[1;32m    689\u001b[0m \u001b[43m    \u001b[49m\u001b[43mverify\u001b[49m\u001b[38;5;241;43m=\u001b[39;49m\u001b[43mverify\u001b[49m\u001b[43m,\u001b[49m\n\u001b[1;32m    690\u001b[0m \u001b[43m    \u001b[49m\u001b[43mcert\u001b[49m\u001b[38;5;241;43m=\u001b[39;49m\u001b[43mcert\u001b[49m\u001b[43m,\u001b[49m\n\u001b[1;32m    691\u001b[0m \u001b[43m    \u001b[49m\u001b[43mtrust_env\u001b[49m\u001b[38;5;241;43m=\u001b[39;49m\u001b[43mtrust_env\u001b[49m\u001b[43m,\u001b[49m\n\u001b[1;32m    692\u001b[0m \u001b[43m    \u001b[49m\u001b[43mhttp1\u001b[49m\u001b[38;5;241;43m=\u001b[39;49m\u001b[43mhttp1\u001b[49m\u001b[43m,\u001b[49m\n\u001b[1;32m    693\u001b[0m \u001b[43m    \u001b[49m\u001b[43mhttp2\u001b[49m\u001b[38;5;241;43m=\u001b[39;49m\u001b[43mhttp2\u001b[49m\u001b[43m,\u001b[49m\n\u001b[1;32m    694\u001b[0m \u001b[43m    \u001b[49m\u001b[43mlimits\u001b[49m\u001b[38;5;241;43m=\u001b[39;49m\u001b[43mlimits\u001b[49m\u001b[43m,\u001b[49m\n\u001b[1;32m    695\u001b[0m \u001b[43m    \u001b[49m\u001b[43mtransport\u001b[49m\u001b[38;5;241;43m=\u001b[39;49m\u001b[43mtransport\u001b[49m\u001b[43m,\u001b[49m\n\u001b[1;32m    696\u001b[0m \u001b[43m\u001b[49m\u001b[43m)\u001b[49m\n\u001b[1;32m    697\u001b[0m \u001b[38;5;28mself\u001b[39m\u001b[38;5;241m.\u001b[39m_mounts: \u001b[38;5;28mdict\u001b[39m[URLPattern, BaseTransport \u001b[38;5;241m|\u001b[39m \u001b[38;5;28;01mNone\u001b[39;00m] \u001b[38;5;241m=\u001b[39m {\n\u001b[1;32m    698\u001b[0m     URLPattern(key): \u001b[38;5;28;01mNone\u001b[39;00m\n\u001b[1;32m    699\u001b[0m     \u001b[38;5;28;01mif\u001b[39;00m proxy \u001b[38;5;129;01mis\u001b[39;00m \u001b[38;5;28;01mNone\u001b[39;00m\n\u001b[0;32m   (...)\u001b[0m\n\u001b[1;32m    709\u001b[0m     \u001b[38;5;28;01mfor\u001b[39;00m key, proxy \u001b[38;5;129;01min\u001b[39;00m proxy_map\u001b[38;5;241m.\u001b[39mitems()\n\u001b[1;32m    710\u001b[0m }\n\u001b[1;32m    711\u001b[0m \u001b[38;5;28;01mif\u001b[39;00m mounts \u001b[38;5;129;01mis\u001b[39;00m \u001b[38;5;129;01mnot\u001b[39;00m \u001b[38;5;28;01mNone\u001b[39;00m:\n",
      "File \u001b[0;32m~/Documents/bgorgeous_agentic_ai/proj_env/lib/python3.9/site-packages/httpx/_client.py:731\u001b[0m, in \u001b[0;36mClient._init_transport\u001b[0;34m(self, verify, cert, trust_env, http1, http2, limits, transport)\u001b[0m\n\u001b[1;32m    728\u001b[0m \u001b[38;5;28;01mif\u001b[39;00m transport \u001b[38;5;129;01mis\u001b[39;00m \u001b[38;5;129;01mnot\u001b[39;00m \u001b[38;5;28;01mNone\u001b[39;00m:\n\u001b[1;32m    729\u001b[0m     \u001b[38;5;28;01mreturn\u001b[39;00m transport\n\u001b[0;32m--> 731\u001b[0m \u001b[38;5;28;01mreturn\u001b[39;00m \u001b[43mHTTPTransport\u001b[49m\u001b[43m(\u001b[49m\n\u001b[1;32m    732\u001b[0m \u001b[43m    \u001b[49m\u001b[43mverify\u001b[49m\u001b[38;5;241;43m=\u001b[39;49m\u001b[43mverify\u001b[49m\u001b[43m,\u001b[49m\n\u001b[1;32m    733\u001b[0m \u001b[43m    \u001b[49m\u001b[43mcert\u001b[49m\u001b[38;5;241;43m=\u001b[39;49m\u001b[43mcert\u001b[49m\u001b[43m,\u001b[49m\n\u001b[1;32m    734\u001b[0m \u001b[43m    \u001b[49m\u001b[43mtrust_env\u001b[49m\u001b[38;5;241;43m=\u001b[39;49m\u001b[43mtrust_env\u001b[49m\u001b[43m,\u001b[49m\n\u001b[1;32m    735\u001b[0m \u001b[43m    \u001b[49m\u001b[43mhttp1\u001b[49m\u001b[38;5;241;43m=\u001b[39;49m\u001b[43mhttp1\u001b[49m\u001b[43m,\u001b[49m\n\u001b[1;32m    736\u001b[0m \u001b[43m    \u001b[49m\u001b[43mhttp2\u001b[49m\u001b[38;5;241;43m=\u001b[39;49m\u001b[43mhttp2\u001b[49m\u001b[43m,\u001b[49m\n\u001b[1;32m    737\u001b[0m \u001b[43m    \u001b[49m\u001b[43mlimits\u001b[49m\u001b[38;5;241;43m=\u001b[39;49m\u001b[43mlimits\u001b[49m\u001b[43m,\u001b[49m\n\u001b[1;32m    738\u001b[0m \u001b[43m\u001b[49m\u001b[43m)\u001b[49m\n",
      "File \u001b[0;32m~/Documents/bgorgeous_agentic_ai/proj_env/lib/python3.9/site-packages/httpx/_transports/default.py:153\u001b[0m, in \u001b[0;36mHTTPTransport.__init__\u001b[0;34m(self, verify, cert, trust_env, http1, http2, limits, proxy, uds, local_address, retries, socket_options)\u001b[0m\n\u001b[1;32m    150\u001b[0m \u001b[38;5;28;01mimport\u001b[39;00m \u001b[38;5;21;01mhttpcore\u001b[39;00m\n\u001b[1;32m    152\u001b[0m proxy \u001b[38;5;241m=\u001b[39m Proxy(url\u001b[38;5;241m=\u001b[39mproxy) \u001b[38;5;28;01mif\u001b[39;00m \u001b[38;5;28misinstance\u001b[39m(proxy, (\u001b[38;5;28mstr\u001b[39m, URL)) \u001b[38;5;28;01melse\u001b[39;00m proxy\n\u001b[0;32m--> 153\u001b[0m ssl_context \u001b[38;5;241m=\u001b[39m \u001b[43mcreate_ssl_context\u001b[49m\u001b[43m(\u001b[49m\u001b[43mverify\u001b[49m\u001b[38;5;241;43m=\u001b[39;49m\u001b[43mverify\u001b[49m\u001b[43m,\u001b[49m\u001b[43m \u001b[49m\u001b[43mcert\u001b[49m\u001b[38;5;241;43m=\u001b[39;49m\u001b[43mcert\u001b[49m\u001b[43m,\u001b[49m\u001b[43m \u001b[49m\u001b[43mtrust_env\u001b[49m\u001b[38;5;241;43m=\u001b[39;49m\u001b[43mtrust_env\u001b[49m\u001b[43m)\u001b[49m\n\u001b[1;32m    155\u001b[0m \u001b[38;5;28;01mif\u001b[39;00m proxy \u001b[38;5;129;01mis\u001b[39;00m \u001b[38;5;28;01mNone\u001b[39;00m:\n\u001b[1;32m    156\u001b[0m     \u001b[38;5;28mself\u001b[39m\u001b[38;5;241m.\u001b[39m_pool \u001b[38;5;241m=\u001b[39m httpcore\u001b[38;5;241m.\u001b[39mConnectionPool(\n\u001b[1;32m    157\u001b[0m         ssl_context\u001b[38;5;241m=\u001b[39mssl_context,\n\u001b[1;32m    158\u001b[0m         max_connections\u001b[38;5;241m=\u001b[39mlimits\u001b[38;5;241m.\u001b[39mmax_connections,\n\u001b[0;32m   (...)\u001b[0m\n\u001b[1;32m    166\u001b[0m         socket_options\u001b[38;5;241m=\u001b[39msocket_options,\n\u001b[1;32m    167\u001b[0m     )\n",
      "File \u001b[0;32m~/Documents/bgorgeous_agentic_ai/proj_env/lib/python3.9/site-packages/httpx/_config.py:40\u001b[0m, in \u001b[0;36mcreate_ssl_context\u001b[0;34m(verify, cert, trust_env)\u001b[0m\n",
      "File \u001b[0;32m/Library/Developer/CommandLineTools/Library/Frameworks/Python3.framework/Versions/3.9/lib/python3.9/ssl.py:745\u001b[0m, in \u001b[0;36mcreate_default_context\u001b[0;34m(purpose, cafile, capath, cadata)\u001b[0m\n\u001b[1;32m    742\u001b[0m     context\u001b[38;5;241m.\u001b[39mcheck_hostname \u001b[38;5;241m=\u001b[39m \u001b[38;5;28;01mTrue\u001b[39;00m\n\u001b[1;32m    744\u001b[0m \u001b[38;5;28;01mif\u001b[39;00m cafile \u001b[38;5;129;01mor\u001b[39;00m capath \u001b[38;5;129;01mor\u001b[39;00m cadata:\n\u001b[0;32m--> 745\u001b[0m     \u001b[43mcontext\u001b[49m\u001b[38;5;241;43m.\u001b[39;49m\u001b[43mload_verify_locations\u001b[49m\u001b[43m(\u001b[49m\u001b[43mcafile\u001b[49m\u001b[43m,\u001b[49m\u001b[43m \u001b[49m\u001b[43mcapath\u001b[49m\u001b[43m,\u001b[49m\u001b[43m \u001b[49m\u001b[43mcadata\u001b[49m\u001b[43m)\u001b[49m\n\u001b[1;32m    746\u001b[0m \u001b[38;5;28;01melif\u001b[39;00m context\u001b[38;5;241m.\u001b[39mverify_mode \u001b[38;5;241m!=\u001b[39m CERT_NONE:\n\u001b[1;32m    747\u001b[0m     \u001b[38;5;66;03m# no explicit cafile, capath or cadata but the verify mode is\u001b[39;00m\n\u001b[1;32m    748\u001b[0m     \u001b[38;5;66;03m# CERT_OPTIONAL or CERT_REQUIRED. Let's try to load default system\u001b[39;00m\n\u001b[1;32m    749\u001b[0m     \u001b[38;5;66;03m# root CA certificates for the given purpose. This may fail silently.\u001b[39;00m\n\u001b[1;32m    750\u001b[0m     context\u001b[38;5;241m.\u001b[39mload_default_certs(purpose)\n",
      "\u001b[0;31mFileNotFoundError\u001b[0m: [Errno 2] No such file or directory"
     ]
    }
   ],
   "source": [
    "response = analyze_sentiment(reviews[1])"
   ]
  },
  {
   "cell_type": "code",
   "execution_count": 34,
   "id": "098c9ad0-2816-43a9-ba6a-622d348a2757",
   "metadata": {},
   "outputs": [
    {
     "data": {
      "text/plain": [
       "'Positive'"
      ]
     },
     "execution_count": 34,
     "metadata": {},
     "output_type": "execute_result"
    }
   ],
   "source": [
    "response"
   ]
  },
  {
   "cell_type": "code",
   "execution_count": 35,
   "id": "92cca112-8559-4001-9b4f-429e462432a2",
   "metadata": {},
   "outputs": [
    {
     "data": {
      "text/plain": [
       "'Rosika did an excellent facial, great neck massage,, hair colour and great job by kala - waxing..'"
      ]
     },
     "execution_count": 35,
     "metadata": {},
     "output_type": "execute_result"
    }
   ],
   "source": [
    "reviews[1]"
   ]
  },
  {
   "cell_type": "code",
   "execution_count": 36,
   "id": "b8600970-c4d5-478f-a0b6-64c35e1e6b45",
   "metadata": {},
   "outputs": [],
   "source": [
    "tqdm.pandas()"
   ]
  },
  {
   "cell_type": "code",
   "execution_count": 52,
   "id": "0dd98aa6-b643-49f2-ba1b-990ba7d1b769",
   "metadata": {},
   "outputs": [],
   "source": [
    "def analyze_sentiment_batch(texts):\n",
    "    \"\"\"\n",
    "    Analyze sentiment for a batch of texts using OpenAI API.\n",
    "\n",
    "    Args:\n",
    "        texts (list of str): List of texts to analyze.\n",
    "\n",
    "    Returns:\n",
    "        list of str: List of sentiment analysis results.\n",
    "    \"\"\"\n",
    "    client = OpenAI(api_key=os.environ.get(\"OPENAI_API_KEY\"))\n",
    "    \n",
    "    try:\n",
    "        # Batch prompt with numbered texts for clarity\n",
    "        batch_prompt = \"\\n\".join(\n",
    "            [f\"Text {i+1}: {text}\" for i, text in enumerate(texts)]\n",
    "        )\n",
    "        messages = [\n",
    "            {\"role\": \"system\", \"content\": \"You are a sentiment analysis assistant.\"},\n",
    "            {\"role\": \"user\", \"content\": f\"Classify the sentiment of the following texts only as either Positive, Negative, Mixed, or Neutral:\\n\\n{batch_prompt}.\" \n",
    "                    f\"If you find text in Tamil, translate first and then classify.\"\n",
    "                    f\"If you find spelling or grammatical errors, correct the spelling and/or grammar and then classify.\" }\n",
    "        ]\n",
    "        \n",
    "        response = client.chat.completions.create(\n",
    "            model=\"gpt-4\",  # Use \"gpt-3.5-turbo\" for faster response if accuracy is acceptable\n",
    "            messages=messages,\n",
    "            temperature=0.0\n",
    "        )\n",
    "        \n",
    "        # Parse response into individual results\n",
    "        results = response.choices[0].message.content.split(\"\\n\")\n",
    "        return [result.split(\":\")[1].strip() for result in results]\n",
    "    \n",
    "    except Exception as e:\n",
    "        print(f\"Error during sentiment analysis: {e}\")\n",
    "        return [None] * len(texts)"
   ]
  },
  {
   "cell_type": "code",
   "execution_count": 53,
   "id": "c22ca60d-5fa5-46ba-a5f0-12fffd1a2829",
   "metadata": {},
   "outputs": [
    {
     "data": {
      "text/plain": [
       "46522"
      ]
     },
     "execution_count": 53,
     "metadata": {},
     "output_type": "execute_result"
    }
   ],
   "source": [
    "len(df)"
   ]
  },
  {
   "cell_type": "code",
   "execution_count": 54,
   "id": "d7ed06bf-1003-4a64-9ff2-736c285dffee",
   "metadata": {},
   "outputs": [],
   "source": [
    "df = df.dropna(subset=\"caption\")"
   ]
  },
  {
   "cell_type": "code",
   "execution_count": 55,
   "id": "67b443fa-1a77-45f2-b5b7-e10ec62793c2",
   "metadata": {},
   "outputs": [
    {
     "data": {
      "text/plain": [
       "46522"
      ]
     },
     "execution_count": 55,
     "metadata": {},
     "output_type": "execute_result"
    }
   ],
   "source": [
    "len(df)"
   ]
  },
  {
   "cell_type": "code",
   "execution_count": 56,
   "id": "c72d439d-b075-4924-a75f-22ffe041efbf",
   "metadata": {},
   "outputs": [],
   "source": [
    "# sample_df = df.sample(500)\n",
    "# len(sample_df)"
   ]
  },
  {
   "cell_type": "code",
   "execution_count": 57,
   "id": "5504d434-ede3-4792-baa8-913a615b33be",
   "metadata": {},
   "outputs": [],
   "source": [
    "sample_df = df"
   ]
  },
  {
   "cell_type": "code",
   "execution_count": 59,
   "id": "dcddd163-8b00-4b5a-8db9-a58cb4a48ced",
   "metadata": {},
   "outputs": [
    {
     "name": "stderr",
     "output_type": "stream",
     "text": [
      "Processing Batches:   0%|                              | 0/9305 [00:00<?, ?it/s]\n"
     ]
    },
    {
     "ename": "FileNotFoundError",
     "evalue": "[Errno 2] No such file or directory",
     "output_type": "error",
     "traceback": [
      "\u001b[0;31m---------------------------------------------------------------------------\u001b[0m",
      "\u001b[0;31mFileNotFoundError\u001b[0m                         Traceback (most recent call last)",
      "Cell \u001b[0;32mIn[59], line 9\u001b[0m\n\u001b[1;32m      7\u001b[0m \u001b[38;5;28;01mfor\u001b[39;00m i \u001b[38;5;129;01min\u001b[39;00m tqdm(\u001b[38;5;28mrange\u001b[39m(\u001b[38;5;241m0\u001b[39m, \u001b[38;5;28mlen\u001b[39m(sample_df), batch_size), desc\u001b[38;5;241m=\u001b[39m\u001b[38;5;124m\"\u001b[39m\u001b[38;5;124mProcessing Batches\u001b[39m\u001b[38;5;124m\"\u001b[39m):\n\u001b[1;32m      8\u001b[0m     batch \u001b[38;5;241m=\u001b[39m sample_df[\u001b[38;5;124m'\u001b[39m\u001b[38;5;124mcaption\u001b[39m\u001b[38;5;124m'\u001b[39m]\u001b[38;5;241m.\u001b[39miloc[i:i\u001b[38;5;241m+\u001b[39mbatch_size]\n\u001b[0;32m----> 9\u001b[0m     sentiments \u001b[38;5;241m=\u001b[39m \u001b[43manalyze_sentiment_batch\u001b[49m\u001b[43m(\u001b[49m\u001b[43mbatch\u001b[49m\u001b[38;5;241;43m.\u001b[39;49m\u001b[43mtolist\u001b[49m\u001b[43m(\u001b[49m\u001b[43m)\u001b[49m\u001b[43m)\u001b[49m\n\u001b[1;32m     10\u001b[0m     sample_df\u001b[38;5;241m.\u001b[39mloc[batch\u001b[38;5;241m.\u001b[39mindex, \u001b[38;5;124m'\u001b[39m\u001b[38;5;124msentiment\u001b[39m\u001b[38;5;124m'\u001b[39m] \u001b[38;5;241m=\u001b[39m sentiments\n",
      "Cell \u001b[0;32mIn[52], line 11\u001b[0m, in \u001b[0;36manalyze_sentiment_batch\u001b[0;34m(texts)\u001b[0m\n\u001b[1;32m      1\u001b[0m \u001b[38;5;28;01mdef\u001b[39;00m \u001b[38;5;21manalyze_sentiment_batch\u001b[39m(texts):\n\u001b[1;32m      2\u001b[0m \u001b[38;5;250m    \u001b[39m\u001b[38;5;124;03m\"\"\"\u001b[39;00m\n\u001b[1;32m      3\u001b[0m \u001b[38;5;124;03m    Analyze sentiment for a batch of texts using OpenAI API.\u001b[39;00m\n\u001b[1;32m      4\u001b[0m \n\u001b[0;32m   (...)\u001b[0m\n\u001b[1;32m      9\u001b[0m \u001b[38;5;124;03m        list of str: List of sentiment analysis results.\u001b[39;00m\n\u001b[1;32m     10\u001b[0m \u001b[38;5;124;03m    \"\"\"\u001b[39;00m\n\u001b[0;32m---> 11\u001b[0m     client \u001b[38;5;241m=\u001b[39m \u001b[43mOpenAI\u001b[49m\u001b[43m(\u001b[49m\u001b[43mapi_key\u001b[49m\u001b[38;5;241;43m=\u001b[39;49m\u001b[43mos\u001b[49m\u001b[38;5;241;43m.\u001b[39;49m\u001b[43menviron\u001b[49m\u001b[38;5;241;43m.\u001b[39;49m\u001b[43mget\u001b[49m\u001b[43m(\u001b[49m\u001b[38;5;124;43m\"\u001b[39;49m\u001b[38;5;124;43mOPENAI_API_KEY\u001b[39;49m\u001b[38;5;124;43m\"\u001b[39;49m\u001b[43m)\u001b[49m\u001b[43m)\u001b[49m\n\u001b[1;32m     13\u001b[0m     \u001b[38;5;28;01mtry\u001b[39;00m:\n\u001b[1;32m     14\u001b[0m         \u001b[38;5;66;03m# Batch prompt with numbered texts for clarity\u001b[39;00m\n\u001b[1;32m     15\u001b[0m         batch_prompt \u001b[38;5;241m=\u001b[39m \u001b[38;5;124m\"\u001b[39m\u001b[38;5;130;01m\\n\u001b[39;00m\u001b[38;5;124m\"\u001b[39m\u001b[38;5;241m.\u001b[39mjoin(\n\u001b[1;32m     16\u001b[0m             [\u001b[38;5;124mf\u001b[39m\u001b[38;5;124m\"\u001b[39m\u001b[38;5;124mText \u001b[39m\u001b[38;5;132;01m{\u001b[39;00mi\u001b[38;5;241m+\u001b[39m\u001b[38;5;241m1\u001b[39m\u001b[38;5;132;01m}\u001b[39;00m\u001b[38;5;124m: \u001b[39m\u001b[38;5;132;01m{\u001b[39;00mtext\u001b[38;5;132;01m}\u001b[39;00m\u001b[38;5;124m\"\u001b[39m \u001b[38;5;28;01mfor\u001b[39;00m i, text \u001b[38;5;129;01min\u001b[39;00m \u001b[38;5;28menumerate\u001b[39m(texts)]\n\u001b[1;32m     17\u001b[0m         )\n",
      "File \u001b[0;32m~/Documents/bgorgeous_agentic_ai/proj_env/lib/python3.9/site-packages/openai/_client.py:119\u001b[0m, in \u001b[0;36m__init__\u001b[0;34m(self, api_key, organization, project, base_url, timeout, max_retries, default_headers, default_query, http_client, _strict_response_validation)\u001b[0m\n",
      "File \u001b[0;32m~/Documents/bgorgeous_agentic_ai/proj_env/lib/python3.9/site-packages/openai/_base_client.py:860\u001b[0m, in \u001b[0;36mSyncAPIClient.__init__\u001b[0;34m(self, version, base_url, max_retries, timeout, transport, proxies, limits, http_client, custom_headers, custom_query, _strict_response_validation)\u001b[0m\n\u001b[1;32m    843\u001b[0m     \u001b[38;5;28;01mraise\u001b[39;00m \u001b[38;5;167;01mTypeError\u001b[39;00m(\n\u001b[1;32m    844\u001b[0m         \u001b[38;5;124mf\u001b[39m\u001b[38;5;124m\"\u001b[39m\u001b[38;5;124mInvalid `http_client` argument; Expected an instance of `httpx.Client` but got \u001b[39m\u001b[38;5;132;01m{\u001b[39;00m\u001b[38;5;28mtype\u001b[39m(http_client)\u001b[38;5;132;01m}\u001b[39;00m\u001b[38;5;124m\"\u001b[39m\n\u001b[1;32m    845\u001b[0m     )\n\u001b[1;32m    847\u001b[0m \u001b[38;5;28msuper\u001b[39m()\u001b[38;5;241m.\u001b[39m\u001b[38;5;21m__init__\u001b[39m(\n\u001b[1;32m    848\u001b[0m     version\u001b[38;5;241m=\u001b[39mversion,\n\u001b[1;32m    849\u001b[0m     limits\u001b[38;5;241m=\u001b[39mlimits,\n\u001b[0;32m   (...)\u001b[0m\n\u001b[1;32m    858\u001b[0m     _strict_response_validation\u001b[38;5;241m=\u001b[39m_strict_response_validation,\n\u001b[1;32m    859\u001b[0m )\n\u001b[0;32m--> 860\u001b[0m \u001b[38;5;28mself\u001b[39m\u001b[38;5;241m.\u001b[39m_client \u001b[38;5;241m=\u001b[39m http_client \u001b[38;5;129;01mor\u001b[39;00m \u001b[43mSyncHttpxClientWrapper\u001b[49m\u001b[43m(\u001b[49m\n\u001b[1;32m    861\u001b[0m \u001b[43m    \u001b[49m\u001b[43mbase_url\u001b[49m\u001b[38;5;241;43m=\u001b[39;49m\u001b[43mbase_url\u001b[49m\u001b[43m,\u001b[49m\n\u001b[1;32m    862\u001b[0m \u001b[43m    \u001b[49m\u001b[38;5;66;43;03m# cast to a valid type because mypy doesn't understand our type narrowing\u001b[39;49;00m\n\u001b[1;32m    863\u001b[0m \u001b[43m    \u001b[49m\u001b[43mtimeout\u001b[49m\u001b[38;5;241;43m=\u001b[39;49m\u001b[43mcast\u001b[49m\u001b[43m(\u001b[49m\u001b[43mTimeout\u001b[49m\u001b[43m,\u001b[49m\u001b[43m \u001b[49m\u001b[43mtimeout\u001b[49m\u001b[43m)\u001b[49m\u001b[43m,\u001b[49m\n\u001b[1;32m    864\u001b[0m \u001b[43m    \u001b[49m\u001b[43mlimits\u001b[49m\u001b[38;5;241;43m=\u001b[39;49m\u001b[43mlimits\u001b[49m\u001b[43m,\u001b[49m\n\u001b[1;32m    865\u001b[0m \u001b[43m    \u001b[49m\u001b[43mfollow_redirects\u001b[49m\u001b[38;5;241;43m=\u001b[39;49m\u001b[38;5;28;43;01mTrue\u001b[39;49;00m\u001b[43m,\u001b[49m\n\u001b[1;32m    866\u001b[0m \u001b[43m    \u001b[49m\u001b[38;5;241;43m*\u001b[39;49m\u001b[38;5;241;43m*\u001b[39;49m\u001b[43mkwargs\u001b[49m\u001b[43m,\u001b[49m\u001b[43m  \u001b[49m\u001b[38;5;66;43;03m# type: ignore\u001b[39;49;00m\n\u001b[1;32m    867\u001b[0m \u001b[43m\u001b[49m\u001b[43m)\u001b[49m\n",
      "File \u001b[0;32m~/Documents/bgorgeous_agentic_ai/proj_env/lib/python3.9/site-packages/openai/_base_client.py:755\u001b[0m, in \u001b[0;36m_DefaultHttpxClient.__init__\u001b[0;34m(self, **kwargs)\u001b[0m\n\u001b[1;32m    753\u001b[0m kwargs\u001b[38;5;241m.\u001b[39msetdefault(\u001b[38;5;124m\"\u001b[39m\u001b[38;5;124mlimits\u001b[39m\u001b[38;5;124m\"\u001b[39m, DEFAULT_CONNECTION_LIMITS)\n\u001b[1;32m    754\u001b[0m kwargs\u001b[38;5;241m.\u001b[39msetdefault(\u001b[38;5;124m\"\u001b[39m\u001b[38;5;124mfollow_redirects\u001b[39m\u001b[38;5;124m\"\u001b[39m, \u001b[38;5;28;01mTrue\u001b[39;00m)\n\u001b[0;32m--> 755\u001b[0m \u001b[38;5;28;43msuper\u001b[39;49m\u001b[43m(\u001b[49m\u001b[43m)\u001b[49m\u001b[38;5;241;43m.\u001b[39;49m\u001b[38;5;21;43m__init__\u001b[39;49m\u001b[43m(\u001b[49m\u001b[38;5;241;43m*\u001b[39;49m\u001b[38;5;241;43m*\u001b[39;49m\u001b[43mkwargs\u001b[49m\u001b[43m)\u001b[49m\n",
      "File \u001b[0;32m~/Documents/bgorgeous_agentic_ai/proj_env/lib/python3.9/site-packages/httpx/_client.py:688\u001b[0m, in \u001b[0;36mClient.__init__\u001b[0;34m(self, auth, params, headers, cookies, verify, cert, trust_env, http1, http2, proxy, mounts, timeout, follow_redirects, limits, max_redirects, event_hooks, base_url, transport, default_encoding)\u001b[0m\n\u001b[1;32m    685\u001b[0m allow_env_proxies \u001b[38;5;241m=\u001b[39m trust_env \u001b[38;5;129;01mand\u001b[39;00m transport \u001b[38;5;129;01mis\u001b[39;00m \u001b[38;5;28;01mNone\u001b[39;00m\n\u001b[1;32m    686\u001b[0m proxy_map \u001b[38;5;241m=\u001b[39m \u001b[38;5;28mself\u001b[39m\u001b[38;5;241m.\u001b[39m_get_proxy_map(proxy, allow_env_proxies)\n\u001b[0;32m--> 688\u001b[0m \u001b[38;5;28mself\u001b[39m\u001b[38;5;241m.\u001b[39m_transport \u001b[38;5;241m=\u001b[39m \u001b[38;5;28;43mself\u001b[39;49m\u001b[38;5;241;43m.\u001b[39;49m\u001b[43m_init_transport\u001b[49m\u001b[43m(\u001b[49m\n\u001b[1;32m    689\u001b[0m \u001b[43m    \u001b[49m\u001b[43mverify\u001b[49m\u001b[38;5;241;43m=\u001b[39;49m\u001b[43mverify\u001b[49m\u001b[43m,\u001b[49m\n\u001b[1;32m    690\u001b[0m \u001b[43m    \u001b[49m\u001b[43mcert\u001b[49m\u001b[38;5;241;43m=\u001b[39;49m\u001b[43mcert\u001b[49m\u001b[43m,\u001b[49m\n\u001b[1;32m    691\u001b[0m \u001b[43m    \u001b[49m\u001b[43mtrust_env\u001b[49m\u001b[38;5;241;43m=\u001b[39;49m\u001b[43mtrust_env\u001b[49m\u001b[43m,\u001b[49m\n\u001b[1;32m    692\u001b[0m \u001b[43m    \u001b[49m\u001b[43mhttp1\u001b[49m\u001b[38;5;241;43m=\u001b[39;49m\u001b[43mhttp1\u001b[49m\u001b[43m,\u001b[49m\n\u001b[1;32m    693\u001b[0m \u001b[43m    \u001b[49m\u001b[43mhttp2\u001b[49m\u001b[38;5;241;43m=\u001b[39;49m\u001b[43mhttp2\u001b[49m\u001b[43m,\u001b[49m\n\u001b[1;32m    694\u001b[0m \u001b[43m    \u001b[49m\u001b[43mlimits\u001b[49m\u001b[38;5;241;43m=\u001b[39;49m\u001b[43mlimits\u001b[49m\u001b[43m,\u001b[49m\n\u001b[1;32m    695\u001b[0m \u001b[43m    \u001b[49m\u001b[43mtransport\u001b[49m\u001b[38;5;241;43m=\u001b[39;49m\u001b[43mtransport\u001b[49m\u001b[43m,\u001b[49m\n\u001b[1;32m    696\u001b[0m \u001b[43m\u001b[49m\u001b[43m)\u001b[49m\n\u001b[1;32m    697\u001b[0m \u001b[38;5;28mself\u001b[39m\u001b[38;5;241m.\u001b[39m_mounts: \u001b[38;5;28mdict\u001b[39m[URLPattern, BaseTransport \u001b[38;5;241m|\u001b[39m \u001b[38;5;28;01mNone\u001b[39;00m] \u001b[38;5;241m=\u001b[39m {\n\u001b[1;32m    698\u001b[0m     URLPattern(key): \u001b[38;5;28;01mNone\u001b[39;00m\n\u001b[1;32m    699\u001b[0m     \u001b[38;5;28;01mif\u001b[39;00m proxy \u001b[38;5;129;01mis\u001b[39;00m \u001b[38;5;28;01mNone\u001b[39;00m\n\u001b[0;32m   (...)\u001b[0m\n\u001b[1;32m    709\u001b[0m     \u001b[38;5;28;01mfor\u001b[39;00m key, proxy \u001b[38;5;129;01min\u001b[39;00m proxy_map\u001b[38;5;241m.\u001b[39mitems()\n\u001b[1;32m    710\u001b[0m }\n\u001b[1;32m    711\u001b[0m \u001b[38;5;28;01mif\u001b[39;00m mounts \u001b[38;5;129;01mis\u001b[39;00m \u001b[38;5;129;01mnot\u001b[39;00m \u001b[38;5;28;01mNone\u001b[39;00m:\n",
      "File \u001b[0;32m~/Documents/bgorgeous_agentic_ai/proj_env/lib/python3.9/site-packages/httpx/_client.py:731\u001b[0m, in \u001b[0;36mClient._init_transport\u001b[0;34m(self, verify, cert, trust_env, http1, http2, limits, transport)\u001b[0m\n\u001b[1;32m    728\u001b[0m \u001b[38;5;28;01mif\u001b[39;00m transport \u001b[38;5;129;01mis\u001b[39;00m \u001b[38;5;129;01mnot\u001b[39;00m \u001b[38;5;28;01mNone\u001b[39;00m:\n\u001b[1;32m    729\u001b[0m     \u001b[38;5;28;01mreturn\u001b[39;00m transport\n\u001b[0;32m--> 731\u001b[0m \u001b[38;5;28;01mreturn\u001b[39;00m \u001b[43mHTTPTransport\u001b[49m\u001b[43m(\u001b[49m\n\u001b[1;32m    732\u001b[0m \u001b[43m    \u001b[49m\u001b[43mverify\u001b[49m\u001b[38;5;241;43m=\u001b[39;49m\u001b[43mverify\u001b[49m\u001b[43m,\u001b[49m\n\u001b[1;32m    733\u001b[0m \u001b[43m    \u001b[49m\u001b[43mcert\u001b[49m\u001b[38;5;241;43m=\u001b[39;49m\u001b[43mcert\u001b[49m\u001b[43m,\u001b[49m\n\u001b[1;32m    734\u001b[0m \u001b[43m    \u001b[49m\u001b[43mtrust_env\u001b[49m\u001b[38;5;241;43m=\u001b[39;49m\u001b[43mtrust_env\u001b[49m\u001b[43m,\u001b[49m\n\u001b[1;32m    735\u001b[0m \u001b[43m    \u001b[49m\u001b[43mhttp1\u001b[49m\u001b[38;5;241;43m=\u001b[39;49m\u001b[43mhttp1\u001b[49m\u001b[43m,\u001b[49m\n\u001b[1;32m    736\u001b[0m \u001b[43m    \u001b[49m\u001b[43mhttp2\u001b[49m\u001b[38;5;241;43m=\u001b[39;49m\u001b[43mhttp2\u001b[49m\u001b[43m,\u001b[49m\n\u001b[1;32m    737\u001b[0m \u001b[43m    \u001b[49m\u001b[43mlimits\u001b[49m\u001b[38;5;241;43m=\u001b[39;49m\u001b[43mlimits\u001b[49m\u001b[43m,\u001b[49m\n\u001b[1;32m    738\u001b[0m \u001b[43m\u001b[49m\u001b[43m)\u001b[49m\n",
      "File \u001b[0;32m~/Documents/bgorgeous_agentic_ai/proj_env/lib/python3.9/site-packages/httpx/_transports/default.py:153\u001b[0m, in \u001b[0;36mHTTPTransport.__init__\u001b[0;34m(self, verify, cert, trust_env, http1, http2, limits, proxy, uds, local_address, retries, socket_options)\u001b[0m\n\u001b[1;32m    150\u001b[0m \u001b[38;5;28;01mimport\u001b[39;00m \u001b[38;5;21;01mhttpcore\u001b[39;00m\n\u001b[1;32m    152\u001b[0m proxy \u001b[38;5;241m=\u001b[39m Proxy(url\u001b[38;5;241m=\u001b[39mproxy) \u001b[38;5;28;01mif\u001b[39;00m \u001b[38;5;28misinstance\u001b[39m(proxy, (\u001b[38;5;28mstr\u001b[39m, URL)) \u001b[38;5;28;01melse\u001b[39;00m proxy\n\u001b[0;32m--> 153\u001b[0m ssl_context \u001b[38;5;241m=\u001b[39m \u001b[43mcreate_ssl_context\u001b[49m\u001b[43m(\u001b[49m\u001b[43mverify\u001b[49m\u001b[38;5;241;43m=\u001b[39;49m\u001b[43mverify\u001b[49m\u001b[43m,\u001b[49m\u001b[43m \u001b[49m\u001b[43mcert\u001b[49m\u001b[38;5;241;43m=\u001b[39;49m\u001b[43mcert\u001b[49m\u001b[43m,\u001b[49m\u001b[43m \u001b[49m\u001b[43mtrust_env\u001b[49m\u001b[38;5;241;43m=\u001b[39;49m\u001b[43mtrust_env\u001b[49m\u001b[43m)\u001b[49m\n\u001b[1;32m    155\u001b[0m \u001b[38;5;28;01mif\u001b[39;00m proxy \u001b[38;5;129;01mis\u001b[39;00m \u001b[38;5;28;01mNone\u001b[39;00m:\n\u001b[1;32m    156\u001b[0m     \u001b[38;5;28mself\u001b[39m\u001b[38;5;241m.\u001b[39m_pool \u001b[38;5;241m=\u001b[39m httpcore\u001b[38;5;241m.\u001b[39mConnectionPool(\n\u001b[1;32m    157\u001b[0m         ssl_context\u001b[38;5;241m=\u001b[39mssl_context,\n\u001b[1;32m    158\u001b[0m         max_connections\u001b[38;5;241m=\u001b[39mlimits\u001b[38;5;241m.\u001b[39mmax_connections,\n\u001b[0;32m   (...)\u001b[0m\n\u001b[1;32m    166\u001b[0m         socket_options\u001b[38;5;241m=\u001b[39msocket_options,\n\u001b[1;32m    167\u001b[0m     )\n",
      "File \u001b[0;32m~/Documents/bgorgeous_agentic_ai/proj_env/lib/python3.9/site-packages/httpx/_config.py:40\u001b[0m, in \u001b[0;36mcreate_ssl_context\u001b[0;34m(verify, cert, trust_env)\u001b[0m\n",
      "File \u001b[0;32m/Library/Developer/CommandLineTools/Library/Frameworks/Python3.framework/Versions/3.9/lib/python3.9/ssl.py:745\u001b[0m, in \u001b[0;36mcreate_default_context\u001b[0;34m(purpose, cafile, capath, cadata)\u001b[0m\n\u001b[1;32m    742\u001b[0m     context\u001b[38;5;241m.\u001b[39mcheck_hostname \u001b[38;5;241m=\u001b[39m \u001b[38;5;28;01mTrue\u001b[39;00m\n\u001b[1;32m    744\u001b[0m \u001b[38;5;28;01mif\u001b[39;00m cafile \u001b[38;5;129;01mor\u001b[39;00m capath \u001b[38;5;129;01mor\u001b[39;00m cadata:\n\u001b[0;32m--> 745\u001b[0m     \u001b[43mcontext\u001b[49m\u001b[38;5;241;43m.\u001b[39;49m\u001b[43mload_verify_locations\u001b[49m\u001b[43m(\u001b[49m\u001b[43mcafile\u001b[49m\u001b[43m,\u001b[49m\u001b[43m \u001b[49m\u001b[43mcapath\u001b[49m\u001b[43m,\u001b[49m\u001b[43m \u001b[49m\u001b[43mcadata\u001b[49m\u001b[43m)\u001b[49m\n\u001b[1;32m    746\u001b[0m \u001b[38;5;28;01melif\u001b[39;00m context\u001b[38;5;241m.\u001b[39mverify_mode \u001b[38;5;241m!=\u001b[39m CERT_NONE:\n\u001b[1;32m    747\u001b[0m     \u001b[38;5;66;03m# no explicit cafile, capath or cadata but the verify mode is\u001b[39;00m\n\u001b[1;32m    748\u001b[0m     \u001b[38;5;66;03m# CERT_OPTIONAL or CERT_REQUIRED. Let's try to load default system\u001b[39;00m\n\u001b[1;32m    749\u001b[0m     \u001b[38;5;66;03m# root CA certificates for the given purpose. This may fail silently.\u001b[39;00m\n\u001b[1;32m    750\u001b[0m     context\u001b[38;5;241m.\u001b[39mload_default_certs(purpose)\n",
      "\u001b[0;31mFileNotFoundError\u001b[0m: [Errno 2] No such file or directory"
     ]
    }
   ],
   "source": [
    "tqdm.pandas()\n",
    "\n",
    "batch_size = 5\n",
    "\n",
    "sample_df['sentiment'] = None\n",
    "\n",
    "for i in tqdm(range(0, len(sample_df), batch_size), desc=\"Processing Batches\"):\n",
    "    batch = sample_df['caption'].iloc[i:i+batch_size]\n",
    "    sentiments = analyze_sentiment_batch(batch.tolist())\n",
    "    sample_df.loc[batch.index, 'sentiment'] = sentiments"
   ]
  },
  {
   "cell_type": "code",
   "execution_count": null,
   "id": "a2938a6e-149c-4391-b388-68f08a7d1340",
   "metadata": {},
   "outputs": [],
   "source": [
    "sample_df.head()"
   ]
  },
  {
   "cell_type": "code",
   "execution_count": 35,
   "id": "1f9f51d7-8c4f-4d78-bcbc-da2b09391926",
   "metadata": {},
   "outputs": [],
   "source": [
    "sample_df.to_csv(\"data/naturals_sentiments.csv\")"
   ]
  },
  {
   "cell_type": "code",
   "execution_count": 38,
   "id": "769f2606-5d39-45b9-9161-40925f178d14",
   "metadata": {},
   "outputs": [
    {
     "data": {
      "text/plain": [
       "46522"
      ]
     },
     "execution_count": 38,
     "metadata": {},
     "output_type": "execute_result"
    }
   ],
   "source": [
    "len(sample_df)"
   ]
  },
  {
   "cell_type": "markdown",
   "id": "df21876c-fb0c-4cdf-8ee8-d2b7ffa58733",
   "metadata": {},
   "source": [
    "### Read Data"
   ]
  },
  {
   "cell_type": "code",
   "execution_count": 39,
   "id": "a02fd87a-72b9-4723-9ea5-db7100a22072",
   "metadata": {},
   "outputs": [],
   "source": [
    "sentiments_df = pd.read_csv(\"data/naturals_sentiments.csv\")"
   ]
  },
  {
   "cell_type": "code",
   "execution_count": 40,
   "id": "35e710b1-ccf9-415d-8ada-64997e8775e5",
   "metadata": {},
   "outputs": [
    {
     "data": {
      "text/html": [
       "<div>\n",
       "<style scoped>\n",
       "    .dataframe tbody tr th:only-of-type {\n",
       "        vertical-align: middle;\n",
       "    }\n",
       "\n",
       "    .dataframe tbody tr th {\n",
       "        vertical-align: top;\n",
       "    }\n",
       "\n",
       "    .dataframe thead th {\n",
       "        text-align: right;\n",
       "    }\n",
       "</style>\n",
       "<table border=\"1\" class=\"dataframe\">\n",
       "  <thead>\n",
       "    <tr style=\"text-align: right;\">\n",
       "      <th></th>\n",
       "      <th>Unnamed: 0</th>\n",
       "      <th>id_review</th>\n",
       "      <th>caption</th>\n",
       "      <th>relative_date</th>\n",
       "      <th>review_date</th>\n",
       "      <th>retrieval_date</th>\n",
       "      <th>rating</th>\n",
       "      <th>username</th>\n",
       "      <th>n_review_user</th>\n",
       "      <th>place_id</th>\n",
       "      <th>sentiment</th>\n",
       "    </tr>\n",
       "  </thead>\n",
       "  <tbody>\n",
       "    <tr>\n",
       "      <th>0</th>\n",
       "      <td>1</td>\n",
       "      <td>ChZDSUhNMG9nS0VJQ0FnSUR2NVptekJnEAE</td>\n",
       "      <td>Rosika did an excellent facial, great neck mas...</td>\n",
       "      <td>22 hours ago</td>\n",
       "      <td>2024-12-23 15:22:09.507031</td>\n",
       "      <td>2024-12-23 15:22:09.507073</td>\n",
       "      <td>5.0</td>\n",
       "      <td>Sujatha Madangopal</td>\n",
       "      <td>0</td>\n",
       "      <td>ChIJB0quoslnUjoRf_vm8BiGHsM</td>\n",
       "      <td>Positive</td>\n",
       "    </tr>\n",
       "    <tr>\n",
       "      <th>1</th>\n",
       "      <td>2</td>\n",
       "      <td>ChdDSUhNMG9nS0VJQ0FnSUR2NGJMZndBRRAB</td>\n",
       "      <td>had a great hair washing and blow dry experien...</td>\n",
       "      <td>2 days ago</td>\n",
       "      <td>2024-12-21 15:22:09.507740</td>\n",
       "      <td>2024-12-23 15:22:09.507785</td>\n",
       "      <td>5.0</td>\n",
       "      <td>080 harshitha sridhar</td>\n",
       "      <td>0</td>\n",
       "      <td>ChIJB0quoslnUjoRf_vm8BiGHsM</td>\n",
       "      <td>Positive</td>\n",
       "    </tr>\n",
       "    <tr>\n",
       "      <th>2</th>\n",
       "      <td>3</td>\n",
       "      <td>ChdDSUhNMG9nS0VJQ0FnSUR2dHN1WG9nRRAB</td>\n",
       "      <td>Excellent face massage by Goweri  Thankyou you...</td>\n",
       "      <td>2 days ago</td>\n",
       "      <td>2024-12-21 15:22:09.507917</td>\n",
       "      <td>2024-12-23 15:22:09.507958</td>\n",
       "      <td>5.0</td>\n",
       "      <td>Varun Bala Vk</td>\n",
       "      <td>0</td>\n",
       "      <td>ChIJB0quoslnUjoRf_vm8BiGHsM</td>\n",
       "      <td>Positive</td>\n",
       "    </tr>\n",
       "    <tr>\n",
       "      <th>3</th>\n",
       "      <td>4</td>\n",
       "      <td>ChZDSUhNMG9nS0VJQ0FnSUNLdUtTR1NREAE</td>\n",
       "      <td>Aakash raj - Did very good haircut and shave s...</td>\n",
       "      <td>3 days ago</td>\n",
       "      <td>2024-12-20 15:22:09.508090</td>\n",
       "      <td>2024-12-23 15:22:09.508131</td>\n",
       "      <td>5.0</td>\n",
       "      <td>Rajesh Gopalsamy</td>\n",
       "      <td>23</td>\n",
       "      <td>ChIJB0quoslnUjoRf_vm8BiGHsM</td>\n",
       "      <td>Positive</td>\n",
       "    </tr>\n",
       "    <tr>\n",
       "      <th>4</th>\n",
       "      <td>5</td>\n",
       "      <td>ChZDSUhNMG9nS0VJQ0FnSUR2M01DbWR3EAE</td>\n",
       "      <td>Excellent hair spa service by Rosika</td>\n",
       "      <td>4 days ago</td>\n",
       "      <td>2024-12-19 15:22:09.508263</td>\n",
       "      <td>2024-12-23 15:22:09.508304</td>\n",
       "      <td>5.0</td>\n",
       "      <td>Kaviya</td>\n",
       "      <td>19</td>\n",
       "      <td>ChIJB0quoslnUjoRf_vm8BiGHsM</td>\n",
       "      <td>Positive</td>\n",
       "    </tr>\n",
       "  </tbody>\n",
       "</table>\n",
       "</div>"
      ],
      "text/plain": [
       "   Unnamed: 0                             id_review  \\\n",
       "0           1   ChZDSUhNMG9nS0VJQ0FnSUR2NVptekJnEAE   \n",
       "1           2  ChdDSUhNMG9nS0VJQ0FnSUR2NGJMZndBRRAB   \n",
       "2           3  ChdDSUhNMG9nS0VJQ0FnSUR2dHN1WG9nRRAB   \n",
       "3           4   ChZDSUhNMG9nS0VJQ0FnSUNLdUtTR1NREAE   \n",
       "4           5   ChZDSUhNMG9nS0VJQ0FnSUR2M01DbWR3EAE   \n",
       "\n",
       "                                             caption relative_date  \\\n",
       "0  Rosika did an excellent facial, great neck mas...  22 hours ago   \n",
       "1  had a great hair washing and blow dry experien...    2 days ago   \n",
       "2  Excellent face massage by Goweri  Thankyou you...    2 days ago   \n",
       "3  Aakash raj - Did very good haircut and shave s...    3 days ago   \n",
       "4               Excellent hair spa service by Rosika    4 days ago   \n",
       "\n",
       "                  review_date              retrieval_date  rating  \\\n",
       "0  2024-12-23 15:22:09.507031  2024-12-23 15:22:09.507073     5.0   \n",
       "1  2024-12-21 15:22:09.507740  2024-12-23 15:22:09.507785     5.0   \n",
       "2  2024-12-21 15:22:09.507917  2024-12-23 15:22:09.507958     5.0   \n",
       "3  2024-12-20 15:22:09.508090  2024-12-23 15:22:09.508131     5.0   \n",
       "4  2024-12-19 15:22:09.508263  2024-12-23 15:22:09.508304     5.0   \n",
       "\n",
       "                username  n_review_user                     place_id sentiment  \n",
       "0     Sujatha Madangopal              0  ChIJB0quoslnUjoRf_vm8BiGHsM  Positive  \n",
       "1  080 harshitha sridhar              0  ChIJB0quoslnUjoRf_vm8BiGHsM  Positive  \n",
       "2          Varun Bala Vk              0  ChIJB0quoslnUjoRf_vm8BiGHsM  Positive  \n",
       "3       Rajesh Gopalsamy             23  ChIJB0quoslnUjoRf_vm8BiGHsM  Positive  \n",
       "4                 Kaviya             19  ChIJB0quoslnUjoRf_vm8BiGHsM  Positive  "
      ]
     },
     "execution_count": 40,
     "metadata": {},
     "output_type": "execute_result"
    }
   ],
   "source": [
    "sentiments_df.head()"
   ]
  },
  {
   "cell_type": "code",
   "execution_count": 41,
   "id": "2a20a324-8a73-4ff6-b13c-a71b551766d4",
   "metadata": {},
   "outputs": [
    {
     "data": {
      "text/plain": [
       "sentiment\n",
       "Positive                                                                                                                                                              30035\n",
       "Neutral                                                                                                                                                                 770\n",
       "Negative                                                                                                                                                                748\n",
       "Mixed (Positive and Negative)                                                                                                                                             5\n",
       "Neutral (The sentiment is unclear due to incomplete sentence)                                                                                                             3\n",
       "Mixed (Positive for the stylist's work and Negative for the front office person's behavior)                                                                               1\n",
       "Mixed (Positive for the services by Mamta and Joice, Negative for the experience with the male manager)                                                                   1\n",
       "Neutral (The sentiment is unclear due to spelling errors and lack of context.)                                                                                            1\n",
       "Positive (assuming \"Exalant\" is a typo for \"Excellent\")                                                                                                                   1\n",
       "Mixed (Positive for the service, Negative for the hygiene)                                                                                                                1\n",
       "Mixed (Positive sentiment about the service and care, but Negative sentiment about the cost)                                                                              1\n",
       "Neutral (The sentiment is unclear due to the misspelled word \"Strifait\")                                                                                                  1\n",
       "Mixed (Positive sentiment about the service and Negative sentiment about the pricing)                                                                                     1\n",
       "Mixed (Positive sentiment towards the haircut and stylist, but negative sentiment towards the price and reception staff)                                                  1\n",
       "Negative (Assuming \"very service\" is a typo and the intended sentiment is negative. If it's a typo for \"very good service\", then the sentiment would be positive.)        1\n",
       "Mixed (Positive for the service from Lun and Apou, Negative for the housekeeping and the lady who did the hair wash)                                                      1\n",
       "Mixed (Positive sentiment about the service and Negative sentiment about the cost)                                                                                        1\n",
       "Mixed (Positive sentiment towards the service provided by Mr.Muhammad, but Negative sentiment towards the place's current condition)                                      1\n",
       "Neutral (This text is in Tamil and \"Arumai Kamalesh\" translates to \"Wonderful Kamalesh\". If we consider this translation, the sentiment would be Positive)                1\n",
       "Neutral (The sentiment is unclear due to the typo)                                                                                                                        1\n",
       "Mixed (Positive sentiment about the service but negative sentiment about the pricing)                                                                                     1\n",
       "Mostly Positive (with a slight negative sentiment towards the end)                                                                                                        1\n",
       "Mixed (Positive for the service, Negative for the lack of privacy)                                                                                                        1\n",
       "Neutral (The text is not clear enough to determine a sentiment)                                                                                                           1\n",
       "Mixed (Positive for Moni's service, Negative for the male staff's behavior)                                                                                               1\n",
       "Mixed (Positive for the reviewer's service, Negative for the child's service)                                                                                             1\n",
       "Neutral (Assuming \"god\" is a typo and the intended word is \"good\", then it would be Positive)                                                                             1\n",
       "Mixed (Positive sentiment towards the work, Negative sentiment towards the price)                                                                                         1\n",
       "Mixed (Positive for facial experience, Negative for hairspa)                                                                                                              1\n",
       "Mixed (Positive for Tina's service, Negative for the other girl's service)                                                                                                1\n",
       "Neutral (The sentiment is unclear due to spelling errors)                                                                                                                 1\n",
       "Positive (Assuming \"berry good\" is a typo for \"very good\")                                                                                                                1\n",
       "Neutral (It's a factual statement without any clear positive or negative sentiment)                                                                                       1\n",
       "Neutral (The sentiment is not clear due to language barrier)                                                                                                              1\n",
       "Mixed (Positive sentiment towards the service and staff, but Negative sentiment towards the price)                                                                        1\n",
       "Neutral (The sentiment is unclear due to the use of emojis)                                                                                                               1\n",
       "Positive (Assuming \"Nalla panniti vitanga\" is a positive phrase in Tamil)                                                                                                 1\n",
       "Neutral (Assuming it's a typo. If \"God service\" is meant to be \"Good service\", then it would be Positive)                                                                 1\n",
       "Neutral (This text is in Tamil, a language from India, and it translates to \"You do eyebrows well, Yalu sis.\" So, it's positive.)                                         1\n",
       "Negative (The word 'hostile' indicates a negative sentiment)                                                                                                              1\n",
       "Mixed (Positive sentiment about the place and service, Negative sentiment about the offers)                                                                               1\n",
       "Neutral (Positive sentiment towards the service but negative sentiment towards the cleanliness of the parlour)                                                            1\n",
       "Mixed (Positive sentiment about the service and quality, but Negative sentiment about the price)                                                                          1\n",
       "Mixed (Positive for Sabnam, Negative for Shankar)                                                                                                                         1\n",
       "Name: count, dtype: int64"
      ]
     },
     "execution_count": 41,
     "metadata": {},
     "output_type": "execute_result"
    }
   ],
   "source": [
    "sentiments_df[\"sentiment\"].value_counts()"
   ]
  },
  {
   "cell_type": "code",
   "execution_count": null,
   "id": "3a2a2290-5817-495e-bcd7-54253d815200",
   "metadata": {},
   "outputs": [],
   "source": []
  }
 ],
 "metadata": {
  "kernelspec": {
   "display_name": "Python 3 (ipykernel)",
   "language": "python",
   "name": "python3"
  },
  "language_info": {
   "codemirror_mode": {
    "name": "ipython",
    "version": 3
   },
   "file_extension": ".py",
   "mimetype": "text/x-python",
   "name": "python",
   "nbconvert_exporter": "python",
   "pygments_lexer": "ipython3",
   "version": "3.9.6"
  }
 },
 "nbformat": 4,
 "nbformat_minor": 5
}
