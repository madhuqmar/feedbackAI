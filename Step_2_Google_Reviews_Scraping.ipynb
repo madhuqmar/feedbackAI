{
 "cells": [
  {
   "cell_type": "code",
   "execution_count": 1,
   "id": "11d6bc0e-99c0-4338-ad99-ff658e21c649",
   "metadata": {},
   "outputs": [],
   "source": [
    "import pandas as pd"
   ]
  },
  {
   "cell_type": "code",
   "execution_count": 3,
   "id": "bcfb4a7a-a2e6-4ce7-b240-5f001c31ed0c",
   "metadata": {},
   "outputs": [],
   "source": [
    "df = pd.read_csv(\"data/nailsnbeyond_reviews.csv\", low_memory=False)"
   ]
  },
  {
   "cell_type": "code",
   "execution_count": 4,
   "id": "b081777b-95a8-474c-9ec2-ebe6d0558915",
   "metadata": {},
   "outputs": [
    {
     "data": {
      "text/html": [
       "<div>\n",
       "<style scoped>\n",
       "    .dataframe tbody tr th:only-of-type {\n",
       "        vertical-align: middle;\n",
       "    }\n",
       "\n",
       "    .dataframe tbody tr th {\n",
       "        vertical-align: top;\n",
       "    }\n",
       "\n",
       "    .dataframe thead th {\n",
       "        text-align: right;\n",
       "    }\n",
       "</style>\n",
       "<table border=\"1\" class=\"dataframe\">\n",
       "  <thead>\n",
       "    <tr style=\"text-align: right;\">\n",
       "      <th></th>\n",
       "      <th>id_review</th>\n",
       "      <th>caption</th>\n",
       "      <th>relative_date</th>\n",
       "      <th>review_date</th>\n",
       "      <th>retrieval_date</th>\n",
       "      <th>rating</th>\n",
       "      <th>username</th>\n",
       "      <th>n_review_user</th>\n",
       "      <th>place_id</th>\n",
       "    </tr>\n",
       "  </thead>\n",
       "  <tbody>\n",
       "    <tr>\n",
       "      <th>0</th>\n",
       "      <td>ChdDSUhNMG9nS0VJQ0FnSUNmaHJ2MnBnRRAB</td>\n",
       "      <td>took a friend had a nice experience miss savit...</td>\n",
       "      <td>an hour ago</td>\n",
       "      <td>2024-12-28 20:07:45.553247</td>\n",
       "      <td>2024-12-28 20:07:45.553306</td>\n",
       "      <td>5.0</td>\n",
       "      <td>tarun</td>\n",
       "      <td>0</td>\n",
       "      <td>ChIJu_BEcNhnUjoR1nBoaKnbQU8</td>\n",
       "    </tr>\n",
       "    <tr>\n",
       "      <th>1</th>\n",
       "      <td>ChdDSUhNMG9nS0VJQ0FnSUNmaHBTQi1RRRAB</td>\n",
       "      <td>Zami did an amazing job with my nails. All the...</td>\n",
       "      <td>3 hours ago</td>\n",
       "      <td>2024-12-28 20:07:45.553465</td>\n",
       "      <td>2024-12-28 20:07:45.553504</td>\n",
       "      <td>5.0</td>\n",
       "      <td>Ragavi Prabhu</td>\n",
       "      <td>62</td>\n",
       "      <td>ChIJu_BEcNhnUjoR1nBoaKnbQU8</td>\n",
       "    </tr>\n",
       "    <tr>\n",
       "      <th>2</th>\n",
       "      <td>ChZDSUhNMG9nS0VJQ0FnSUNmaHZDSkx3EAE</td>\n",
       "      <td>Nail art was done so neat and quick by Savitri...</td>\n",
       "      <td>3 hours ago</td>\n",
       "      <td>2024-12-28 20:07:45.553636</td>\n",
       "      <td>2024-12-28 20:07:45.553671</td>\n",
       "      <td>5.0</td>\n",
       "      <td>Nandhini kumanan</td>\n",
       "      <td>17</td>\n",
       "      <td>ChIJu_BEcNhnUjoR1nBoaKnbQU8</td>\n",
       "    </tr>\n",
       "    <tr>\n",
       "      <th>3</th>\n",
       "      <td>ChdDSUhNMG9nS0VJQ0FnSUR2ajdYMnNnRRAB</td>\n",
       "      <td>NaN</td>\n",
       "      <td>3 days ago</td>\n",
       "      <td>2024-12-25 20:07:45.553848</td>\n",
       "      <td>2024-12-28 20:07:45.553949</td>\n",
       "      <td>5.0</td>\n",
       "      <td>Shreeja Katama</td>\n",
       "      <td>0</td>\n",
       "      <td>ChIJu_BEcNhnUjoR1nBoaKnbQU8</td>\n",
       "    </tr>\n",
       "    <tr>\n",
       "      <th>4</th>\n",
       "      <td>ChdDSUhNMG9nS0VJQ0FnSUR2ajlXanFnRRAB</td>\n",
       "      <td>So so happy with my experience. Savithri and S...</td>\n",
       "      <td>3 days ago</td>\n",
       "      <td>2024-12-25 20:07:45.554079</td>\n",
       "      <td>2024-12-28 20:07:45.554116</td>\n",
       "      <td>5.0</td>\n",
       "      <td>khushi lodha</td>\n",
       "      <td>0</td>\n",
       "      <td>ChIJu_BEcNhnUjoR1nBoaKnbQU8</td>\n",
       "    </tr>\n",
       "  </tbody>\n",
       "</table>\n",
       "</div>"
      ],
      "text/plain": [
       "                              id_review  \\\n",
       "0  ChdDSUhNMG9nS0VJQ0FnSUNmaHJ2MnBnRRAB   \n",
       "1  ChdDSUhNMG9nS0VJQ0FnSUNmaHBTQi1RRRAB   \n",
       "2   ChZDSUhNMG9nS0VJQ0FnSUNmaHZDSkx3EAE   \n",
       "3  ChdDSUhNMG9nS0VJQ0FnSUR2ajdYMnNnRRAB   \n",
       "4  ChdDSUhNMG9nS0VJQ0FnSUR2ajlXanFnRRAB   \n",
       "\n",
       "                                             caption relative_date  \\\n",
       "0  took a friend had a nice experience miss savit...   an hour ago   \n",
       "1  Zami did an amazing job with my nails. All the...   3 hours ago   \n",
       "2  Nail art was done so neat and quick by Savitri...   3 hours ago   \n",
       "3                                                NaN    3 days ago   \n",
       "4  So so happy with my experience. Savithri and S...    3 days ago   \n",
       "\n",
       "                  review_date              retrieval_date  rating  \\\n",
       "0  2024-12-28 20:07:45.553247  2024-12-28 20:07:45.553306     5.0   \n",
       "1  2024-12-28 20:07:45.553465  2024-12-28 20:07:45.553504     5.0   \n",
       "2  2024-12-28 20:07:45.553636  2024-12-28 20:07:45.553671     5.0   \n",
       "3  2024-12-25 20:07:45.553848  2024-12-28 20:07:45.553949     5.0   \n",
       "4  2024-12-25 20:07:45.554079  2024-12-28 20:07:45.554116     5.0   \n",
       "\n",
       "           username  n_review_user                     place_id  \n",
       "0             tarun              0  ChIJu_BEcNhnUjoR1nBoaKnbQU8  \n",
       "1     Ragavi Prabhu             62  ChIJu_BEcNhnUjoR1nBoaKnbQU8  \n",
       "2  Nandhini kumanan             17  ChIJu_BEcNhnUjoR1nBoaKnbQU8  \n",
       "3    Shreeja Katama              0  ChIJu_BEcNhnUjoR1nBoaKnbQU8  \n",
       "4      khushi lodha              0  ChIJu_BEcNhnUjoR1nBoaKnbQU8  "
      ]
     },
     "execution_count": 4,
     "metadata": {},
     "output_type": "execute_result"
    }
   ],
   "source": [
    "df.head()"
   ]
  },
  {
   "cell_type": "code",
   "execution_count": 5,
   "id": "9ae3e8bd-dbef-4819-8eef-e1c79c047819",
   "metadata": {},
   "outputs": [
    {
     "data": {
      "text/plain": [
       "1183"
      ]
     },
     "execution_count": 5,
     "metadata": {},
     "output_type": "execute_result"
    }
   ],
   "source": [
    "len(df)"
   ]
  },
  {
   "cell_type": "code",
   "execution_count": 6,
   "id": "66a90b1f-4c2f-4284-a3df-bef1da342e09",
   "metadata": {},
   "outputs": [
    {
     "data": {
      "text/plain": [
       "0"
      ]
     },
     "execution_count": 6,
     "metadata": {},
     "output_type": "execute_result"
    }
   ],
   "source": [
    "df['place_id'].isna().sum()"
   ]
  },
  {
   "cell_type": "code",
   "execution_count": 7,
   "id": "c0399a36-aa1b-4e08-9b1e-1d86aff2d356",
   "metadata": {},
   "outputs": [
    {
     "data": {
      "text/plain": [
       "131"
      ]
     },
     "execution_count": 7,
     "metadata": {},
     "output_type": "execute_result"
    }
   ],
   "source": [
    "df['caption'].isna().sum()"
   ]
  },
  {
   "cell_type": "code",
   "execution_count": 8,
   "id": "a02385b5-c224-4d59-a2dc-bf1434746e1b",
   "metadata": {},
   "outputs": [
    {
     "data": {
      "text/plain": [
       "1052"
      ]
     },
     "execution_count": 8,
     "metadata": {},
     "output_type": "execute_result"
    }
   ],
   "source": [
    "df['caption'].notna().sum()"
   ]
  },
  {
   "cell_type": "code",
   "execution_count": 9,
   "id": "4d0d65c9-b0f1-4150-b487-6bbe54acd358",
   "metadata": {},
   "outputs": [
    {
     "data": {
      "text/plain": [
       "9"
      ]
     },
     "execution_count": 9,
     "metadata": {},
     "output_type": "execute_result"
    }
   ],
   "source": [
    "len(df['place_id'].unique())"
   ]
  },
  {
   "cell_type": "code",
   "execution_count": 10,
   "id": "21dd0508-f4a3-424e-bf0a-4bb82e007fe9",
   "metadata": {},
   "outputs": [
    {
     "data": {
      "text/plain": [
       "array(['an hour ago', '3 hours ago', '3 days ago', '5 days ago',\n",
       "       '2 weeks ago', '3 weeks ago', '2 months ago', '3 months ago',\n",
       "       '4 months ago', '5 months ago', '6 months ago', '7 months ago',\n",
       "       '8 months ago', '9 months ago', '10 months ago', '11 months ago',\n",
       "       '2 hours ago', '4 hours ago', '2 days ago', '4 days ago',\n",
       "       '6 days ago', '4 weeks ago', '7 hours ago'], dtype=object)"
      ]
     },
     "execution_count": 10,
     "metadata": {},
     "output_type": "execute_result"
    }
   ],
   "source": [
    "df[\"relative_date\"].unique()"
   ]
  },
  {
   "cell_type": "code",
   "execution_count": null,
   "id": "d3863bc8-04eb-42ea-93e6-8b47dbe681f6",
   "metadata": {},
   "outputs": [],
   "source": []
  }
 ],
 "metadata": {
  "kernelspec": {
   "display_name": "Python 3 (ipykernel)",
   "language": "python",
   "name": "python3"
  },
  "language_info": {
   "codemirror_mode": {
    "name": "ipython",
    "version": 3
   },
   "file_extension": ".py",
   "mimetype": "text/x-python",
   "name": "python",
   "nbconvert_exporter": "python",
   "pygments_lexer": "ipython3",
   "version": "3.9.6"
  }
 },
 "nbformat": 4,
 "nbformat_minor": 5
}
