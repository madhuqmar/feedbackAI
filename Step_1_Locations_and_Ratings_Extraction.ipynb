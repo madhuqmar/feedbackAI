{
 "cells": [
  {
   "cell_type": "markdown",
   "id": "f8503374-7b2e-4a3a-ada3-c4cf43c00bcc",
   "metadata": {},
   "source": [
    "## Imports"
   ]
  },
  {
   "cell_type": "code",
   "execution_count": 2,
   "id": "165855c8-667b-4cac-96d4-7d35470e8139",
   "metadata": {},
   "outputs": [],
   "source": [
    "import logging\n",
    "import os\n",
    "import sys\n",
    "from selenium import webdriver\n",
    "from selenium.webdriver.common.by import By\n",
    "from selenium.webdriver.common.keys import Keys\n",
    "from selenium.webdriver.support.ui import WebDriverWait\n",
    "from selenium.webdriver.support import expected_conditions as EC\n",
    "import time\n",
    "import pandas as pd\n",
    "import googlemaps\n",
    "from google.oauth2 import service_account\n",
    "from googleapiclient.discovery import build\n",
    "import numpy as np\n",
    "from dotenv import load_dotenv"
   ]
  },
  {
   "cell_type": "code",
   "execution_count": 3,
   "id": "b9a08bef-a5d3-4d1c-91eb-c9f25a1fe105",
   "metadata": {},
   "outputs": [
    {
     "data": {
      "text/plain": [
       "True"
      ]
     },
     "execution_count": 3,
     "metadata": {},
     "output_type": "execute_result"
    }
   ],
   "source": [
    "# Load environment variables from the .env file\n",
    "load_dotenv(\".env\")"
   ]
  },
  {
   "cell_type": "markdown",
   "id": "0a87bb2a-b663-44c6-a216-21ea1e0223a0",
   "metadata": {},
   "source": [
    "## Set up Logging"
   ]
  },
  {
   "cell_type": "code",
   "execution_count": 4,
   "id": "a229a328-6530-4e48-acd4-1504801f73f3",
   "metadata": {
    "editable": true,
    "slideshow": {
     "slide_type": ""
    },
    "tags": []
   },
   "outputs": [],
   "source": [
    "# Configure logging\n",
    "logging.basicConfig(\n",
    "    level=logging.INFO,\n",
    "    format='%(asctime)s - %(levelname)s - %(message)s',\n",
    "    handlers=[\n",
    "        logging.FileHandler('scrape_google_maps_reviews.log', mode='w'),  # Log to file\n",
    "        logging.StreamHandler(sys.stdout)  # Log to console (for Jupyter/real-time output)\n",
    "    ]\n",
    ")"
   ]
  },
  {
   "cell_type": "markdown",
   "id": "c0436e40-b704-41bf-837c-7a9f7067744d",
   "metadata": {},
   "source": [
    "## Read Addresses from Google Sheet"
   ]
  },
  {
   "cell_type": "code",
   "execution_count": 5,
   "id": "72d76dae-98fd-4143-b6ba-87e3a4b33feb",
   "metadata": {},
   "outputs": [],
   "source": [
    "# Load credentials from the JSON key file\n",
    "SERVICE_ACCOUNT_FILE = '/Users/madhumithakumar/Documents/bgorg_clients/google_sheets_service_account_key.json'\n",
    "SCOPES = ['https://www.googleapis.com/auth/spreadsheets']\n",
    "\n",
    "credentials = service_account.Credentials.from_service_account_file(\n",
    "    SERVICE_ACCOUNT_FILE, scopes=SCOPES\n",
    ")\n",
    "\n",
    "# Google Sheets ID and Range\n",
    "SPREADSHEET_ID = '11-bAMl8nkpcQK1uxoRZ2pCZ1AKm70Wuu56McK0Uk5PU'\n",
    "RANGE_NAME = 'NailsnBeyond!A1:I11'  # Adjust as needed\n",
    "\n",
    "# Load Google Sheets data into a DataFrame\n",
    "def fetch_data_from_gsheet():\n",
    "    try:\n",
    "        # Build the Google Sheets API service\n",
    "        service = build('sheets', 'v4', credentials=credentials)\n",
    "        sheet = service.spreadsheets()\n",
    "\n",
    "        # Fetch data from the specified range\n",
    "        result = sheet.values().get(spreadsheetId=SPREADSHEET_ID, range=RANGE_NAME).execute()\n",
    "        values = result.get('values', [])\n",
    "\n",
    "        # Convert the fetched data to a DataFrame\n",
    "        if values:\n",
    "            df = pd.DataFrame(values[1:], columns=values[0])  # First row as header\n",
    "        else:\n",
    "            df = pd.DataFrame()\n",
    "\n",
    "        return df\n",
    "\n",
    "    except Exception as e:\n",
    "        print(f\"Error fetching data: {e}\")\n",
    "        return None"
   ]
  },
  {
   "cell_type": "code",
   "execution_count": 6,
   "id": "b30575ca-0b0b-4763-8198-c1a4c3ebd157",
   "metadata": {},
   "outputs": [
    {
     "name": "stdout",
     "output_type": "stream",
     "text": [
      "2024-12-28 22:21:26,110 - INFO - file_cache is only supported with oauth2client<4.0.0\n"
     ]
    }
   ],
   "source": [
    "df = fetch_data_from_gsheet()"
   ]
  },
  {
   "cell_type": "code",
   "execution_count": 7,
   "id": "ad32b86c-249e-48c4-9890-67596479a36a",
   "metadata": {},
   "outputs": [],
   "source": [
    "#df.set_index(\"BGorgeous_Client_Name\", inplace=True)"
   ]
  },
  {
   "cell_type": "code",
   "execution_count": 8,
   "id": "72e27884-2dfb-47b1-8602-2a59fcfed46d",
   "metadata": {},
   "outputs": [],
   "source": [
    "#business_name, address = df.loc[\"Naturals_Nookampalayam\", [\"Business Name\", \"Address\"]]"
   ]
  },
  {
   "cell_type": "code",
   "execution_count": 9,
   "id": "f4c3a78c-1f17-4eb4-a338-9bc6be3f357b",
   "metadata": {},
   "outputs": [],
   "source": [
    "#business_name"
   ]
  },
  {
   "cell_type": "code",
   "execution_count": 10,
   "id": "a6544c6c-51d4-4116-8a63-d02e3d7e30f6",
   "metadata": {},
   "outputs": [],
   "source": [
    "#address"
   ]
  },
  {
   "cell_type": "code",
   "execution_count": 11,
   "id": "bb468949-d36e-4a2d-827a-660ec4886449",
   "metadata": {},
   "outputs": [
    {
     "data": {
      "text/html": [
       "<div>\n",
       "<style scoped>\n",
       "    .dataframe tbody tr th:only-of-type {\n",
       "        vertical-align: middle;\n",
       "    }\n",
       "\n",
       "    .dataframe tbody tr th {\n",
       "        vertical-align: top;\n",
       "    }\n",
       "\n",
       "    .dataframe thead th {\n",
       "        text-align: right;\n",
       "    }\n",
       "</style>\n",
       "<table border=\"1\" class=\"dataframe\">\n",
       "  <thead>\n",
       "    <tr style=\"text-align: right;\">\n",
       "      <th></th>\n",
       "      <th>City</th>\n",
       "      <th>Area</th>\n",
       "      <th>Address</th>\n",
       "      <th>Business Name</th>\n",
       "      <th>Status</th>\n",
       "      <th>Franchise Owner</th>\n",
       "      <th>Subscription</th>\n",
       "      <th>BGorgeous_Client_Name</th>\n",
       "      <th>Phone</th>\n",
       "    </tr>\n",
       "  </thead>\n",
       "  <tbody>\n",
       "    <tr>\n",
       "      <th>0</th>\n",
       "      <td>Chennai</td>\n",
       "      <td>Royapettah</td>\n",
       "      <td>No 114, 1st Floor, Cathedral Rd, Gopalapuram, ...</td>\n",
       "      <td>Nails n Beyond</td>\n",
       "      <td>None</td>\n",
       "      <td>None</td>\n",
       "      <td>None</td>\n",
       "      <td>None</td>\n",
       "      <td>None</td>\n",
       "    </tr>\n",
       "    <tr>\n",
       "      <th>1</th>\n",
       "      <td>Chennai</td>\n",
       "      <td>Velachery</td>\n",
       "      <td>142 Phoenix Market City, Road, Indira Gandhi N...</td>\n",
       "      <td>Nails 'n Beyond</td>\n",
       "      <td>None</td>\n",
       "      <td>None</td>\n",
       "      <td>None</td>\n",
       "      <td>None</td>\n",
       "      <td>None</td>\n",
       "    </tr>\n",
       "    <tr>\n",
       "      <th>2</th>\n",
       "      <td>Chennai</td>\n",
       "      <td>Nungambakkam</td>\n",
       "      <td>3rd Floor, Ispahani Centre, 123 &amp; 124, Nungamb...</td>\n",
       "      <td>Nails N Beyond</td>\n",
       "      <td>None</td>\n",
       "      <td>None</td>\n",
       "      <td>None</td>\n",
       "      <td>None</td>\n",
       "      <td>None</td>\n",
       "    </tr>\n",
       "    <tr>\n",
       "      <th>3</th>\n",
       "      <td>Chennai</td>\n",
       "      <td>Anna Nagar West</td>\n",
       "      <td>No S68, 2nd Floor, VR Chennai, Anna Nagar West...</td>\n",
       "      <td>Nails 'n Beyond</td>\n",
       "      <td></td>\n",
       "      <td></td>\n",
       "      <td></td>\n",
       "      <td></td>\n",
       "      <td>919003179191</td>\n",
       "    </tr>\n",
       "    <tr>\n",
       "      <th>4</th>\n",
       "      <td>Chennai</td>\n",
       "      <td>Alwarpet</td>\n",
       "      <td>No 66, Oxford Center, Subbaraya Avenue, CP Ram...</td>\n",
       "      <td>Nails 'n Beyond</td>\n",
       "      <td></td>\n",
       "      <td></td>\n",
       "      <td></td>\n",
       "      <td></td>\n",
       "      <td>914424661515</td>\n",
       "    </tr>\n",
       "  </tbody>\n",
       "</table>\n",
       "</div>"
      ],
      "text/plain": [
       "      City             Area  \\\n",
       "0  Chennai       Royapettah   \n",
       "1  Chennai        Velachery   \n",
       "2  Chennai     Nungambakkam   \n",
       "3  Chennai  Anna Nagar West   \n",
       "4  Chennai         Alwarpet   \n",
       "\n",
       "                                             Address    Business Name Status  \\\n",
       "0  No 114, 1st Floor, Cathedral Rd, Gopalapuram, ...   Nails n Beyond   None   \n",
       "1  142 Phoenix Market City, Road, Indira Gandhi N...  Nails 'n Beyond   None   \n",
       "2  3rd Floor, Ispahani Centre, 123 & 124, Nungamb...   Nails N Beyond   None   \n",
       "3  No S68, 2nd Floor, VR Chennai, Anna Nagar West...  Nails 'n Beyond          \n",
       "4  No 66, Oxford Center, Subbaraya Avenue, CP Ram...  Nails 'n Beyond          \n",
       "\n",
       "  Franchise Owner Subscription BGorgeous_Client_Name         Phone  \n",
       "0            None         None                  None          None  \n",
       "1            None         None                  None          None  \n",
       "2            None         None                  None          None  \n",
       "3                                                     919003179191  \n",
       "4                                                     914424661515  "
      ]
     },
     "execution_count": 11,
     "metadata": {},
     "output_type": "execute_result"
    }
   ],
   "source": [
    "df.head()"
   ]
  },
  {
   "cell_type": "markdown",
   "id": "ab50c3a5-fae8-4161-9929-baccd5cc98b1",
   "metadata": {},
   "source": [
    "## Places API"
   ]
  },
  {
   "cell_type": "code",
   "execution_count": 12,
   "id": "3aed1f90-63cf-4e67-8961-3cae0e39b2e3",
   "metadata": {},
   "outputs": [],
   "source": [
    "api_key = os.environ.get(\"GOOGLE_CLOUD_API_KEY\")"
   ]
  },
  {
   "cell_type": "code",
   "execution_count": 13,
   "id": "0cf9e0af-d78c-4cfa-822a-f0691b21b68e",
   "metadata": {},
   "outputs": [],
   "source": [
    "def scrape_google_maps_reviews(api_key, business_name, city_name, max_locations):\n",
    "    \"\"\"\n",
    "    Extract metadata for up to 200 locations using pagination in the Google Places API.\n",
    "    Extract all reviews into a single CSV file and save Google Maps URLs to a text file.\n",
    "\n",
    "    Parameters:\n",
    "        api_key (str): Google API key.\n",
    "        business_name (str): Business name to query.\n",
    "        city_name (str): City name for the search.\n",
    "        max_locations (int): Total number of locations to extract.\n",
    "\n",
    "    Returns:\n",
    "        None: Saves the data to CSV files and URLs to a text file.\n",
    "    \"\"\"\n",
    "    logging.info(\"Starting the scrape_google_maps_reviews function\")\n",
    "    gmaps = googlemaps.Client(key=api_key)\n",
    "    location_data = []\n",
    "    all_reviews = []\n",
    "    urls = []  # To store the URLs\n",
    "\n",
    "    try:\n",
    "        processed_locations = 0\n",
    "        next_page_token = None\n",
    "\n",
    "        while processed_locations < max_locations:\n",
    "            # Fetch places using the API\n",
    "            query = f\"{business_name}, {city_name}\"\n",
    "            if next_page_token:\n",
    "                response = gmaps.places(query=query, page_token=next_page_token)\n",
    "            else:\n",
    "                response = gmaps.places(query=query)\n",
    "\n",
    "            # Handle API errors\n",
    "            if response.get(\"status\") != \"OK\":\n",
    "                logging.error(f\"Places API failed: {response.get('status')}\")\n",
    "                break\n",
    "\n",
    "            # Process results\n",
    "            results = response.get(\"results\", [])\n",
    "            for place in results:\n",
    "                if processed_locations >= max_locations:\n",
    "                    break\n",
    "\n",
    "                place_id = place[\"place_id\"]\n",
    "                name = place.get(\"name\", \"N/A\")\n",
    "                address = place.get(\"formatted_address\", \"N/A\")\n",
    "                rating = place.get(\"rating\", \"N/A\")\n",
    "                location_id = f\"LOC_{processed_locations + 1}\"\n",
    "                user_ratings_total = place.get(\"user_ratings_total\", 0)\n",
    "\n",
    "                # Generate Google Maps URL\n",
    "                url = f\"https://www.google.com/maps/place/?q=place_id:{place_id}\"\n",
    "                urls.append(url)  # Add URL to list\n",
    "\n",
    "                location_data.append({\n",
    "                    \"Location ID\": location_id,\n",
    "                    \"City Area\": city_name,\n",
    "                    \"Name\": name,\n",
    "                    \"Address\": address,\n",
    "                    \"Rating\": rating,\n",
    "                    \"Total Reviews\": user_ratings_total,\n",
    "                    \"Place ID\": place_id,\n",
    "                    \"Google Maps URL\": url\n",
    "                })\n",
    "\n",
    "                # Fetch reviews for the current location\n",
    "                try:\n",
    "                    place_details = gmaps.place(place_id=place_id, fields=[\"reviews\"])\n",
    "                    reviews = place_details.get(\"result\", {}).get(\"reviews\", [])\n",
    "\n",
    "                    for review in reviews:\n",
    "                        reviewer_name = review.get(\"author_name\", \"N/A\")\n",
    "                        review_text = review.get(\"text\", \"No text\")\n",
    "                        review_rating = review.get(\"rating\", \"N/A\")\n",
    "                        review_timestamp = review.get(\"time\")\n",
    "                        review_date_actual = datetime.utcfromtimestamp(review_timestamp).strftime('%Y-%m-%d %H:%M:%S') if review_timestamp else \"N/A\"\n",
    "\n",
    "                        all_reviews.append({\n",
    "                            \"Location ID\": location_id,\n",
    "                            \"City Area\": city_name,\n",
    "                            \"Business Name\": name,\n",
    "                            \"Address\": address,\n",
    "                            \"Reviewer Name\": reviewer_name,\n",
    "                            \"Review\": review_text,\n",
    "                            \"Rating\": review_rating,\n",
    "                            \"Review Date\": review_date_actual,\n",
    "                            \"Place ID\": place_id\n",
    "                        })\n",
    "\n",
    "                except Exception as e:\n",
    "                    logging.warning(f\"Failed to fetch reviews for {name}: {e}\")\n",
    "\n",
    "                processed_locations += 1\n",
    "\n",
    "            # Check for pagination token\n",
    "            next_page_token = response.get(\"next_page_token\")\n",
    "            if not next_page_token:\n",
    "                logging.info(\"No more pages available.\")\n",
    "                break\n",
    "\n",
    "            logging.info(\"Waiting for next page token to activate...\")\n",
    "            time.sleep(3)  # Wait for the token to become active\n",
    "\n",
    "        # Save location data to CSV\n",
    "        pd.DataFrame(location_data).to_csv(f\"data/location_data/naturals_{city_name}_data.csv\", index=False)\n",
    "        logging.info(f\"Successfully saved {processed_locations} locations to f'data/{business_name}_{city_name}_data.csv'.\")\n",
    "\n",
    "        # Save all reviews to a single CSV\n",
    "        if all_reviews:\n",
    "            pd.DataFrame(all_reviews).to_csv(f\"data/review_data/naturals_{city_name}_reviews.csv\", index=False)\n",
    "            logging.info(f\"Successfully saved all reviews to f'data/{business_name}_{city_name}_all_reviews.csv'.\")\n",
    "        else:\n",
    "            logging.warning(\"No reviews were found for any location.\")\n",
    "\n",
    "        # Save Google Maps URLs to a text file\n",
    "        with open(f\"data/location_data/maps_urls/{city_name}.txt\", \"w\") as file:\n",
    "            for url in urls:\n",
    "                file.write(url + \"\\n\")\n",
    "        logging.info(f\"Successfully saved Google Maps URLs to 'data/location_data/maps_urls/{city_name}.txt'.\")\n",
    "\n",
    "    except Exception as e:\n",
    "        logging.error(f\"An error occurred: {e}\")"
   ]
  },
  {
   "cell_type": "code",
   "execution_count": 14,
   "id": "96157afe-6e4e-462f-9772-95a17f7fa92e",
   "metadata": {},
   "outputs": [],
   "source": [
    "# scrape_google_maps_reviews(api_key, \"Naturals Signature\", \"Chennai South\", 100)"
   ]
  },
  {
   "cell_type": "markdown",
   "id": "03044d58-dcca-45f9-89a0-ae432e057284",
   "metadata": {},
   "source": [
    "## Go from Google Sheet\n",
    "Pass address directly"
   ]
  },
  {
   "cell_type": "code",
   "execution_count": 15,
   "id": "d7ecbb5e-b4d0-4219-af29-a59d5cb6d236",
   "metadata": {},
   "outputs": [],
   "source": [
    "api_key = os.environ.get(\"GOOGLE_CLOUD_API_KEY\")"
   ]
  },
  {
   "cell_type": "code",
   "execution_count": 16,
   "id": "7088cada-9c33-499d-b35b-eef0d38266bd",
   "metadata": {},
   "outputs": [],
   "source": [
    "def scrape_google_maps_metadata(api_key, business_name, city_name, max_locations):\n",
    "    \"\"\"\n",
    "    Extract metadata for up to `max_locations` using pagination in the Google Places API,\n",
    "    including latitude and longitude.\n",
    "\n",
    "    Parameters:\n",
    "        api_key (str): Google API key.\n",
    "        business_name (str): Business name to query.\n",
    "        city_name (str): City name for the search.\n",
    "        max_locations (int): Total number of locations to extract.\n",
    "\n",
    "    Returns:\n",
    "        list[dict]: List of metadata dictionaries for the locations.\n",
    "    \"\"\"\n",
    "    import googlemaps\n",
    "    import logging\n",
    "    import time\n",
    "\n",
    "    logging.info(\"Starting the scrape_google_maps_metadata function\")\n",
    "    gmaps = googlemaps.Client(key=api_key)\n",
    "    location_data = []\n",
    "\n",
    "    try:\n",
    "        processed_locations = 0\n",
    "        next_page_token = None\n",
    "\n",
    "        while processed_locations < max_locations:\n",
    "            # Fetch places using the API\n",
    "            query = f\"{business_name}, {city_name}\"\n",
    "            if next_page_token:\n",
    "                response = gmaps.places(query=query, page_token=next_page_token)\n",
    "            else:\n",
    "                response = gmaps.places(query=query)\n",
    "\n",
    "            # Handle API errors\n",
    "            if response.get(\"status\") != \"OK\":\n",
    "                logging.error(f\"Places API failed: {response.get('status')}\")\n",
    "                break\n",
    "\n",
    "            # Process results\n",
    "            results = response.get(\"results\", [])\n",
    "            for place in results:\n",
    "                if processed_locations >= max_locations:\n",
    "                    break\n",
    "\n",
    "                place_id = place[\"place_id\"]\n",
    "                name = place.get(\"name\", \"N/A\")\n",
    "                address = place.get(\"formatted_address\", \"N/A\")\n",
    "                rating = place.get(\"rating\", \"N/A\")\n",
    "                user_ratings_total = place.get(\"user_ratings_total\", 0)\n",
    "\n",
    "                # Extract latitude and longitude\n",
    "                geometry = place.get(\"geometry\", {}).get(\"location\", {})\n",
    "                lat = geometry.get(\"lat\", \"N/A\")\n",
    "                lng = geometry.get(\"lng\", \"N/A\")\n",
    "\n",
    "                # Generate Google Maps URL\n",
    "                url = f\"https://www.google.com/maps/place/?q=place_id:{place_id}\"\n",
    "\n",
    "                location_data.append({\n",
    "                    \"Location ID\": f\"LOC_{processed_locations + 1}\",\n",
    "                    \"City Area\": city_name,\n",
    "                    \"Name\": name,\n",
    "                    \"Address\": address,\n",
    "                    \"Latitude\": lat,\n",
    "                    \"Longitude\": lng,\n",
    "                    \"Rating\": rating,\n",
    "                    \"Total Reviews\": user_ratings_total,\n",
    "                    \"Place ID\": place_id,\n",
    "                    \"Google Maps URL\": url\n",
    "                })\n",
    "\n",
    "                processed_locations += 1\n",
    "\n",
    "            # Check for pagination token\n",
    "            next_page_token = response.get(\"next_page_token\")\n",
    "            if not next_page_token:\n",
    "                logging.info(\"No more pages available.\")\n",
    "                break\n",
    "\n",
    "            logging.info(\"Waiting for next page token to activate...\")\n",
    "            time.sleep(3)  # Wait for the token to become active\n",
    "\n",
    "    except Exception as e:\n",
    "        logging.error(f\"An error occurred: {e}\")\n",
    "\n",
    "    return location_data"
   ]
  },
  {
   "cell_type": "code",
   "execution_count": 17,
   "id": "a74752c8-3582-4da3-9237-52ec1519d3ca",
   "metadata": {},
   "outputs": [],
   "source": [
    "# scrape_google_maps_metadata(api_key, \"Naturals Salon\", \"Adambakkam, Brindavan Nagar\", 5)"
   ]
  },
  {
   "cell_type": "code",
   "execution_count": 18,
   "id": "b1e75806-44e6-4cc4-9501-82dd8f23f47e",
   "metadata": {},
   "outputs": [],
   "source": [
    "# area, address = df.loc[2, [\"Area\", \"Address\"]]"
   ]
  },
  {
   "cell_type": "code",
   "execution_count": 19,
   "id": "e8789c83-04ac-4e59-8d77-926dc16d0cc4",
   "metadata": {},
   "outputs": [],
   "source": [
    "# area"
   ]
  },
  {
   "cell_type": "code",
   "execution_count": 20,
   "id": "287003df-addb-4bd4-8ca6-b4df337587de",
   "metadata": {},
   "outputs": [],
   "source": [
    "# address"
   ]
  },
  {
   "cell_type": "code",
   "execution_count": 21,
   "id": "7da10c0a-f519-4eb0-9697-52166ad3c714",
   "metadata": {},
   "outputs": [
    {
     "data": {
      "text/html": [
       "<div>\n",
       "<style scoped>\n",
       "    .dataframe tbody tr th:only-of-type {\n",
       "        vertical-align: middle;\n",
       "    }\n",
       "\n",
       "    .dataframe tbody tr th {\n",
       "        vertical-align: top;\n",
       "    }\n",
       "\n",
       "    .dataframe thead th {\n",
       "        text-align: right;\n",
       "    }\n",
       "</style>\n",
       "<table border=\"1\" class=\"dataframe\">\n",
       "  <thead>\n",
       "    <tr style=\"text-align: right;\">\n",
       "      <th></th>\n",
       "      <th>City</th>\n",
       "      <th>Area</th>\n",
       "      <th>Address</th>\n",
       "      <th>Business Name</th>\n",
       "      <th>Status</th>\n",
       "      <th>Franchise Owner</th>\n",
       "      <th>Subscription</th>\n",
       "      <th>BGorgeous_Client_Name</th>\n",
       "      <th>Phone</th>\n",
       "    </tr>\n",
       "  </thead>\n",
       "  <tbody>\n",
       "    <tr>\n",
       "      <th>0</th>\n",
       "      <td>Chennai</td>\n",
       "      <td>Royapettah</td>\n",
       "      <td>No 114, 1st Floor, Cathedral Rd, Gopalapuram, ...</td>\n",
       "      <td>Nails n Beyond</td>\n",
       "      <td>None</td>\n",
       "      <td>None</td>\n",
       "      <td>None</td>\n",
       "      <td>None</td>\n",
       "      <td>None</td>\n",
       "    </tr>\n",
       "    <tr>\n",
       "      <th>1</th>\n",
       "      <td>Chennai</td>\n",
       "      <td>Velachery</td>\n",
       "      <td>142 Phoenix Market City, Road, Indira Gandhi N...</td>\n",
       "      <td>Nails 'n Beyond</td>\n",
       "      <td>None</td>\n",
       "      <td>None</td>\n",
       "      <td>None</td>\n",
       "      <td>None</td>\n",
       "      <td>None</td>\n",
       "    </tr>\n",
       "    <tr>\n",
       "      <th>2</th>\n",
       "      <td>Chennai</td>\n",
       "      <td>Nungambakkam</td>\n",
       "      <td>3rd Floor, Ispahani Centre, 123 &amp; 124, Nungamb...</td>\n",
       "      <td>Nails N Beyond</td>\n",
       "      <td>None</td>\n",
       "      <td>None</td>\n",
       "      <td>None</td>\n",
       "      <td>None</td>\n",
       "      <td>None</td>\n",
       "    </tr>\n",
       "    <tr>\n",
       "      <th>3</th>\n",
       "      <td>Chennai</td>\n",
       "      <td>Anna Nagar West</td>\n",
       "      <td>No S68, 2nd Floor, VR Chennai, Anna Nagar West...</td>\n",
       "      <td>Nails 'n Beyond</td>\n",
       "      <td></td>\n",
       "      <td></td>\n",
       "      <td></td>\n",
       "      <td></td>\n",
       "      <td>919003179191</td>\n",
       "    </tr>\n",
       "    <tr>\n",
       "      <th>4</th>\n",
       "      <td>Chennai</td>\n",
       "      <td>Alwarpet</td>\n",
       "      <td>No 66, Oxford Center, Subbaraya Avenue, CP Ram...</td>\n",
       "      <td>Nails 'n Beyond</td>\n",
       "      <td></td>\n",
       "      <td></td>\n",
       "      <td></td>\n",
       "      <td></td>\n",
       "      <td>914424661515</td>\n",
       "    </tr>\n",
       "  </tbody>\n",
       "</table>\n",
       "</div>"
      ],
      "text/plain": [
       "      City             Area  \\\n",
       "0  Chennai       Royapettah   \n",
       "1  Chennai        Velachery   \n",
       "2  Chennai     Nungambakkam   \n",
       "3  Chennai  Anna Nagar West   \n",
       "4  Chennai         Alwarpet   \n",
       "\n",
       "                                             Address    Business Name Status  \\\n",
       "0  No 114, 1st Floor, Cathedral Rd, Gopalapuram, ...   Nails n Beyond   None   \n",
       "1  142 Phoenix Market City, Road, Indira Gandhi N...  Nails 'n Beyond   None   \n",
       "2  3rd Floor, Ispahani Centre, 123 & 124, Nungamb...   Nails N Beyond   None   \n",
       "3  No S68, 2nd Floor, VR Chennai, Anna Nagar West...  Nails 'n Beyond          \n",
       "4  No 66, Oxford Center, Subbaraya Avenue, CP Ram...  Nails 'n Beyond          \n",
       "\n",
       "  Franchise Owner Subscription BGorgeous_Client_Name         Phone  \n",
       "0            None         None                  None          None  \n",
       "1            None         None                  None          None  \n",
       "2            None         None                  None          None  \n",
       "3                                                     919003179191  \n",
       "4                                                     914424661515  "
      ]
     },
     "execution_count": 21,
     "metadata": {},
     "output_type": "execute_result"
    }
   ],
   "source": [
    "df.head()"
   ]
  },
  {
   "cell_type": "code",
   "execution_count": 22,
   "id": "9e217345-5439-4dcf-96e3-7d75c14fb8ba",
   "metadata": {},
   "outputs": [
    {
     "data": {
      "text/plain": [
       "10"
      ]
     },
     "execution_count": 22,
     "metadata": {},
     "output_type": "execute_result"
    }
   ],
   "source": [
    "len(df)"
   ]
  },
  {
   "cell_type": "code",
   "execution_count": 23,
   "id": "e5336bcc-1a10-4f36-881f-e69a7833b436",
   "metadata": {},
   "outputs": [],
   "source": [
    "def process_dataframe(api_key, df):\n",
    "    \"\"\"\n",
    "    Loop through a DataFrame and call `scrape_google_maps_metadata` for each row.\n",
    "\n",
    "    Parameters:\n",
    "        api_key (str): Google API key.\n",
    "        df (pd.DataFrame): DataFrame containing 'Business Name' and 'City Name' columns.\n",
    "\n",
    "    Returns:\n",
    "        pd.DataFrame: A new DataFrame with the results.\n",
    "    \"\"\"\n",
    "    import pandas as pd\n",
    "\n",
    "    results = []\n",
    "\n",
    "    for index, row in df.iterrows():\n",
    "        city_name = row[\"City\"] + \" \" + row[\"Area\"]\n",
    "\n",
    "        # Call the scrape_google_maps_metadata function\n",
    "        data = scrape_google_maps_metadata(api_key, \"Nails n Beyond\", city_name, max_locations=20)  # Adjust max_locations as needed\n",
    "        if data:\n",
    "            results.extend(data)  # Extend the list with the results\n",
    "\n",
    "    # Convert results to a DataFrame\n",
    "    if results:\n",
    "        return pd.DataFrame(results)\n",
    "    else:\n",
    "        print(\"No valid data retrieved.\")\n",
    "        return pd.DataFrame()  # Return an empty DataFrame if no results\n"
   ]
  },
  {
   "cell_type": "code",
   "execution_count": 24,
   "id": "108a60bf-1947-4df8-8bfb-4cf188415933",
   "metadata": {},
   "outputs": [
    {
     "name": "stdout",
     "output_type": "stream",
     "text": [
      "2024-12-28 22:21:40,496 - INFO - Starting the scrape_google_maps_metadata function\n",
      "2024-12-28 22:21:40,498 - INFO - API queries_quota: 60\n",
      "2024-12-28 22:21:41,503 - INFO - No more pages available.\n",
      "2024-12-28 22:21:41,509 - INFO - Starting the scrape_google_maps_metadata function\n",
      "2024-12-28 22:21:41,510 - INFO - API queries_quota: 60\n",
      "2024-12-28 22:21:42,404 - INFO - No more pages available.\n",
      "2024-12-28 22:21:42,409 - INFO - Starting the scrape_google_maps_metadata function\n",
      "2024-12-28 22:21:42,411 - INFO - API queries_quota: 60\n",
      "2024-12-28 22:21:43,866 - INFO - No more pages available.\n",
      "2024-12-28 22:21:43,871 - INFO - Starting the scrape_google_maps_metadata function\n",
      "2024-12-28 22:21:43,873 - INFO - API queries_quota: 60\n",
      "2024-12-28 22:21:45,109 - INFO - No more pages available.\n",
      "2024-12-28 22:21:45,114 - INFO - Starting the scrape_google_maps_metadata function\n",
      "2024-12-28 22:21:45,116 - INFO - API queries_quota: 60\n",
      "2024-12-28 22:21:47,421 - INFO - No more pages available.\n",
      "2024-12-28 22:21:47,426 - INFO - Starting the scrape_google_maps_metadata function\n",
      "2024-12-28 22:21:47,427 - INFO - API queries_quota: 60\n",
      "2024-12-28 22:21:48,166 - INFO - No more pages available.\n",
      "2024-12-28 22:21:48,171 - INFO - Starting the scrape_google_maps_metadata function\n",
      "2024-12-28 22:21:48,173 - INFO - API queries_quota: 60\n",
      "2024-12-28 22:21:49,380 - INFO - No more pages available.\n",
      "2024-12-28 22:21:49,385 - INFO - Starting the scrape_google_maps_metadata function\n",
      "2024-12-28 22:21:49,387 - INFO - API queries_quota: 60\n",
      "2024-12-28 22:21:50,740 - INFO - No more pages available.\n",
      "2024-12-28 22:21:50,746 - INFO - Starting the scrape_google_maps_metadata function\n",
      "2024-12-28 22:21:50,747 - INFO - API queries_quota: 60\n",
      "2024-12-28 22:21:51,947 - INFO - No more pages available.\n",
      "2024-12-28 22:21:51,953 - INFO - Starting the scrape_google_maps_metadata function\n",
      "2024-12-28 22:21:51,954 - INFO - API queries_quota: 60\n",
      "2024-12-28 22:21:53,084 - INFO - No more pages available.\n"
     ]
    }
   ],
   "source": [
    "# Process the DataFrame\n",
    "result_df = process_dataframe(api_key, df)"
   ]
  },
  {
   "cell_type": "code",
   "execution_count": 25,
   "id": "8f61fb47-4895-40e7-afe8-ad605c66148c",
   "metadata": {},
   "outputs": [
    {
     "data": {
      "text/plain": [
       "25"
      ]
     },
     "execution_count": 25,
     "metadata": {},
     "output_type": "execute_result"
    }
   ],
   "source": [
    "len(result_df)"
   ]
  },
  {
   "cell_type": "code",
   "execution_count": 26,
   "id": "ac6f48c6-56b7-45a7-b53c-7dff32e42732",
   "metadata": {},
   "outputs": [],
   "source": [
    "result_df = result_df.drop_duplicates(subset=['Place ID'])"
   ]
  },
  {
   "cell_type": "code",
   "execution_count": 27,
   "id": "16874c63-a25f-485d-bde5-00fdcc802219",
   "metadata": {},
   "outputs": [
    {
     "data": {
      "text/plain": [
       "10"
      ]
     },
     "execution_count": 27,
     "metadata": {},
     "output_type": "execute_result"
    }
   ],
   "source": [
    "len(result_df)"
   ]
  },
  {
   "cell_type": "code",
   "execution_count": 28,
   "id": "c0c1da6b-3e61-4635-9275-70e993ad0b94",
   "metadata": {},
   "outputs": [
    {
     "data": {
      "text/html": [
       "<div>\n",
       "<style scoped>\n",
       "    .dataframe tbody tr th:only-of-type {\n",
       "        vertical-align: middle;\n",
       "    }\n",
       "\n",
       "    .dataframe tbody tr th {\n",
       "        vertical-align: top;\n",
       "    }\n",
       "\n",
       "    .dataframe thead th {\n",
       "        text-align: right;\n",
       "    }\n",
       "</style>\n",
       "<table border=\"1\" class=\"dataframe\">\n",
       "  <thead>\n",
       "    <tr style=\"text-align: right;\">\n",
       "      <th></th>\n",
       "      <th>Location ID</th>\n",
       "      <th>City Area</th>\n",
       "      <th>Name</th>\n",
       "      <th>Address</th>\n",
       "      <th>Latitude</th>\n",
       "      <th>Longitude</th>\n",
       "      <th>Rating</th>\n",
       "      <th>Total Reviews</th>\n",
       "      <th>Place ID</th>\n",
       "      <th>Google Maps URL</th>\n",
       "    </tr>\n",
       "  </thead>\n",
       "  <tbody>\n",
       "    <tr>\n",
       "      <th>0</th>\n",
       "      <td>LOC_1</td>\n",
       "      <td>Chennai Royapettah</td>\n",
       "      <td>Nails n Beyond</td>\n",
       "      <td>No 114, 1st Floor, Cathedral Rd, Gopalapuram, ...</td>\n",
       "      <td>13.047563</td>\n",
       "      <td>80.254357</td>\n",
       "      <td>4.8</td>\n",
       "      <td>373</td>\n",
       "      <td>ChIJu_BEcNhnUjoR1nBoaKnbQU8</td>\n",
       "      <td>https://www.google.com/maps/place/?q=place_id:...</td>\n",
       "    </tr>\n",
       "    <tr>\n",
       "      <th>1</th>\n",
       "      <td>LOC_2</td>\n",
       "      <td>Chennai Royapettah</td>\n",
       "      <td>Nails 'n Beyond</td>\n",
       "      <td>Shop No. B1, 27 Express Mall.2, Club House Roa...</td>\n",
       "      <td>13.058911</td>\n",
       "      <td>80.264528</td>\n",
       "      <td>5.0</td>\n",
       "      <td>4</td>\n",
       "      <td>ChIJmzVJsNpnUjoRO-VbI3aMgn0</td>\n",
       "      <td>https://www.google.com/maps/place/?q=place_id:...</td>\n",
       "    </tr>\n",
       "    <tr>\n",
       "      <th>2</th>\n",
       "      <td>LOC_1</td>\n",
       "      <td>Chennai Velachery</td>\n",
       "      <td>Nails 'n Beyond</td>\n",
       "      <td>142 Phoenix Market City, Road, Indira Gandhi N...</td>\n",
       "      <td>12.992709</td>\n",
       "      <td>80.217270</td>\n",
       "      <td>4.9</td>\n",
       "      <td>355</td>\n",
       "      <td>ChIJCbZckZlnUjoRBp3RFB6IV-E</td>\n",
       "      <td>https://www.google.com/maps/place/?q=place_id:...</td>\n",
       "    </tr>\n",
       "    <tr>\n",
       "      <th>4</th>\n",
       "      <td>LOC_2</td>\n",
       "      <td>Chennai Nungambakkam</td>\n",
       "      <td>Nails N Beyond</td>\n",
       "      <td>3rd Floor, Ispahani Centre, 123 &amp; 124, Nungamb...</td>\n",
       "      <td>13.058399</td>\n",
       "      <td>80.248142</td>\n",
       "      <td>2.3</td>\n",
       "      <td>3</td>\n",
       "      <td>ChIJGQF0CEJmUjoRdH35zqWvIeM</td>\n",
       "      <td>https://www.google.com/maps/place/?q=place_id:...</td>\n",
       "    </tr>\n",
       "    <tr>\n",
       "      <th>5</th>\n",
       "      <td>LOC_1</td>\n",
       "      <td>Chennai Anna Nagar West</td>\n",
       "      <td>Nails 'n Beyond</td>\n",
       "      <td>No S68, 2nd Floor, VR Chennai, Anna Nagar West...</td>\n",
       "      <td>13.080524</td>\n",
       "      <td>80.197132</td>\n",
       "      <td>4.7</td>\n",
       "      <td>276</td>\n",
       "      <td>ChIJWXplDnFlUjoR89bQNddfMSU</td>\n",
       "      <td>https://www.google.com/maps/place/?q=place_id:...</td>\n",
       "    </tr>\n",
       "  </tbody>\n",
       "</table>\n",
       "</div>"
      ],
      "text/plain": [
       "  Location ID                City Area             Name  \\\n",
       "0       LOC_1       Chennai Royapettah   Nails n Beyond   \n",
       "1       LOC_2       Chennai Royapettah  Nails 'n Beyond   \n",
       "2       LOC_1        Chennai Velachery  Nails 'n Beyond   \n",
       "4       LOC_2     Chennai Nungambakkam   Nails N Beyond   \n",
       "5       LOC_1  Chennai Anna Nagar West  Nails 'n Beyond   \n",
       "\n",
       "                                             Address   Latitude  Longitude  \\\n",
       "0  No 114, 1st Floor, Cathedral Rd, Gopalapuram, ...  13.047563  80.254357   \n",
       "1  Shop No. B1, 27 Express Mall.2, Club House Roa...  13.058911  80.264528   \n",
       "2  142 Phoenix Market City, Road, Indira Gandhi N...  12.992709  80.217270   \n",
       "4  3rd Floor, Ispahani Centre, 123 & 124, Nungamb...  13.058399  80.248142   \n",
       "5  No S68, 2nd Floor, VR Chennai, Anna Nagar West...  13.080524  80.197132   \n",
       "\n",
       "   Rating  Total Reviews                     Place ID  \\\n",
       "0     4.8            373  ChIJu_BEcNhnUjoR1nBoaKnbQU8   \n",
       "1     5.0              4  ChIJmzVJsNpnUjoRO-VbI3aMgn0   \n",
       "2     4.9            355  ChIJCbZckZlnUjoRBp3RFB6IV-E   \n",
       "4     2.3              3  ChIJGQF0CEJmUjoRdH35zqWvIeM   \n",
       "5     4.7            276  ChIJWXplDnFlUjoR89bQNddfMSU   \n",
       "\n",
       "                                     Google Maps URL  \n",
       "0  https://www.google.com/maps/place/?q=place_id:...  \n",
       "1  https://www.google.com/maps/place/?q=place_id:...  \n",
       "2  https://www.google.com/maps/place/?q=place_id:...  \n",
       "4  https://www.google.com/maps/place/?q=place_id:...  \n",
       "5  https://www.google.com/maps/place/?q=place_id:...  "
      ]
     },
     "execution_count": 28,
     "metadata": {},
     "output_type": "execute_result"
    }
   ],
   "source": [
    "result_df.head()"
   ]
  },
  {
   "cell_type": "code",
   "execution_count": 29,
   "id": "96bc6230-8978-4064-b2eb-a0ca393587e1",
   "metadata": {},
   "outputs": [
    {
     "data": {
      "text/plain": [
       "1568"
      ]
     },
     "execution_count": 29,
     "metadata": {},
     "output_type": "execute_result"
    }
   ],
   "source": [
    "result_df[\"Total Reviews\"].sum()"
   ]
  },
  {
   "cell_type": "code",
   "execution_count": 30,
   "id": "ffc3c1d5-cb18-4307-bf4a-041394a9a2e1",
   "metadata": {},
   "outputs": [
    {
     "data": {
      "text/plain": [
       "0"
      ]
     },
     "execution_count": 30,
     "metadata": {},
     "output_type": "execute_result"
    }
   ],
   "source": [
    "result_df[\"Rating\"].isna().sum()"
   ]
  },
  {
   "cell_type": "code",
   "execution_count": 31,
   "id": "4891939f-4b2a-49bd-a9a0-413bacc7739b",
   "metadata": {},
   "outputs": [
    {
     "data": {
      "text/plain": [
       "1"
      ]
     },
     "execution_count": 31,
     "metadata": {},
     "output_type": "execute_result"
    }
   ],
   "source": [
    "(result_df['Total Reviews'] == 0).sum()"
   ]
  },
  {
   "cell_type": "code",
   "execution_count": 32,
   "id": "c7e2c6de-19dd-4842-883e-7b7759cfdd96",
   "metadata": {},
   "outputs": [
    {
     "data": {
      "text/plain": [
       "Name\n",
       "Nails 'n Beyond    8\n",
       "Nails n Beyond     1\n",
       "Nails N Beyond     1\n",
       "Name: count, dtype: int64"
      ]
     },
     "execution_count": 32,
     "metadata": {},
     "output_type": "execute_result"
    }
   ],
   "source": [
    "result_df[\"Name\"].value_counts()"
   ]
  },
  {
   "cell_type": "code",
   "execution_count": 33,
   "id": "8b1f0032-f377-411b-a883-c7abf87affe0",
   "metadata": {},
   "outputs": [],
   "source": [
    "# List of allowed values\n",
    "not_allowed_names = [\"Shree Naturals\", \"GREEN TRENDS PERUNGALATHUR\", \"Sun Naturals Unisex Salon And Spa\", \"Studieo7 Family Salon & Bridal Studio - Nanganallur\",\n",
    "                    \"Allure Unisex Salon\", \"Isha\", \"Green Trends Unisex Hair & Style Salon\", \"Page 3 Luxury Salon Kilpauk\", \"Vinodhbamaa Makeup Artistry | Beautician Course in Chennai | Makeup Training Academy | Makeup course\",\n",
    "                    \"Naturals Corporate Office\"]\n",
    "\n",
    "# Keep rows where 'name' is in the list of allowed values\n",
    "result_df = result_df[~result_df['Name'].isin(not_allowed_names)]"
   ]
  },
  {
   "cell_type": "code",
   "execution_count": 34,
   "id": "0c3aea2e-db40-4c17-abb9-9f56d9bfddc0",
   "metadata": {},
   "outputs": [
    {
     "data": {
      "text/plain": [
       "10"
      ]
     },
     "execution_count": 34,
     "metadata": {},
     "output_type": "execute_result"
    }
   ],
   "source": [
    "len(result_df)"
   ]
  },
  {
   "cell_type": "code",
   "execution_count": 35,
   "id": "afb83286-bacb-4b5d-99c9-fd1e120715ee",
   "metadata": {},
   "outputs": [
    {
     "data": {
      "text/plain": [
       "Name\n",
       "Nails 'n Beyond    8\n",
       "Nails n Beyond     1\n",
       "Nails N Beyond     1\n",
       "Name: count, dtype: int64"
      ]
     },
     "execution_count": 35,
     "metadata": {},
     "output_type": "execute_result"
    }
   ],
   "source": [
    "result_df[\"Name\"].value_counts()"
   ]
  },
  {
   "cell_type": "code",
   "execution_count": 36,
   "id": "196d34fc-ae60-4458-836a-6e6dd2b571f0",
   "metadata": {},
   "outputs": [],
   "source": [
    "result_df['full_location'] = result_df['City Area'] + \" \" + result_df['Name']"
   ]
  },
  {
   "cell_type": "code",
   "execution_count": 37,
   "id": "ea62716c-8255-4f2d-9e95-e9c1448bee6f",
   "metadata": {},
   "outputs": [],
   "source": [
    "result_df.to_csv(\"data/nailsnbeyond_locations_metadata.csv\")\n",
    "result_df['Google Maps URL'].to_csv('data/nailsnbeyond_maps_urls.txt', index=False)"
   ]
  },
  {
   "cell_type": "code",
   "execution_count": 38,
   "id": "dee75f4a-a2d5-4524-adb8-22c2719c83ad",
   "metadata": {},
   "outputs": [
    {
     "data": {
      "text/html": [
       "<div>\n",
       "<style scoped>\n",
       "    .dataframe tbody tr th:only-of-type {\n",
       "        vertical-align: middle;\n",
       "    }\n",
       "\n",
       "    .dataframe tbody tr th {\n",
       "        vertical-align: top;\n",
       "    }\n",
       "\n",
       "    .dataframe thead th {\n",
       "        text-align: right;\n",
       "    }\n",
       "</style>\n",
       "<table border=\"1\" class=\"dataframe\">\n",
       "  <thead>\n",
       "    <tr style=\"text-align: right;\">\n",
       "      <th></th>\n",
       "      <th>Location ID</th>\n",
       "      <th>City Area</th>\n",
       "      <th>Name</th>\n",
       "      <th>Address</th>\n",
       "      <th>Latitude</th>\n",
       "      <th>Longitude</th>\n",
       "      <th>Rating</th>\n",
       "      <th>Total Reviews</th>\n",
       "      <th>Place ID</th>\n",
       "      <th>Google Maps URL</th>\n",
       "      <th>full_location</th>\n",
       "    </tr>\n",
       "  </thead>\n",
       "  <tbody>\n",
       "    <tr>\n",
       "      <th>0</th>\n",
       "      <td>LOC_1</td>\n",
       "      <td>Chennai Royapettah</td>\n",
       "      <td>Nails n Beyond</td>\n",
       "      <td>No 114, 1st Floor, Cathedral Rd, Gopalapuram, ...</td>\n",
       "      <td>13.047563</td>\n",
       "      <td>80.254357</td>\n",
       "      <td>4.8</td>\n",
       "      <td>373</td>\n",
       "      <td>ChIJu_BEcNhnUjoR1nBoaKnbQU8</td>\n",
       "      <td>https://www.google.com/maps/place/?q=place_id:...</td>\n",
       "      <td>Chennai Royapettah Nails n Beyond</td>\n",
       "    </tr>\n",
       "    <tr>\n",
       "      <th>1</th>\n",
       "      <td>LOC_2</td>\n",
       "      <td>Chennai Royapettah</td>\n",
       "      <td>Nails 'n Beyond</td>\n",
       "      <td>Shop No. B1, 27 Express Mall.2, Club House Roa...</td>\n",
       "      <td>13.058911</td>\n",
       "      <td>80.264528</td>\n",
       "      <td>5.0</td>\n",
       "      <td>4</td>\n",
       "      <td>ChIJmzVJsNpnUjoRO-VbI3aMgn0</td>\n",
       "      <td>https://www.google.com/maps/place/?q=place_id:...</td>\n",
       "      <td>Chennai Royapettah Nails 'n Beyond</td>\n",
       "    </tr>\n",
       "    <tr>\n",
       "      <th>2</th>\n",
       "      <td>LOC_1</td>\n",
       "      <td>Chennai Velachery</td>\n",
       "      <td>Nails 'n Beyond</td>\n",
       "      <td>142 Phoenix Market City, Road, Indira Gandhi N...</td>\n",
       "      <td>12.992709</td>\n",
       "      <td>80.217270</td>\n",
       "      <td>4.9</td>\n",
       "      <td>355</td>\n",
       "      <td>ChIJCbZckZlnUjoRBp3RFB6IV-E</td>\n",
       "      <td>https://www.google.com/maps/place/?q=place_id:...</td>\n",
       "      <td>Chennai Velachery Nails 'n Beyond</td>\n",
       "    </tr>\n",
       "    <tr>\n",
       "      <th>4</th>\n",
       "      <td>LOC_2</td>\n",
       "      <td>Chennai Nungambakkam</td>\n",
       "      <td>Nails N Beyond</td>\n",
       "      <td>3rd Floor, Ispahani Centre, 123 &amp; 124, Nungamb...</td>\n",
       "      <td>13.058399</td>\n",
       "      <td>80.248142</td>\n",
       "      <td>2.3</td>\n",
       "      <td>3</td>\n",
       "      <td>ChIJGQF0CEJmUjoRdH35zqWvIeM</td>\n",
       "      <td>https://www.google.com/maps/place/?q=place_id:...</td>\n",
       "      <td>Chennai Nungambakkam Nails N Beyond</td>\n",
       "    </tr>\n",
       "    <tr>\n",
       "      <th>5</th>\n",
       "      <td>LOC_1</td>\n",
       "      <td>Chennai Anna Nagar West</td>\n",
       "      <td>Nails 'n Beyond</td>\n",
       "      <td>No S68, 2nd Floor, VR Chennai, Anna Nagar West...</td>\n",
       "      <td>13.080524</td>\n",
       "      <td>80.197132</td>\n",
       "      <td>4.7</td>\n",
       "      <td>276</td>\n",
       "      <td>ChIJWXplDnFlUjoR89bQNddfMSU</td>\n",
       "      <td>https://www.google.com/maps/place/?q=place_id:...</td>\n",
       "      <td>Chennai Anna Nagar West Nails 'n Beyond</td>\n",
       "    </tr>\n",
       "  </tbody>\n",
       "</table>\n",
       "</div>"
      ],
      "text/plain": [
       "  Location ID                City Area             Name  \\\n",
       "0       LOC_1       Chennai Royapettah   Nails n Beyond   \n",
       "1       LOC_2       Chennai Royapettah  Nails 'n Beyond   \n",
       "2       LOC_1        Chennai Velachery  Nails 'n Beyond   \n",
       "4       LOC_2     Chennai Nungambakkam   Nails N Beyond   \n",
       "5       LOC_1  Chennai Anna Nagar West  Nails 'n Beyond   \n",
       "\n",
       "                                             Address   Latitude  Longitude  \\\n",
       "0  No 114, 1st Floor, Cathedral Rd, Gopalapuram, ...  13.047563  80.254357   \n",
       "1  Shop No. B1, 27 Express Mall.2, Club House Roa...  13.058911  80.264528   \n",
       "2  142 Phoenix Market City, Road, Indira Gandhi N...  12.992709  80.217270   \n",
       "4  3rd Floor, Ispahani Centre, 123 & 124, Nungamb...  13.058399  80.248142   \n",
       "5  No S68, 2nd Floor, VR Chennai, Anna Nagar West...  13.080524  80.197132   \n",
       "\n",
       "   Rating  Total Reviews                     Place ID  \\\n",
       "0     4.8            373  ChIJu_BEcNhnUjoR1nBoaKnbQU8   \n",
       "1     5.0              4  ChIJmzVJsNpnUjoRO-VbI3aMgn0   \n",
       "2     4.9            355  ChIJCbZckZlnUjoRBp3RFB6IV-E   \n",
       "4     2.3              3  ChIJGQF0CEJmUjoRdH35zqWvIeM   \n",
       "5     4.7            276  ChIJWXplDnFlUjoR89bQNddfMSU   \n",
       "\n",
       "                                     Google Maps URL  \\\n",
       "0  https://www.google.com/maps/place/?q=place_id:...   \n",
       "1  https://www.google.com/maps/place/?q=place_id:...   \n",
       "2  https://www.google.com/maps/place/?q=place_id:...   \n",
       "4  https://www.google.com/maps/place/?q=place_id:...   \n",
       "5  https://www.google.com/maps/place/?q=place_id:...   \n",
       "\n",
       "                             full_location  \n",
       "0        Chennai Royapettah Nails n Beyond  \n",
       "1       Chennai Royapettah Nails 'n Beyond  \n",
       "2        Chennai Velachery Nails 'n Beyond  \n",
       "4      Chennai Nungambakkam Nails N Beyond  \n",
       "5  Chennai Anna Nagar West Nails 'n Beyond  "
      ]
     },
     "execution_count": 38,
     "metadata": {},
     "output_type": "execute_result"
    }
   ],
   "source": [
    "result_df.head()"
   ]
  },
  {
   "cell_type": "markdown",
   "id": "c8e15521-0d70-4070-86a8-cb2b12e7c721",
   "metadata": {},
   "source": [
    "### Read Data"
   ]
  },
  {
   "cell_type": "code",
   "execution_count": 39,
   "id": "63d2c5dc-f01e-4114-80bc-c76a184b00e4",
   "metadata": {},
   "outputs": [],
   "source": [
    "import pandas as pd\n",
    "\n",
    "df = pd.read_csv(\"data/nailsnbeyond_locations_metadata.csv\")"
   ]
  },
  {
   "cell_type": "code",
   "execution_count": 40,
   "id": "20473010-f5cb-49ea-bf04-dbd8580e0116",
   "metadata": {},
   "outputs": [
    {
     "data": {
      "text/plain": [
       "10"
      ]
     },
     "execution_count": 40,
     "metadata": {},
     "output_type": "execute_result"
    }
   ],
   "source": [
    "len(df)"
   ]
  },
  {
   "cell_type": "code",
   "execution_count": 41,
   "id": "4cd030c0-0ee0-495e-b268-9d60df396c67",
   "metadata": {},
   "outputs": [
    {
     "data": {
      "text/plain": [
       "1568"
      ]
     },
     "execution_count": 41,
     "metadata": {},
     "output_type": "execute_result"
    }
   ],
   "source": [
    "df[\"Total Reviews\"].sum()"
   ]
  },
  {
   "cell_type": "code",
   "execution_count": null,
   "id": "47f4070c-fe3a-4202-915c-8c7bcf826243",
   "metadata": {},
   "outputs": [],
   "source": []
  },
  {
   "cell_type": "code",
   "execution_count": null,
   "id": "4f68908c-65e2-45a2-a988-dbe9f775dc6f",
   "metadata": {},
   "outputs": [],
   "source": []
  }
 ],
 "metadata": {
  "kernelspec": {
   "display_name": "Python 3 (ipykernel)",
   "language": "python",
   "name": "python3"
  },
  "language_info": {
   "codemirror_mode": {
    "name": "ipython",
    "version": 3
   },
   "file_extension": ".py",
   "mimetype": "text/x-python",
   "name": "python",
   "nbconvert_exporter": "python",
   "pygments_lexer": "ipython3",
   "version": "3.9.6"
  }
 },
 "nbformat": 4,
 "nbformat_minor": 5
}
